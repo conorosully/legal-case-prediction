{
 "cells": [
  {
   "cell_type": "code",
   "execution_count": 1,
   "metadata": {},
   "outputs": [],
   "source": [
    "#Imports\n",
    "import numpy as np\n",
    "import pandas as pd\n",
    "import json\n",
    "import pickle\n",
    "\n",
    "from tqdm import tnrange, tqdm_notebook\n",
    "\n",
    "\n",
    "from sklearn.svm import SVC\n",
    "from sklearn.model_selection import cross_val_score\n",
    "from sklearn.metrics import accuracy_score\n",
    "\n",
    "\n",
    "import functions \n",
    "classif = functions.classification()"
   ]
  },
  {
   "cell_type": "code",
   "execution_count": 2,
   "metadata": {},
   "outputs": [
    {
     "name": "stdout",
     "output_type": "stream",
     "text": [
      "360\n"
     ]
    },
    {
     "data": {
      "text/plain": [
       "'ngram_2000_7_both_none'"
      ]
     },
     "execution_count": 2,
     "metadata": {},
     "output_type": "execute_result"
    }
   ],
   "source": [
    "#To load from pickle file\n",
    "path = \"/Users/conorosully/Documents/Legal-Case-Prediction/data/features/{}.pickle\"\n",
    "\n",
    "features = []\n",
    "with open(path.format('features'), 'rb') as fr:\n",
    "    features = pickle.load(fr)\n",
    "    fr.close()\n",
    "print(len(features))\n",
    "features[0]"
   ]
  },
  {
   "cell_type": "code",
   "execution_count": 3,
   "metadata": {},
   "outputs": [
    {
     "data": {
      "text/plain": [
       "['ngram',\n",
       " '2000',\n",
       " '2',\n",
       " 'procedure',\n",
       " 'none',\n",
       " 0.7482142857142857,\n",
       " 0.8225806451612904]"
      ]
     },
     "execution_count": 3,
     "metadata": {},
     "output_type": "execute_result"
    }
   ],
   "source": [
    "from numpy import inf\n",
    "\n",
    "\n",
    "def k_fold(features,C,cv = 10,kernel='linear'):\n",
    "    \"\"\"\n",
    "    Returns k_fold accuracy for given C parameter\n",
    "    \"\"\"\n",
    "    X = features.drop(columns='target')\n",
    "    X=(X-X.mean())/X.std() #Normalise - REMOVE\n",
    "    X.fillna(value=0,inplace=True)\n",
    "    \n",
    "    y = features['target']\n",
    "    \n",
    "    model = SVC(kernel=kernel, C=C)\n",
    "    scores = cross_val_score(model, X, y, cv=cv)\n",
    "    accuracy = scores.mean()\n",
    "    return accuracy\n",
    "\n",
    "#replace in autoML\n",
    "def trainModel(filename):\n",
    "    path = \"/Users/conorosully/Documents/Legal-Case-Prediction/data/features/{}.csv\"\n",
    "    row = filename.split(\"_\")\n",
    "\n",
    "    train = pd.read_csv(path.format(\"train_\"+filename))\n",
    "    test = pd.read_csv(path.format(\"test_\"+filename))\n",
    "    \n",
    "    #Train Accuracy\n",
    "    train_accuracy = k_fold(train,C=0.1,cv = 10,kernel='linear')\n",
    "    \n",
    "    #Test Accuracy\n",
    "    X_train = train.drop(columns='target')\n",
    "    #X_train.fillna(value=0,inplace=True)\n",
    "    y_train = train['target']\n",
    "    \n",
    "    X_test= test.drop(columns='target')\n",
    "    #X_test.fillna(value=0,inplace=True)\n",
    "    \n",
    "    y_test = test['target'] \n",
    "    \n",
    "    model = SVC(kernel='linear', C=0.1).fit(X_train,y_train)\n",
    "    \n",
    "    predictions = model.predict(X_test)\n",
    "    test_accuracy = accuracy_score(y_test, predictions)\n",
    "     \n",
    "    row = row + [train_accuracy,test_accuracy]\n",
    "    \n",
    "    return row\n",
    "f = features[0]\n",
    "trainModel('ngram_2000_2_procedure_none')"
   ]
  },
  {
   "cell_type": "code",
   "execution_count": 4,
   "metadata": {},
   "outputs": [
    {
     "data": {
      "application/vnd.jupyter.widget-view+json": {
       "model_id": "34c684643ae54437a84a454487613312",
       "version_major": 2,
       "version_minor": 0
      },
      "text/plain": [
       "HBox(children=(IntProgress(value=0, max=720), HTML(value='')))"
      ]
     },
     "metadata": {},
     "output_type": "display_data"
    },
    {
     "name": "stdout",
     "output_type": "stream",
     "text": [
      "\n",
      "720\n"
     ]
    }
   ],
   "source": [
    "path = \"/Users/conorosully/Documents/Legal-Case-Prediction/data/features/{}.csv\"\n",
    "\n",
    "results = []\n",
    "for f in tqdm_notebook(features):\n",
    "    try:\n",
    "        result = trainModel(f)\n",
    "        results.append(result)\n",
    "    except: \n",
    "        print(f)\n",
    "    \n",
    "print(len(results))\n"
   ]
  },
  {
   "cell_type": "code",
   "execution_count": 5,
   "metadata": {},
   "outputs": [
    {
     "data": {
      "text/html": [
       "<div>\n",
       "<style scoped>\n",
       "    .dataframe tbody tr th:only-of-type {\n",
       "        vertical-align: middle;\n",
       "    }\n",
       "\n",
       "    .dataframe tbody tr th {\n",
       "        vertical-align: top;\n",
       "    }\n",
       "\n",
       "    .dataframe thead th {\n",
       "        text-align: right;\n",
       "    }\n",
       "</style>\n",
       "<table border=\"1\" class=\"dataframe\">\n",
       "  <thead>\n",
       "    <tr style=\"text-align: right;\">\n",
       "      <th></th>\n",
       "      <th>type</th>\n",
       "      <th>dimension</th>\n",
       "      <th>article</th>\n",
       "      <th>part</th>\n",
       "      <th>stopwords</th>\n",
       "      <th>train</th>\n",
       "      <th>test</th>\n",
       "    </tr>\n",
       "  </thead>\n",
       "  <tbody>\n",
       "    <tr>\n",
       "      <th>0</th>\n",
       "      <td>ngram</td>\n",
       "      <td>2000</td>\n",
       "      <td>2</td>\n",
       "      <td>both</td>\n",
       "      <td>none</td>\n",
       "      <td>0.812500</td>\n",
       "      <td>0.887097</td>\n",
       "    </tr>\n",
       "    <tr>\n",
       "      <th>1</th>\n",
       "      <td>glove</td>\n",
       "      <td>100</td>\n",
       "      <td>2</td>\n",
       "      <td>both</td>\n",
       "      <td>none</td>\n",
       "      <td>0.736607</td>\n",
       "      <td>0.870968</td>\n",
       "    </tr>\n",
       "    <tr>\n",
       "      <th>2</th>\n",
       "      <td>glove</td>\n",
       "      <td>200</td>\n",
       "      <td>2</td>\n",
       "      <td>both</td>\n",
       "      <td>none</td>\n",
       "      <td>0.679464</td>\n",
       "      <td>0.887097</td>\n",
       "    </tr>\n",
       "    <tr>\n",
       "      <th>3</th>\n",
       "      <td>law</td>\n",
       "      <td>100</td>\n",
       "      <td>2</td>\n",
       "      <td>both</td>\n",
       "      <td>none</td>\n",
       "      <td>0.774107</td>\n",
       "      <td>0.870968</td>\n",
       "    </tr>\n",
       "    <tr>\n",
       "      <th>4</th>\n",
       "      <td>law</td>\n",
       "      <td>200</td>\n",
       "      <td>2</td>\n",
       "      <td>both</td>\n",
       "      <td>none</td>\n",
       "      <td>0.742857</td>\n",
       "      <td>0.919355</td>\n",
       "    </tr>\n",
       "  </tbody>\n",
       "</table>\n",
       "</div>"
      ],
      "text/plain": [
       "    type dimension article  part stopwords     train      test\n",
       "0  ngram      2000       2  both      none  0.812500  0.887097\n",
       "1  glove       100       2  both      none  0.736607  0.870968\n",
       "2  glove       200       2  both      none  0.679464  0.887097\n",
       "3    law       100       2  both      none  0.774107  0.870968\n",
       "4    law       200       2  both      none  0.742857  0.919355"
      ]
     },
     "execution_count": 5,
     "metadata": {},
     "output_type": "execute_result"
    }
   ],
   "source": [
    "path = \"/Users/conorosully/Documents/Legal-Case-Prediction/data/results/{}.csv\"\n",
    "\n",
    "results = pd.DataFrame(results)\n",
    "results.columns = ['type','dimension',\"article\",\"part\",\"stopwords\",\"train\",'test']\n",
    "\n",
    "results.to_csv(path.format(\"results_autoML\"),index=False)\n",
    "\n",
    "results.head()"
   ]
  },
  {
   "cell_type": "code",
   "execution_count": null,
   "metadata": {},
   "outputs": [],
   "source": []
  }
 ],
 "metadata": {
  "kernelspec": {
   "display_name": "Python 3",
   "language": "python",
   "name": "python3"
  },
  "language_info": {
   "codemirror_mode": {
    "name": "ipython",
    "version": 3
   },
   "file_extension": ".py",
   "mimetype": "text/x-python",
   "name": "python",
   "nbconvert_exporter": "python",
   "pygments_lexer": "ipython3",
   "version": "3.6.8"
  }
 },
 "nbformat": 4,
 "nbformat_minor": 2
}

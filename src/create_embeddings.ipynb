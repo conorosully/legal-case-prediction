{
 "cells": [
  {
   "cell_type": "code",
   "execution_count": 56,
   "metadata": {},
   "outputs": [],
   "source": [
    "#Imports\n",
    "import numpy as np\n",
    "import pandas as pd\n",
    "import json\n",
    "import pickle\n",
    "\n",
    "from gensim.models import Word2Vec\n",
    "from gensim.models import Doc2Vec\n",
    "import gensim\n",
    "from gensim.models.doc2vec import TaggedDocument\n",
    "import re\n",
    "\n",
    "from IPython.core.display import display, HTML\n",
    "\n",
    "import HTMLSentenceTokenizer\n",
    "sentence = HTMLSentenceTokenizer.HTMLSentenceTokenizer()\n",
    "from nltk.tokenize import word_tokenize\n",
    "from nltk.corpus import stopwords\n",
    "import ast\n",
    "\n",
    "import tqdm\n",
    "from tqdm import tqdm_notebook\n",
    "\n",
    "import functions \n",
    "clean = functions.clean()"
   ]
  },
  {
   "cell_type": "code",
   "execution_count": 36,
   "metadata": {},
   "outputs": [
    {
     "name": "stdout",
     "output_type": "stream",
     "text": [
      "Index(['id', 'type', 'url', 'doc-name', 'doc-id-label', 'doc-date', 'doc-type',\n",
      "       'type-description', 'vl-type', 'created-at', 'updated-at',\n",
      "       'app-no-parts', 'app-nos', 'articles', 'conclusions', 'courts', 'ecli',\n",
      "       'judgement-date', 'judges', 'last-modified-time', 'nonviolations',\n",
      "       'organisations', 'respondents', 'separate-opinion', 'violations'],\n",
      "      dtype='object')\n",
      "56688\n"
     ]
    }
   ],
   "source": [
    "att = pd.read_csv(\"/Users/conorosully/Documents/Legal-Case-Prediction/data/preclean/case_attributes.csv\",'#')\n",
    "print(att.columns)\n",
    "print(len(att))\n",
    "doc_ids = att['id']\n",
    "\n",
    "path = \"/Users/conorosully/Documents/Legal-Case-Prediction/data/clean/{}.json\"\n",
    "\n",
    "with open(path.format('train_test_split'), 'r') as readfile:\n",
    "    train_test_split = json.load(readfile)\n",
    "    readfile.close()\n"
   ]
  },
  {
   "cell_type": "code",
   "execution_count": 9,
   "metadata": {},
   "outputs": [
    {
     "data": {
      "text/plain": [
       "dict_keys(['v', 'nv', 'v_train', 'nv_train', 'v_test', 'nv_test'])"
      ]
     },
     "execution_count": 9,
     "metadata": {},
     "output_type": "execute_result"
    }
   ],
   "source": [
    "train_test_split['2'].keys()"
   ]
  },
  {
   "cell_type": "code",
   "execution_count": 30,
   "metadata": {},
   "outputs": [
    {
     "data": {
      "text/plain": [
       "3840"
      ]
     },
     "execution_count": 30,
     "metadata": {},
     "output_type": "execute_result"
    }
   ],
   "source": [
    "#Documents to be split\n",
    "# - Documents with ID in train or testing set\n",
    "\n",
    "law_split = []\n",
    "for article in [\"2\",\"3\",\"5\",\"6\",\"8\",\"10\",\"13\",\"14\"]:\n",
    "    IDs = train_test_split[article]\n",
    "    law_split += IDs['v_train'] + IDs['nv_train'] + IDs['v_test']+ IDs['nv_test']\n",
    "law_split = list(set(law_split))\n",
    "len(law_split)"
   ]
  },
  {
   "cell_type": "code",
   "execution_count": 44,
   "metadata": {},
   "outputs": [
    {
     "data": {
      "text/plain": [
       "813"
      ]
     },
     "execution_count": 44,
     "metadata": {},
     "output_type": "execute_result"
    }
   ],
   "source": [
    "#Documents to exclude\n",
    "# - Summary with same name\n",
    "\n",
    "names = att[att['id'].isin(law_split)]['doc-name']\n",
    "summary = att[att['doc-type'] =='CLIN']\n",
    "exclude = summary[summary['doc-name'].isin(names)]['id']\n",
    "exclude = list(exclude)\n",
    "len(exclude)"
   ]
  },
  {
   "cell_type": "code",
   "execution_count": 34,
   "metadata": {
    "collapsed": true
   },
   "outputs": [
    {
     "data": {
      "text/plain": [
       "'<div> <p align=\"center\">FIFTH SECTION</p> <p align=\"center\"></p> <p align=\"center\"></p> <p align=\"center\"><b>CASE OF </b><b>M.K. v. FRANCE</b></p> <p align=\"center\"></p> <p align=\"center\"><i>(Application no. 19522/09)</i></p> <p align=\"center\"></p> <p align=\"center\"></p> <p align=\"center\">JUDGMENT</p> <p align=\"center\"></p> <p align=\"center\"></p> <p align=\"center\">STRASBOURG</p> <p align=\"center\"></p> <p align=\"center\">18 April 2013</p> <p></p> <p align=\"center\"><b><u>FINAL</u></b></p> <p align=\"center\"></p> <p align=\"center\">18/07/2013</p> <p align=\"center\"></p> <p align=\"center\"></p> <p class=\"sub-section\">This judgment is final but it may be subject to editorial revision.</p> </div> <br><div> <p class=\"section\">In the case of M.K. v. France</p> <p>The European Court of Human Rights (Fifth Section) sitting as a Chamber composed of:</p> <p>Mark Villiger<i> President</i><br>Angelika Nußberger<br>Ann Power-Forde<br>André Potocki<br>Paul Lemmens<br>Helena Jäderblom<br>Aleš Pejchal<i> judges</i><br>and Claudia Westerdiek <i>Section Registrar</i></p> <p>Having deliberated in private on 26 March 2013</p> <p>Delivers the following judgment which was adopted on that date:</p> <h3>PROCEDURE</h3> <p>1. The case originated in an application (no. 19522/09) against the French Republic lodged with the Court under Article 34 of the Convention for the Protection of Human Rights and Fundamental Freedoms (“the Convention”) by a French national Mr M.K. (“the applicant”) on 28 February 2009.</p> <p>2. The applicant who had been granted legal aid was represented by Mr C. Meyer a lawyer practising in Strasbourg. The French Government (“the Government”) were represented by their Agent Mrs E. Belliard Director of Legal Affairs with the Ministry of Foreign Affairs.</p> <p>3. The applicant alleged in particular a violation of Article 8 of the Convention on the grounds of the retention of data relating to him in the national fingerprint database.</p> <p>4. On 8 March 2011 the application was communicated to the Government.</p> <p></p> <h3>THE FACTS</h3> <h4>I. THE CIRCUMSTANCES OF THE CASE</h4> <p>5. The applicant was born in 1972 and lives in Paris.</p> <p>6. On 10 February 2004 an investigation was launched in respect of the applicant for book theft. The investigating authorities took his fingerprints.</p> <p>7. By a judgment handed down on 15 February 2005 following an appeal against a sentence delivered on 28 April 2004 by the Paris Criminal Court the Paris Court of Appeal acquitted the applicant.</p> <p>8. On 28 September 2005 the applicant was taken into police custody under the <i>flagrante delicto</i> procedure also for book theft. He was again fingerprinted.</p> <p>9. On 2 February 2006 the proceedings were discontinued by the Paris public prosecutor.</p> <p>10. The fingerprints taken during these proceedings were entered into the national fingerprint database (<i>fichier automatisé des empreintes digitales - </i>“the FAED”).</p> <p>11. In a letter of 21 April 2006 to the Paris public prosecutor the applicant requested the removal of his fingerprints from the FAED.</p> <p>12. On 31 May 2006 the public prosecutor ordered the deletion only of the fingerprints taken during the first set of proceedings. He argued that retaining one specimen of the applicant’s fingerprints was justified in the latter’s interests as it could rule out his involvement in acts committed by a third person stealing his identity.</p> <p>13. On 26 June 2006 the applicant lodged an appeal with the judge of the Paris <i>Tribunal de grande instance</i> with responsibility for civil liberties and detention matters.</p> <p>14. By order of 25 August 2006 the judge with responsibility for civil liberties and detention matters dismissed his appeal. He held that retaining the fingerprints was in the interests of the investigating authorities as it provided them with a database comprising as full a set of references as possible. Furthermore this measure was not prejudicial to the applicant thanks to the confidentiality of the database which prevented any impact on the applicant’s private or social life.</p> <p>15. On 21 December 2006 the President of the Investigation Division of the Paris Court of Appeal upheld this order.</p> <p>16. In a judgment of 1 October 2008 the Court of Cassation dismissed an appeal on points of law by the applicant on the grounds that since the procedure was written he had been in a position to put forward his arguments and take cognisance of the reasons for the public prosecutor’s objection to the complete deletion of the fingerprints. It added that thanks to the evidence produced during the proceedings it could verify that the request had been addressed in accordance with the legislation and international treaties cited by the applicant which included Article 8 of the Convention.</p> <p></p> <h4>II. RELEVANT DOMESTIC AND INTERNATIONAL LAW</h4> <p class=\"section\"> A. Relevant domestic law</p> <p>17. The relevant provisions of Decree No. 87-249 of 8 April 1987 on the national fingerprint database managed by the Ministry of the Interior in the version in force at the material time read as follows:</p> <p align=\"center\"><b>Article 1</b></p> <blockquote>“Under the conditions set out in the present Decree computer processing of finger and palm prints is authorised with an eye to facilitating the national police and gendarmerie services’ efforts to find and identify the perpetrators of serious crimes and other major offences and ensuring the prosecution investigation and trial of cases referred to the judicial authorities.”</blockquote> <p align=\"center\"><b>Article 2</b></p> <blockquote>“Such processing shall be effected by the Central Police Directorate with the Ministry of the Interior. The facility shall be known as the ‘automated fingerprint identification system’.”</blockquote> <p align=\"center\"><b>Article 3</b></p> <blockquote>“The following items may be recorded:</blockquote> <blockquote>1. Prints found during criminal or on-the-spot investigations preliminary inquiries measures ordered by a judge inquiries or investigations seeking to establish the causes of a mysterious or suspicious disappearance as laid down in Articles 74-1 and 80-4 of the Code of Criminal Procedure or the execution of a search warrant issued by a judicial authority;</blockquote> <blockquote>2. Where finger and palm prints found during criminal or on-the-spot investigations preliminary inquiries measures ordered by a judge or the execution of a search warrant issued by a judicial authority vis-à-vis persons against whom there is serious or corroborative circumstantial evidence pointing to their likely involvement as perpetrators or accomplices in the commission of a serious crime or other major offence or persons who have been charged in criminal proceedings and who must be identified;</blockquote> <blockquote>3. Finger and palm prints recorded in prisons in pursuance of the Code of Criminal Procedure with a view to ascertaining the identities of detainees who are being prosecuted for serious crimes or other major offences and to detecting cases of reoffending;</blockquote> <blockquote>4. Finger and palm prints transmitted by international police cooperation agencies or foreign police services in pursuance of international undertakings.”</blockquote> <p align=\"center\"><b>Article 4</b></p> <blockquote>“The recorded finger and palm prints shall be accompanied by the following information:</blockquote> <blockquote>1. Family name forenames date and place of birth parents and sex;</blockquote> <blockquote>2. The agency or service which initiated the entry;</blockquote> <blockquote>3. The date and place of establishment of the identification form;</blockquote> <blockquote>4. The nature of the case and reference of the proceedings;</blockquote> <blockquote>5. Police photographs;</blockquote> <blockquote>6. In the case of prints transmitted as provided for in Article 3-4 the origin of the information and date of its recording in the computer file.</blockquote> <blockquote>Recorded fingerprints shall be accompanied by the following information:</blockquote> <blockquote>1. The place and date of fingerprinting;</blockquote> <blockquote>2. The agency or service carrying out the fingerprinting;</blockquote> <blockquote>3. The date and place of establishment of the form containing the copies of the fingerprints;</blockquote> <blockquote>4. The nature of the case and reference of the proceedings;</blockquote> <blockquote>5. The origin of the information and the date when it was recorded in the computerised file.”</blockquote> <p align=\"center\"><b>Article 5</b></p> <blockquote>“The information recorded shall be retained for a maximum period of twenty-five years from the establishment of the identification form unless it has been previously deleted under the conditions set out in Articles 7 and 7-1 or because the department responsible for processing has been notified of the death of the data subject or in the case of a missing person his or her discovery.</blockquote> <blockquote>...”</blockquote> <p align=\"center\"><b>Article 7</b></p> <blockquote>“The processing in question shall be supervised by the public prosecutor at the Court of Appeal in whose judicial district the department responsible for processing is located.</blockquote> <blockquote>The public prosecutor may of his or her own motion and without prejudice to the supervision conducted by the National Commission on Data Processing and Civil Liberties under the above-mentioned Law of 6 January 1978 order the deletion of information whose retention is manifestly unnecessary in the light of the purpose of the processing in question.</blockquote> <blockquote>The body responsible for managing the file shall transmit to the prosecutor and the National Commission on Data Processing and Civil Liberties an annual activity report describing <i>inter alia</i> the results of the file updating and clearance operations.”</blockquote> <p align=\"center\"><b>Article 7-1</b></p> <blockquote>“Prints collected under the conditions mentioned in Article 3 point (2) may be deleted at the request of the person concerned where their retention has become unnecessary for the purposes of the database. The public prosecutor attached to the court under whose jurisdiction the procedure giving rise to the registration was conducted shall be responsible for ordering such deletion.</blockquote> <blockquote>The deletion request must be submitted in a registered letter with a form for acknowledgment of receipt or by declaration to the registry failing which it shall be inadmissible. The request shall be directly addressed to the public prosecutor holding responsibility by virtue of the provisions of the previous paragraph. It may also be sent to the public prosecutor with responsibility for the place of residence of the person concerned who shall then transmit it to the relevant public prosecutor.</blockquote> <blockquote>The prosecutor in question shall notify the person concerned of his or her decision by registered letter within three months of the receipt of the request either by himself or by the public prosecutor of the place of residence of the person concerned.</blockquote> <blockquote>In the absence of a reply within this time-limit or where the prosecutor does not order the deletion the person in question may apply to the judge with responsibility for civil liberties and detention matters within ten days by registered letter with a form for acknowledgment of receipt or by declaration to the registry.</blockquote> <blockquote>Having requested the public prosecutor’s written submissions the judge with responsibility for civil liberties and detention matters shall issue a reasoned decision within two months. The decision shall be notified to the public prosecutor and by registered letter to the person concerned.</blockquote> <blockquote>Where the judge responsible for pre-trial detention fails to issue an order within the two-month time-limit or if the order refuses the deletion the person in question may within ten days apply to the president of the Investigation Division by registered letter with a form for acknowledgment of receipt or by declaration to the registry. The objection must be accompanied by reasons if it is to be admissible.</blockquote> <blockquote>In the case of an order prescribing deletion the public prosecutor may also within ten days lodge an objection to the decision with the president of the Investigation Division. This objection shall suspend the execution of the decision.</blockquote> <blockquote>The president of the Investigation Division shall adjudicate after having requested the prosecutor’s written submissions by means of a reasoned order within three months. Such order shall be served on the public prosecutor and by registered letter to the person concerned. An appeal to the Court of Cassation against the order may be lodged only if the order fails to satisfy the formal requirements to be legally valid.”</blockquote> <p align=\"center\"><b>Article 8</b></p> <blockquote>“Only duly authorised officials of the criminal identification office of the Ministry of the Interior and of the National Gendarmerie investigation units may access the information recorded and carry out identification operations at the request of the judicial authorities or of police or gendarmerie officers.”</blockquote> <p>18. Article 55-1 of the Code of Criminal Procedure provides as follows:</p> <p align=\"center\"><b>Article 55-1</b></p> <blockquote>“A senior law-enforcement officer may carry out or supervise the taking of non-intimate samples from any person able to provide information about the offence in question or from any person against whom there exist one or more plausible reasons to suspect that he has committed or attempted to commit an offence in order to carry out technical and scientific tests comparing them with traces or evidence obtained for the purposes of the investigation.</blockquote> <blockquote>He shall carry out or oversee the identification measures – in particular the taking of fingerprints palm prints or photographs - necessary for supplying and consulting information in the police databases and adding information to them in accordance with the regulations applicable to the database in question.</blockquote> <blockquote>Refusal by a person suspected on one or more reasonable grounds of having committed or attempted to commit an offence to allow the samples ordered by the senior law-enforcement officer to be taken as provided for in the first two paragraphs above shall be punished by a year’s imprisonment and by a fine of 15000 euros.”</blockquote> <p class=\"section\">B. Relevant international law</p> <p>19. The relevant international material is outlined in the case of <i>S. and Marper v. the United Kingdom</i> [GC] (nos. 30562/04 and 30566/04 §§ 41-42 and 50-53 ECHR 2008).</p> <p></p> <h4>'"
      ]
     },
     "execution_count": 34,
     "metadata": {},
     "output_type": "execute_result"
    }
   ],
   "source": [
    "def splitLaw(case):\n",
    "    \"\"\"\n",
    "    Returns case without law section\n",
    "    \"\"\"\n",
    "    split_text = case.split('THE LAW',maxsplit=1)\n",
    "    return split_text[0]\n",
    "case = clean.getCase(law_split[0])[law_split[0]]\n",
    "splitLaw(case)"
   ]
  },
  {
   "cell_type": "markdown",
   "metadata": {},
   "source": [
    "To avoide data leakage:\n",
    "- Exclude the law and verdict section of any judgement used in train or test set. (3840)\n",
    "- Exclude the sumamry of any judgemtn used in train or test set. \n",
    "\n",
    "All the other documents are used to create word2vec and doc2vec embeddingsm"
   ]
  },
  {
   "cell_type": "markdown",
   "metadata": {},
   "source": [
    "# word2vec"
   ]
  },
  {
   "cell_type": "code",
   "execution_count": null,
   "metadata": {},
   "outputs": [],
   "source": [
    "# - take case\n",
    "# - if ID remove law\n",
    "# - 3 stopword removal\n",
    "# - dump each to a pickel file"
   ]
  },
  {
   "cell_type": "code",
   "execution_count": 57,
   "metadata": {},
   "outputs": [
    {
     "data": {
      "application/vnd.jupyter.widget-view+json": {
       "model_id": "b6fc61ba00184d8b9cb5734396ceaca2",
       "version_major": 2,
       "version_minor": 0
      },
      "text/plain": [
       "HBox(children=(IntProgress(value=0, max=56688), HTML(value='')))"
      ]
     },
     "metadata": {},
     "output_type": "display_data"
    },
    {
     "name": "stdout",
     "output_type": "stream",
     "text": [
      "\n"
     ]
    }
   ],
   "source": [
    "path = \"/Users/conorosully/Documents/Legal-Case-Prediction/data/preclean/{}\"\n",
    "\n",
    "with open(path.format('sentence_none.pickle'), 'wb') as f:\n",
    "    for ID in tqdm_notebook(doc_ids):\n",
    "        doc = clean.getCase(ID)[ID]\n",
    "\n",
    "        if ID in law_split:\n",
    "            doc = splitLaw(doc)\n",
    "\n",
    "        if ID not in exclude:\n",
    "            parsed_sentences = sentence.feed(doc)\n",
    "            for sent in parsed_sentences:\n",
    "                tokens = word_tokenize(sent)\n",
    "\n",
    "                tokens = [word for word in tokens if word.isalpha()]\n",
    "                tokens = [w.lower() for w in tokens]\n",
    "                if len(tokens) > 2:\n",
    "                    pickle.dump(tokens,f)\n",
    "                \n",
    "    f.close()"
   ]
  },
  {
   "cell_type": "code",
   "execution_count": 58,
   "metadata": {},
   "outputs": [
    {
     "name": "stdout",
     "output_type": "stream",
     "text": [
      "4795918\n"
     ]
    }
   ],
   "source": [
    "#To load from pickle file\n",
    "sentences = []\n",
    "with open(path.format('sentence_none.pickle'), 'rb') as fr:\n",
    "    try:\n",
    "        while True:\n",
    "            sentences.append(pickle.load(fr))\n",
    "    except EOFError:\n",
    "        pass\n",
    "\n",
    "print(len(sentences))\n",
    "#print(documents[0])"
   ]
  },
  {
   "cell_type": "code",
   "execution_count": null,
   "metadata": {},
   "outputs": [],
   "source": [
    "\"\"\"stopwords = stopwords.words('english')\n",
    "\n",
    "path = \"/Users/conorosully/Documents/Legal-Case-Prediction/data/preclean/{}\"\n",
    "\n",
    "with open(path.format('sentence_english.pickle'), 'wb') as f:\n",
    "    tokens = [word for word in tokens if word not in stopwords]\"\"\""
   ]
  },
  {
   "cell_type": "code",
   "execution_count": 60,
   "metadata": {},
   "outputs": [
    {
     "data": {
      "application/vnd.jupyter.widget-view+json": {
       "model_id": "6721dea3e9e445ce82d5fc122c052cda",
       "version_major": 2,
       "version_minor": 0
      },
      "text/plain": [
       "HBox(children=(IntProgress(value=0, max=4795918), HTML(value='')))"
      ]
     },
     "metadata": {},
     "output_type": "display_data"
    },
    {
     "name": "stdout",
     "output_type": "stream",
     "text": [
      "\n",
      "80757041\n"
     ]
    }
   ],
   "source": [
    "count = 0\n",
    "for s in tqdm_notebook(sentences):\n",
    "    count += len(s)\n",
    "print(count) #Number of unique tokens"
   ]
  },
  {
   "cell_type": "markdown",
   "metadata": {},
   "source": [
    "#### Create embeddings"
   ]
  },
  {
   "cell_type": "code",
   "execution_count": 67,
   "metadata": {},
   "outputs": [
    {
     "name": "stderr",
     "output_type": "stream",
     "text": [
      "/Users/conorosully/miniconda3/lib/python3.6/site-packages/smart_open/smart_open_lib.py:398: UserWarning: This function is deprecated, use smart_open.open instead. See the migration notes for details: https://github.com/RaRe-Technologies/smart_open/blob/master/README.rst#migrating-to-the-new-open-function\n",
      "  'See the migration notes for details: %s' % _MIGRATION_NOTES_URL\n"
     ]
    },
    {
     "name": "stdout",
     "output_type": "stream",
     "text": [
      "100\n",
      "200\n"
     ]
    }
   ],
   "source": [
    "path = \"/Users/conorosully/Documents/Legal-Case-Prediction/data/embeddings/{}\"\n",
    "\n",
    "for s in [100,200]:\n",
    "    # train model\n",
    "    model = Word2Vec(sentences, min_count=10,size=s)\n",
    "\n",
    "    words = list(model.wv.vocab)\n",
    "    #print(model['case'])\n",
    "    name = 'echt2vec_{}.txt'.format(s)\n",
    "    model.save(path.format(name))\n",
    "    print(s)"
   ]
  },
  {
   "cell_type": "code",
   "execution_count": null,
   "metadata": {},
   "outputs": [],
   "source": [
    "new_model = Word2Vec.load(path.format('echt2vec_100.txt'))\n",
    "print(new_model)\n",
    "print(new_model['the'])"
   ]
  },
  {
   "cell_type": "markdown",
   "metadata": {},
   "source": [
    "# doc2vec"
   ]
  },
  {
   "cell_type": "code",
   "execution_count": null,
   "metadata": {},
   "outputs": [],
   "source": [
    "#GOOGLE BEST PRACTISES"
   ]
  },
  {
   "cell_type": "code",
   "execution_count": null,
   "metadata": {},
   "outputs": [],
   "source": [
    "# Create documents from all judgements with 3 versions: none, english and legal\n",
    "# - For each text json\n",
    "# - If ID: exclude else full\n",
    "# - dump to file"
   ]
  },
  {
   "cell_type": "code",
   "execution_count": 64,
   "metadata": {},
   "outputs": [
    {
     "data": {
      "application/vnd.jupyter.widget-view+json": {
       "model_id": "da7ee5b3e1124e03a9c08101fdb3baea",
       "version_major": 2,
       "version_minor": 0
      },
      "text/plain": [
       "HBox(children=(IntProgress(value=0, max=56688), HTML(value='')))"
      ]
     },
     "metadata": {},
     "output_type": "display_data"
    },
    {
     "name": "stdout",
     "output_type": "stream",
     "text": [
      "\n"
     ]
    }
   ],
   "source": [
    "#create docuemnts\n",
    "with open(path.format('documents_none.pickle'), 'wb') as f:\n",
    "    \n",
    "    for ID in tqdm_notebook(doc_ids):\n",
    "        \n",
    "        doc = clean.getCase(ID)[ID]\n",
    "        \n",
    "        if ID in law_split:\n",
    "            doc = splitLaw(doc)\n",
    "\n",
    "        if ID not in exclude:\n",
    "            parsed_sentences = sentence.feed(doc)\n",
    "\n",
    "            document = []\n",
    "            for sent in parsed_sentences:\n",
    "\n",
    "                tokens = word_tokenize(sent)\n",
    "                tokens = [word for word in tokens if word.isalpha()]\n",
    "                tokens = [w.lower() for w in tokens]\n",
    "                document += tokens\n",
    "        \n",
    "            pickle.dump(document,f)\n",
    "                \n",
    "f.close()"
   ]
  },
  {
   "cell_type": "code",
   "execution_count": 65,
   "metadata": {},
   "outputs": [
    {
     "name": "stdout",
     "output_type": "stream",
     "text": [
      "0 5000 10000 15000 20000 25000 30000 35000 40000 45000 50000 55000 55875\n"
     ]
    }
   ],
   "source": [
    "#To load from pickle file\n",
    "documents = []\n",
    "count = 0\n",
    "with open(path.format('documents_none.pickle'), 'rb') as fr:\n",
    "    try:\n",
    "        while True:\n",
    "            documents.append(pickle.load(fr))\n",
    "            if count%5000 == 0:\n",
    "                print(count, end=\" \")\n",
    "            count += 1\n",
    "    except EOFError:\n",
    "        pass\n",
    "\n",
    "print(len(documents))\n",
    "#print(documents[0])"
   ]
  },
  {
   "cell_type": "code",
   "execution_count": 66,
   "metadata": {},
   "outputs": [
    {
     "data": {
      "application/vnd.jupyter.widget-view+json": {
       "model_id": "ec7ab843d7fa4b8da2ba738de6d14cf5",
       "version_major": 2,
       "version_minor": 0
      },
      "text/plain": [
       "HBox(children=(IntProgress(value=1, bar_style='info', max=1), HTML(value='')))"
      ]
     },
     "metadata": {},
     "output_type": "display_data"
    },
    {
     "name": "stdout",
     "output_type": "stream",
     "text": [
      "\n"
     ]
    }
   ],
   "source": [
    "documents = [TaggedDocument(doc, [i]) \n",
    "             for i, doc in tqdm_notebook(enumerate(documents))]"
   ]
  },
  {
   "cell_type": "markdown",
   "metadata": {},
   "source": [
    "We use these hyper-parameter values for WIKI (APNEWS): vector size = 300 (300), window size = 15 (15),\n",
    "min count = 20 (10), sub-sampling threshold = 10−5\n",
    "(10−5),\n",
    "negative sample = 5, epoch = 20 (30). After removing low\n",
    "frequency words, the vocabulary size is approximately 670K\n",
    "for WIKI and 300K for AP-NEWS.\n",
    "10That is, test data is held out and"
   ]
  },
  {
   "cell_type": "code",
   "execution_count": 68,
   "metadata": {},
   "outputs": [
    {
     "name": "stderr",
     "output_type": "stream",
     "text": [
      "/Users/conorosully/miniconda3/lib/python3.6/site-packages/gensim/models/doc2vec.py:366: UserWarning: The parameter `size` is deprecated, will be removed in 4.0.0, use `vector_size` instead.\n",
      "  warnings.warn(\"The parameter `size` is deprecated, will be removed in 4.0.0, use `vector_size` instead.\")\n"
     ]
    },
    {
     "name": "stdout",
     "output_type": "stream",
     "text": [
      "100\n",
      "200\n"
     ]
    }
   ],
   "source": [
    "# define training data\n",
    "path = \"/Users/conorosully/Documents/Legal-Case-Prediction/data/embeddings/{}\"\n",
    "\n",
    "for s in [100,200]:\n",
    "    # train model\n",
    "    model = Doc2Vec(documents, \n",
    "                    size=s, \n",
    "                    window=15, \n",
    "                    min_count=10, \n",
    "                    workers = 4,\n",
    "                    epoch = 20,\n",
    "                    negative = 5)\n",
    "    name = 'doc2vec2_{}'.format(s)\n",
    "    model.save(path.format(name))\n",
    "    print(s)"
   ]
  },
  {
   "cell_type": "code",
   "execution_count": null,
   "metadata": {},
   "outputs": [],
   "source": []
  }
 ],
 "metadata": {
  "kernelspec": {
   "display_name": "Python 3",
   "language": "python",
   "name": "python3"
  },
  "language_info": {
   "codemirror_mode": {
    "name": "ipython",
    "version": 3
   },
   "file_extension": ".py",
   "mimetype": "text/x-python",
   "name": "python",
   "nbconvert_exporter": "python",
   "pygments_lexer": "ipython3",
   "version": "3.6.8"
  }
 },
 "nbformat": 4,
 "nbformat_minor": 2
}

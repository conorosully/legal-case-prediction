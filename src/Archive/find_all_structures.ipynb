{
 "cells": [
  {
   "cell_type": "markdown",
   "metadata": {},
   "source": [
    "# Find All Structure <br>\n",
    "Used to find the remaining structures of judgements not used in previous works"
   ]
  },
  {
   "cell_type": "code",
   "execution_count": 1,
   "metadata": {},
   "outputs": [],
   "source": [
    "#Imports\n",
    "import numpy as np\n",
    "import pandas as pd\n",
    "\n",
    "import json\n",
    "\n",
    "import functions \n",
    "clean = functions.clean()"
   ]
  },
  {
   "cell_type": "code",
   "execution_count": 48,
   "metadata": {},
   "outputs": [
    {
     "name": "stdout",
     "output_type": "stream",
     "text": [
      "procedure\n",
      "facts\n",
      "circumstances\n",
      "relevant\n",
      "law\n",
      "other\n"
     ]
    },
    {
     "data": {
      "text/plain": [
       "['<h3>the law</h3>', '<br>the law</h3>', '<ul><li>the law</li></ul>']"
      ]
     },
     "execution_count": 48,
     "metadata": {},
     "output_type": "execute_result"
    }
   ],
   "source": [
    "path = \"/Users/conorosully/Documents/Legal-Case-Prediction/data/preclean/forms.json\"\n",
    "import json\n",
    "with open(path, 'r') as outfile:\n",
    "    forms = json.load(outfile)\n",
    "    \n",
    "for k in forms.keys():\n",
    "    print(k)\n",
    "    for i,x in enumerate(forms[k]):\n",
    "        x = \" \".join(x.split()).lower()\n",
    "        forms[k][i] = x\n",
    "forms['law']"
   ]
  },
  {
   "cell_type": "code",
   "execution_count": 49,
   "metadata": {},
   "outputs": [
    {
     "name": "stdout",
     "output_type": "stream",
     "text": [
      "55652\n"
     ]
    },
    {
     "data": {
      "text/html": [
       "<div>\n",
       "<style scoped>\n",
       "    .dataframe tbody tr th:only-of-type {\n",
       "        vertical-align: middle;\n",
       "    }\n",
       "\n",
       "    .dataframe tbody tr th {\n",
       "        vertical-align: top;\n",
       "    }\n",
       "\n",
       "    .dataframe thead th {\n",
       "        text-align: right;\n",
       "    }\n",
       "</style>\n",
       "<table border=\"1\" class=\"dataframe\">\n",
       "  <thead>\n",
       "    <tr style=\"text-align: right;\">\n",
       "      <th></th>\n",
       "      <th>id</th>\n",
       "      <th>type</th>\n",
       "      <th>url</th>\n",
       "      <th>doc-name</th>\n",
       "      <th>doc-id-label</th>\n",
       "      <th>doc-date</th>\n",
       "      <th>vl-type</th>\n",
       "      <th>created-at</th>\n",
       "      <th>updated-at</th>\n",
       "      <th>app-no-parts</th>\n",
       "      <th>...</th>\n",
       "      <th>courts</th>\n",
       "      <th>ecli</th>\n",
       "      <th>judgement-date</th>\n",
       "      <th>judges</th>\n",
       "      <th>last-modified-time</th>\n",
       "      <th>nonviolations</th>\n",
       "      <th>organisations</th>\n",
       "      <th>respondents</th>\n",
       "      <th>separate-opinion</th>\n",
       "      <th>violations</th>\n",
       "    </tr>\n",
       "  </thead>\n",
       "  <tbody>\n",
       "    <tr>\n",
       "      <th>0</th>\n",
       "      <td>HUDOC-ECHR-1959-001-49198</td>\n",
       "      <td>eu-chrs</td>\n",
       "      <td>http://hudoc.echr.coe.int/app/conversion/docx/...</td>\n",
       "      <td>greece &lt;br&gt;against&lt;br&gt; the united kingdom</td>\n",
       "      <td>176/56</td>\n",
       "      <td>1959-04-20</td>\n",
       "      <td>eu_chr</td>\n",
       "      <td>2017-09-18T10:01:36.112Z</td>\n",
       "      <td>2018-10-26T16:53:58.954Z</td>\n",
       "      <td>['176', '56']</td>\n",
       "      <td>...</td>\n",
       "      <td>NaN</td>\n",
       "      <td>NaN</td>\n",
       "      <td>NaN</td>\n",
       "      <td>NaN</td>\n",
       "      <td>2018-10-07</td>\n",
       "      <td>NaN</td>\n",
       "      <td>['Committee of Ministers']</td>\n",
       "      <td>['GBR']</td>\n",
       "      <td>NaN</td>\n",
       "      <td>NaN</td>\n",
       "    </tr>\n",
       "  </tbody>\n",
       "</table>\n",
       "<p>1 rows × 23 columns</p>\n",
       "</div>"
      ],
      "text/plain": [
       "                          id     type  \\\n",
       "0  HUDOC-ECHR-1959-001-49198  eu-chrs   \n",
       "\n",
       "                                                 url  \\\n",
       "0  http://hudoc.echr.coe.int/app/conversion/docx/...   \n",
       "\n",
       "                                    doc-name doc-id-label    doc-date vl-type  \\\n",
       "0  greece <br>against<br> the united kingdom       176/56  1959-04-20  eu_chr   \n",
       "\n",
       "                 created-at                updated-at   app-no-parts  ...  \\\n",
       "0  2017-09-18T10:01:36.112Z  2018-10-26T16:53:58.954Z  ['176', '56']  ...   \n",
       "\n",
       "  courts ecli judgement-date judges last-modified-time nonviolations  \\\n",
       "0    NaN  NaN            NaN    NaN         2018-10-07           NaN   \n",
       "\n",
       "                organisations respondents separate-opinion violations  \n",
       "0  ['Committee of Ministers']     ['GBR']              NaN        NaN  \n",
       "\n",
       "[1 rows x 23 columns]"
      ]
     },
     "execution_count": 49,
     "metadata": {},
     "output_type": "execute_result"
    }
   ],
   "source": [
    "# Get attributes\n",
    "att = pd.read_csv(\"/Users/conorosully/Documents/Legal-Case-Prediction/data/preclean/case_attributes.csv\",'#')\n",
    "#print(att.columns)\n",
    "#att['doc-name'] = [transformName(x) for x in att['doc-name']]\n",
    "print(len(att))\n",
    "att.head(1)"
   ]
  },
  {
   "cell_type": "code",
   "execution_count": 32,
   "metadata": {},
   "outputs": [
    {
     "name": "stdout",
     "output_type": "stream",
     "text": [
      "<h3>procedure</h3>#\n",
      "<h3>procedure</h3>#\n",
      "<h3>the facts</h3>#\n",
      "<h3>the law</h3>#\n",
      "<h3>for these reasons the court unanimously</h3>#\n",
      "<h3>\n",
      "['<h3>procedure</h3>', '<h3>procedure</h3>', '<h3>the facts</h3>', '<h3>the law</h3>', '<h3>for these reasons the court unanimously</h3>']\n",
      "<h4>i. the circumstances of the case</h4>#\n",
      "<h4>ii. relevant domestic law and practice</h4>#\n",
      "<h4>i. alleged violation of article 3 of the convention</h4>#\n",
      "<h4>ii. alleged violation of article 6 of the convention</h4>#\n",
      "<h4>iii. application of article 41 of the convention</h4>#\n",
      "<h4>\n",
      "Can NOT clean case\n",
      "\n",
      "True\n"
     ]
    },
    {
     "data": {
      "text/plain": [
       "['<h3>procedure</h3>',\n",
       " '<h3>the facts</h3>',\n",
       " '<h4>i. the circumstances of the case</h4>',\n",
       " '<h4>ii. relevant domestic law and practice</h4>',\n",
       " '<h3>the law</h3>',\n",
       " '<h3>for these reasons the court unanimously</h3>']"
      ]
     },
     "execution_count": 32,
     "metadata": {},
     "output_type": "execute_result"
    }
   ],
   "source": [
    "ID =\"HUDOC-ECHR-2009-001-93695\"\n",
    "case = clean.getCase(ID)[ID]\n",
    "clean.printHeadings(case,\"h3\")\n",
    "print(clean.findHeadings(case,\"h3\"))\n",
    "clean.printHeadings(case,\"h4\")\n",
    "\n",
    "try: \n",
    "    clean.cleanCase(case,form)\n",
    "    print(\"Can clean case\")\n",
    "except:\n",
    "    print(\"Can NOT clean case\")\n",
    "\n",
    "print()\n",
    "form = clean.getForm(case,forms)\n",
    "print(clean.checkForm(form))\n",
    "form"
   ]
  },
  {
   "cell_type": "code",
   "execution_count": 9,
   "metadata": {},
   "outputs": [],
   "source": [
    "def isJudgement(case):\n",
    "    if 'judgment' not in case:\n",
    "        return False\n",
    " \n",
    "    if (\"<h3>procedure</h3>\" in case) or (\"<h3>procedure”</h3>\" in case):\n",
    "        True\n",
    "    else:\n",
    "        return False\n",
    "    \n",
    "    if (\"<br>the facts</h3>\" in case) or (\"<h3>the facts</h3>\" in case) or (\"<p>the facts</p>\" in case):\n",
    "        True\n",
    "    else:\n",
    "        return False\n",
    "    \n",
    "    if (\"<h3>the law</h3>\" in case) or (\"<br>the law</h3>\" in case) or (\"<ul><li>the law</li></ul>\"  in case):\n",
    "        True\n",
    "    else:\n",
    "        return False\n",
    "    \n",
    "    EXCLUDE = [\"<h3>complaint</h3>\",\"<h3>complaints</h3>\"]\n",
    "    \n",
    "    for e in EXCLUDE:\n",
    "        if e in case:\n",
    "            return False\n",
    "\n",
    "    return True"
   ]
  },
  {
   "cell_type": "code",
   "execution_count": 50,
   "metadata": {},
   "outputs": [
    {
     "name": "stdout",
     "output_type": "stream",
     "text": [
      "8685\n",
      "3647\n"
     ]
    }
   ],
   "source": [
    "#Count number of missing judgements\n",
    "ID = att['id']\n",
    "haveForms = [] #List of ID that have judgement forms\n",
    "\n",
    "count = 1;\n",
    "for i in ID:\n",
    "    case = clean.getCase(i)[i]    \n",
    "    if isJudgement(case):\n",
    "        form = clean.getForm(case,forms)\n",
    "        if clean.checkForm(form) == False:            \n",
    "            count +=1 #Add 1 to count if document is a judgement and the form is missing\n",
    "        else:\n",
    "            haveForms.append(i)\n",
    "print(len(haveForms))\n",
    "print(count)  #4150 - 4132 - 4091 - 4048 - 4045 - 4040 - 3696 - 3647"
   ]
  },
  {
   "cell_type": "code",
   "execution_count": 51,
   "metadata": {},
   "outputs": [
    {
     "name": "stdout",
     "output_type": "stream",
     "text": [
      "HUDOC-ECHR-2009-001-93695\n"
     ]
    }
   ],
   "source": [
    "#Test if can clean all cases:\n",
    "for i in haveForms:\n",
    "    case = clean.getCase(i)[i]\n",
    "    form = clean.getForm(case,forms)\n",
    "    try: \n",
    "        clean.cleanCase(case,form)\n",
    "    except:\n",
    "        print(i)"
   ]
  },
  {
   "cell_type": "code",
   "execution_count": 45,
   "metadata": {},
   "outputs": [
    {
     "name": "stdout",
     "output_type": "stream",
     "text": [
      "1 HUDOC-ECHR-1968-001-57525\n",
      "++++++++++++++++++++++++++++++\n",
      "<h3>procedure</h3>#\n",
      "<h3>the facts</h3>#\n",
      "<h3>the laws on the use of languages in education in belgium</h3>#\n",
      "<h3>the law</h3>#\n",
      "<h3>for these reasons the court</h3>#\n",
      "<h3>\n",
      "<h4>ii. the six questions referred to the court</h4>#\n",
      "<h4>\n",
      "\n",
      "['<h3>procedure</h3>', '<h3>the facts</h3>', 'none', 'none', '<h3>the law</h3>', '<h3>for these reasons the court</h3>']\n",
      "++++++++++++++++++++++++++++++\n",
      "2 HUDOC-ECHR-1999-001-58227\n",
      "++++++++++++++++++++++++++++++\n",
      "<h3>procedure</h3>#\n",
      "<h3>the facts</h3>#\n",
      "<h3>proceedings before the commission</h3>#\n",
      "<h3>final submissions to the court</h3>#\n",
      "<h3>the law</h3>#\n",
      "<h3>\n",
      "<h4>i.the government’s preliminary objections</h4>#\n",
      "<h4>\n",
      "\n",
      "['<h3>procedure</h3>', '<h3>the facts</h3>', '<p>i.the circumstances of the case</p>', '<p>ii.relevant domestic law and practice</p>', '<h3>the law</h3>', 'none']\n",
      "++++++++++++++++++++++++++++++\n",
      "3 HUDOC-ECHR-1999-001-58247\n",
      "++++++++++++++++++++++++++++++\n",
      "<h3>procedure</h3>#\n",
      "<h3>the facts</h3>#\n",
      "<h3>proceedings before the commission</h3>#\n",
      "<h3>the law</h3>#\n",
      "<h3>\n",
      "<h4>\n",
      "\n",
      "['<h3>procedure</h3>', '<h3>the facts</h3>', 'none', 'none', '<h3>the law</h3>', '<p>for these reasons the court unanimously</p>']\n",
      "++++++++++++++++++++++++++++++\n",
      "4 HUDOC-ECHR-1999-001-58262\n",
      "++++++++++++++++++++++++++++++\n",
      "<h3>procedure</h3>#\n",
      "<h3>the facts</h3>#\n",
      "<h3>proceedings before the commission</h3>#\n",
      "<h3> <br>final submissions to the court </h3>#\n",
      "<h3>the law</h3>#\n",
      "<h3>\n",
      "<h4>\n",
      "\n",
      "['<h3>procedure</h3>', '<h3>the facts</h3>', '<p>i. the circumstances of the case</p>', '<p>ii. relevant domestic law</p>', '<h3>the law</h3>', 'none']\n",
      "++++++++++++++++++++++++++++++\n",
      "5 HUDOC-ECHR-1999-001-58287\n",
      "++++++++++++++++++++++++++++++\n",
      "<h3>procedure</h3>#\n",
      "<h3>the facts</h3>#\n",
      "<h3>proceedings before the commission</h3>#\n",
      "<h3>final submissions to the court</h3>#\n",
      "<h3>the law</h3>#\n",
      "<h3>for these reasons the court unanimously</h3>#\n",
      "<h3>\n",
      "<h4>ii. alleged violation of article 6 § 1 of the convention</h4>#\n",
      "<h4>iii. application of article 41 of the convention</h4>#\n",
      "<h4>\n",
      "\n",
      "['<h3>procedure</h3>', '<h3>the facts</h3>', 'none', 'none', '<h3>the law</h3>', '<h3>for these reasons the court unanimously</h3>']\n",
      "++++++++++++++++++++++++++++++\n",
      "6 HUDOC-ECHR-1999-001-58288\n",
      "++++++++++++++++++++++++++++++\n",
      "<h3>procedure</h3>#\n",
      "<h3>the facts</h3>#\n",
      "<h3>proceedings before the commission</h3>#\n",
      "<h3>final submissions to the court</h3>#\n",
      "<h3>the law</h3>#\n",
      "<h3>for these reasons the court</h3>#\n",
      "<h3>\n",
      "<h4>\n",
      "\n",
      "['<h3>procedure</h3>', '<h3>the facts</h3>', 'none', 'none', '<h3>the law</h3>', '<h3>for these reasons the court</h3>']\n",
      "++++++++++++++++++++++++++++++\n",
      "7 HUDOC-ECHR-1999-001-58402\n",
      "++++++++++++++++++++++++++++++\n",
      "<h3>procedure</h3>#\n",
      "<h3>the facts</h3>#\n",
      "<h3>final submissions to the court</h3>#\n",
      "<h3>the law</h3>#\n",
      "<h3>\n",
      "<h4>iii. comparative law: public servants in eec law</h4>#\n",
      "<h4>\n",
      "\n",
      "['<h3>procedure</h3>', '<h3>the facts</h3>', '<p>i. the circumstances of the case</p>', '<p>ii. relevant domestic law</p>', '<h3>the law</h3>', 'none']\n",
      "++++++++++++++++++++++++++++++\n",
      "8 HUDOC-ECHR-1999-001-58909\n",
      "++++++++++++++++++++++++++++++\n",
      "<h3>procedure</h3>#\n",
      "<h3>the facts</h3>#\n",
      "<h3> <br>proceedings before the commission</h3>#\n",
      "<h3>final submissions to the court</h3>#\n",
      "<h3>the law</h3>#\n",
      "<h3>\n",
      "<h4>\n",
      "\n",
      "['<h3>procedure</h3>', '<h3>the facts</h3>', '<p>i.the circumstances of the case</p>', '<p>ii.relevant domestic law </p>', '<h3>the law</h3>', 'none']\n",
      "++++++++++++++++++++++++++++++\n",
      "9 HUDOC-ECHR-1999-001-58911\n",
      "++++++++++++++++++++++++++++++\n",
      "<h3>procedure</h3>#\n",
      "<h3>the facts</h3>#\n",
      "<h3>proceedings before the commission</h3>#\n",
      "<h3>final submissions to the court</h3>#\n",
      "<h3>the law</h3>#\n",
      "<h3>for these reasons the court </h3>#\n",
      "<h3>\n",
      "<h4>the circumstances of the case</h4>#\n",
      "<h4>i.alleged violation of article 6 § 1 of the convention</h4>#\n",
      "<h4>ii.alleged violation of article 8 of the convention</h4>#\n",
      "<h4>iii.application of article 41 of the convention</h4>#\n",
      "<h4>\n",
      "\n",
      "['<h3>procedure</h3>', '<h3>the facts</h3>', 'none', 'none', '<h3>the law</h3>', '<h3>for these reasons the court </h3>']\n",
      "++++++++++++++++++++++++++++++\n",
      "10\n"
     ]
    }
   ],
   "source": [
    "ID = att['id']\n",
    "count = 1;\n",
    "for i in ID:\n",
    "    case = clean.getCase(i)[i]\n",
    "    if isJudgement(case):\n",
    "        \n",
    "        form = clean.getForm(case,forms)\n",
    "        if clean.checkForm(form) == False:\n",
    "            print(count, i)\n",
    "            print(\"+\"*30)\n",
    "            clean.printHeadings(case,\"h3\")\n",
    "            clean.printHeadings(case,\"h4\")\n",
    "            print()\n",
    "            print(form)\n",
    "            print(\"+\"*30)\n",
    "            count +=1\n",
    "\n",
    "    if count%10 == 0: break;\n",
    "print(count)"
   ]
  },
  {
   "cell_type": "markdown",
   "metadata": {},
   "source": [
    "### Find possible variations\n"
   ]
  },
  {
   "cell_type": "code",
   "execution_count": 47,
   "metadata": {
    "scrolled": false
   },
   "outputs": [
    {
     "name": "stdout",
     "output_type": "stream",
     "text": [
      "\"<h3> <br>for these reasons the court</h3>\",\n",
      "\"<h3>for these reasons the court unanimously </h3>\",\n",
      "\"<h4>for these reasons the court </h4>\",\n",
      "\"<h3>for these reasons the court:</h3>\",\n",
      "\"<p>for these reasons the court</p>\",\n",
      "\"<h3>for these reasons the court unanimously]</h3>\",\n",
      "\"<h4>for these reasons the court</h4>\",\n",
      "\"<h4>for these reasons the court unanimously</h4>\",\n",
      "\"<h3>for these reasons the court unanimously:</h3>\",\n",
      "\"<p>for these reasons the court </p>\",\n"
     ]
    }
   ],
   "source": [
    "#substrings = [\"i.the circumstances\",\"i. the circumstances\"]\n",
    "#existing = forms['circumstances']\n",
    "\n",
    "#substrings = [\"ii.relevant\",\"ii. relevant\"]\n",
    "#existing = forms['relevant']\n",
    "\n",
    "substrings = [\"for these reasons the court\"]\n",
    "existing = forms['other']\n",
    "\n",
    "ID = att['id']\n",
    "count = 1;\n",
    "new = set()\n",
    "for i in ID:\n",
    "    \n",
    "    case = clean.getCase(i)[i]\n",
    "    form = clean.getForm(case,forms)\n",
    "    if isJudgement(case) and (clean.checkForm(form) == False):\n",
    "        \n",
    "        headings = clean.findHeadings(case,\"h3\") + clean.findHeadings(case,\"h4\")+ clean.findHeadings(case,\"p\")\n",
    "        for h in headings: \n",
    "            for s in substrings:\n",
    "                if (s in h) and (h not in existing) and (len(h) < 50):\n",
    "                    new.add(h)\n",
    "for h in new:               \n",
    "    print('\"{}\",'.format(h))\n"
   ]
  },
  {
   "cell_type": "markdown",
   "metadata": {},
   "source": [
    "# OLD CODE"
   ]
  },
  {
   "cell_type": "code",
   "execution_count": null,
   "metadata": {},
   "outputs": [],
   "source": []
  },
  {
   "cell_type": "code",
   "execution_count": null,
   "metadata": {},
   "outputs": [],
   "source": [
    "FORMS = pd.read_csv(\n",
    "    \"/Users/conorosully/Documents/Legal-Case-Prediction/data/preclean/forms.csv\",sep='#'\n",
    ")\n",
    "\n",
    "forms = FORMS.values\n",
    "print(len(forms))\n",
    "forms[0]\n",
    "\n",
    "PROCEDURE = FORMS['procedure'].unique()\n",
    "FACTS = FORMS['facts'].unique()\n",
    "CIRCUMSTANCES = FORMS['circumstances'].unique()\n",
    "RELEVANT = FORMS['relevant'].unique()\n",
    "LAW = FORMS['law'].unique()\n",
    "OTHER = FORMS['other'].unique()\n",
    "len(LAW)\n",
    "\n",
    "FORMS_DICT = {\"procedure\":list(PROCEDURE),\n",
    "              \"facts\":list(FACTS),\n",
    "              \"circumstances\":list(CIRCUMSTANCES),\n",
    "              \"relevant\":list(RELEVANT),\n",
    "              \"law\":list(LAW),\n",
    "              \"other\":list(OTHER)}\n",
    "FORMS_DICT['law']\n",
    "\n",
    "path = \"/Users/conorosully/Documents/Legal-Case-Prediction/data/preclean/forms.json\"\n",
    "import json\n",
    "with open(path, 'w') as outfile:\n",
    "    #json.dump(FORMS_DICT, outfile)"
   ]
  }
 ],
 "metadata": {
  "kernelspec": {
   "display_name": "Python 3",
   "language": "python",
   "name": "python3"
  },
  "language_info": {
   "codemirror_mode": {
    "name": "ipython",
    "version": 3
   },
   "file_extension": ".py",
   "mimetype": "text/x-python",
   "name": "python",
   "nbconvert_exporter": "python",
   "pygments_lexer": "ipython3",
   "version": "3.6.8"
  }
 },
 "nbformat": 4,
 "nbformat_minor": 2
}

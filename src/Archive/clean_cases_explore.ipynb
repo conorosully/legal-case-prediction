{
 "cells": [
  {
   "cell_type": "code",
   "execution_count": 1,
   "metadata": {},
   "outputs": [],
   "source": [
    "#Imports\n",
    "import numpy as np\n",
    "import pandas as pd\n",
    "from tqdm import tnrange, tqdm_notebook\n",
    "\n",
    "\n",
    "import json\n",
    "from bs4 import BeautifulSoup, SoupStrainer\n",
    "import re\n",
    "\n",
    "import functions \n",
    "clean = functions.clean()"
   ]
  },
  {
   "cell_type": "code",
   "execution_count": 2,
   "metadata": {},
   "outputs": [
    {
     "name": "stdout",
     "output_type": "stream",
     "text": [
      "Index(['id', 'type', 'url', 'doc-name', 'doc-id-label', 'doc-date', 'vl-type',\n",
      "       'created-at', 'updated-at', 'app-no-parts', 'app-nos', 'articles',\n",
      "       'conclusions', 'courts', 'ecli', 'judgement-date', 'judges',\n",
      "       'last-modified-time', 'nonviolations', 'organisations', 'respondents',\n",
      "       'separate-opinion', 'violations'],\n",
      "      dtype='object')\n",
      "55652\n"
     ]
    },
    {
     "data": {
      "text/html": [
       "<div>\n",
       "<style scoped>\n",
       "    .dataframe tbody tr th:only-of-type {\n",
       "        vertical-align: middle;\n",
       "    }\n",
       "\n",
       "    .dataframe tbody tr th {\n",
       "        vertical-align: top;\n",
       "    }\n",
       "\n",
       "    .dataframe thead th {\n",
       "        text-align: right;\n",
       "    }\n",
       "</style>\n",
       "<table border=\"1\" class=\"dataframe\">\n",
       "  <thead>\n",
       "    <tr style=\"text-align: right;\">\n",
       "      <th></th>\n",
       "      <th>id</th>\n",
       "      <th>type</th>\n",
       "      <th>url</th>\n",
       "      <th>doc-name</th>\n",
       "      <th>doc-id-label</th>\n",
       "      <th>doc-date</th>\n",
       "      <th>vl-type</th>\n",
       "      <th>created-at</th>\n",
       "      <th>updated-at</th>\n",
       "      <th>app-no-parts</th>\n",
       "      <th>...</th>\n",
       "      <th>courts</th>\n",
       "      <th>ecli</th>\n",
       "      <th>judgement-date</th>\n",
       "      <th>judges</th>\n",
       "      <th>last-modified-time</th>\n",
       "      <th>nonviolations</th>\n",
       "      <th>organisations</th>\n",
       "      <th>respondents</th>\n",
       "      <th>separate-opinion</th>\n",
       "      <th>violations</th>\n",
       "    </tr>\n",
       "  </thead>\n",
       "  <tbody>\n",
       "    <tr>\n",
       "      <th>0</th>\n",
       "      <td>HUDOC-ECHR-1959-001-49198</td>\n",
       "      <td>eu-chrs</td>\n",
       "      <td>http://hudoc.echr.coe.int/app/conversion/docx/...</td>\n",
       "      <td>greece &lt;br&gt;against&lt;br&gt; the united kingdom</td>\n",
       "      <td>176/56</td>\n",
       "      <td>1959-04-20</td>\n",
       "      <td>eu_chr</td>\n",
       "      <td>2017-09-18T10:01:36.112Z</td>\n",
       "      <td>2018-10-26T16:53:58.954Z</td>\n",
       "      <td>['176', '56']</td>\n",
       "      <td>...</td>\n",
       "      <td>NaN</td>\n",
       "      <td>NaN</td>\n",
       "      <td>NaN</td>\n",
       "      <td>NaN</td>\n",
       "      <td>2018-10-07</td>\n",
       "      <td>NaN</td>\n",
       "      <td>['Committee of Ministers']</td>\n",
       "      <td>['GBR']</td>\n",
       "      <td>NaN</td>\n",
       "      <td>NaN</td>\n",
       "    </tr>\n",
       "  </tbody>\n",
       "</table>\n",
       "<p>1 rows × 23 columns</p>\n",
       "</div>"
      ],
      "text/plain": [
       "                          id     type  \\\n",
       "0  HUDOC-ECHR-1959-001-49198  eu-chrs   \n",
       "\n",
       "                                                 url  \\\n",
       "0  http://hudoc.echr.coe.int/app/conversion/docx/...   \n",
       "\n",
       "                                    doc-name doc-id-label    doc-date vl-type  \\\n",
       "0  greece <br>against<br> the united kingdom       176/56  1959-04-20  eu_chr   \n",
       "\n",
       "                 created-at                updated-at   app-no-parts  ...  \\\n",
       "0  2017-09-18T10:01:36.112Z  2018-10-26T16:53:58.954Z  ['176', '56']  ...   \n",
       "\n",
       "  courts ecli judgement-date judges last-modified-time nonviolations  \\\n",
       "0    NaN  NaN            NaN    NaN         2018-10-07           NaN   \n",
       "\n",
       "                organisations respondents separate-opinion violations  \n",
       "0  ['Committee of Ministers']     ['GBR']              NaN        NaN  \n",
       "\n",
       "[1 rows x 23 columns]"
      ]
     },
     "execution_count": 2,
     "metadata": {},
     "output_type": "execute_result"
    }
   ],
   "source": [
    "att = pd.read_csv(\"/Users/conorosully/Documents/Legal-Case-Prediction/data/preclean/case_attributes.csv\",'#')\n",
    "ID = list(att['id'])\n",
    "print(att.columns)\n",
    "print(len(att))\n",
    "att.head(1)"
   ]
  },
  {
   "cell_type": "code",
   "execution_count": 21,
   "metadata": {},
   "outputs": [
    {
     "name": "stdout",
     "output_type": "stream",
     "text": [
      "8703\n"
     ]
    },
    {
     "data": {
      "text/html": [
       "<div>\n",
       "<style scoped>\n",
       "    .dataframe tbody tr th:only-of-type {\n",
       "        vertical-align: middle;\n",
       "    }\n",
       "\n",
       "    .dataframe tbody tr th {\n",
       "        vertical-align: top;\n",
       "    }\n",
       "\n",
       "    .dataframe thead th {\n",
       "        text-align: right;\n",
       "    }\n",
       "</style>\n",
       "<table border=\"1\" class=\"dataframe\">\n",
       "  <thead>\n",
       "    <tr style=\"text-align: right;\">\n",
       "      <th></th>\n",
       "      <th>id</th>\n",
       "      <th>date</th>\n",
       "      <th>2</th>\n",
       "      <th>3</th>\n",
       "      <th>5</th>\n",
       "      <th>6</th>\n",
       "      <th>7</th>\n",
       "      <th>8</th>\n",
       "      <th>9</th>\n",
       "      <th>10</th>\n",
       "      <th>...</th>\n",
       "      <th>19</th>\n",
       "      <th>34</th>\n",
       "      <th>35</th>\n",
       "      <th>37</th>\n",
       "      <th>41</th>\n",
       "      <th>46</th>\n",
       "      <th>P1</th>\n",
       "      <th>P4</th>\n",
       "      <th>P12</th>\n",
       "      <th>P7</th>\n",
       "    </tr>\n",
       "  </thead>\n",
       "  <tbody>\n",
       "    <tr>\n",
       "      <th>0</th>\n",
       "      <td>HUDOC-ECHR-1999-001-58225</td>\n",
       "      <td>1999-03-25</td>\n",
       "      <td>-1</td>\n",
       "      <td>-1</td>\n",
       "      <td>0</td>\n",
       "      <td>-1</td>\n",
       "      <td>-1</td>\n",
       "      <td>-1</td>\n",
       "      <td>-1</td>\n",
       "      <td>-1</td>\n",
       "      <td>...</td>\n",
       "      <td>-1</td>\n",
       "      <td>-1</td>\n",
       "      <td>-1</td>\n",
       "      <td>-1</td>\n",
       "      <td>2</td>\n",
       "      <td>-1</td>\n",
       "      <td>-1</td>\n",
       "      <td>-1</td>\n",
       "      <td>-1</td>\n",
       "      <td>-1</td>\n",
       "    </tr>\n",
       "    <tr>\n",
       "      <th>1</th>\n",
       "      <td>HUDOC-ECHR-1999-001-58226</td>\n",
       "      <td>1999-03-25</td>\n",
       "      <td>-1</td>\n",
       "      <td>-1</td>\n",
       "      <td>-1</td>\n",
       "      <td>0</td>\n",
       "      <td>-1</td>\n",
       "      <td>-1</td>\n",
       "      <td>-1</td>\n",
       "      <td>-1</td>\n",
       "      <td>...</td>\n",
       "      <td>-1</td>\n",
       "      <td>-1</td>\n",
       "      <td>-1</td>\n",
       "      <td>-1</td>\n",
       "      <td>2</td>\n",
       "      <td>-1</td>\n",
       "      <td>-1</td>\n",
       "      <td>-1</td>\n",
       "      <td>-1</td>\n",
       "      <td>-1</td>\n",
       "    </tr>\n",
       "    <tr>\n",
       "      <th>2</th>\n",
       "      <td>HUDOC-ECHR-1999-001-58227</td>\n",
       "      <td>1999-03-25</td>\n",
       "      <td>-1</td>\n",
       "      <td>-1</td>\n",
       "      <td>-1</td>\n",
       "      <td>2</td>\n",
       "      <td>-1</td>\n",
       "      <td>2</td>\n",
       "      <td>-1</td>\n",
       "      <td>-1</td>\n",
       "      <td>...</td>\n",
       "      <td>-1</td>\n",
       "      <td>-1</td>\n",
       "      <td>2</td>\n",
       "      <td>-1</td>\n",
       "      <td>2</td>\n",
       "      <td>-1</td>\n",
       "      <td>2</td>\n",
       "      <td>-1</td>\n",
       "      <td>-1</td>\n",
       "      <td>-1</td>\n",
       "    </tr>\n",
       "    <tr>\n",
       "      <th>3</th>\n",
       "      <td>HUDOC-ECHR-1999-001-58239</td>\n",
       "      <td>1999-04-29</td>\n",
       "      <td>-1</td>\n",
       "      <td>-1</td>\n",
       "      <td>0</td>\n",
       "      <td>-1</td>\n",
       "      <td>-1</td>\n",
       "      <td>-1</td>\n",
       "      <td>-1</td>\n",
       "      <td>-1</td>\n",
       "      <td>...</td>\n",
       "      <td>-1</td>\n",
       "      <td>-1</td>\n",
       "      <td>2</td>\n",
       "      <td>-1</td>\n",
       "      <td>2</td>\n",
       "      <td>-1</td>\n",
       "      <td>-1</td>\n",
       "      <td>-1</td>\n",
       "      <td>-1</td>\n",
       "      <td>-1</td>\n",
       "    </tr>\n",
       "    <tr>\n",
       "      <th>4</th>\n",
       "      <td>HUDOC-ECHR-1999-001-58251</td>\n",
       "      <td>1999-05-20</td>\n",
       "      <td>0</td>\n",
       "      <td>-1</td>\n",
       "      <td>-1</td>\n",
       "      <td>-1</td>\n",
       "      <td>-1</td>\n",
       "      <td>-1</td>\n",
       "      <td>-1</td>\n",
       "      <td>-1</td>\n",
       "      <td>...</td>\n",
       "      <td>-1</td>\n",
       "      <td>-1</td>\n",
       "      <td>2</td>\n",
       "      <td>-1</td>\n",
       "      <td>2</td>\n",
       "      <td>-1</td>\n",
       "      <td>-1</td>\n",
       "      <td>-1</td>\n",
       "      <td>-1</td>\n",
       "      <td>-1</td>\n",
       "    </tr>\n",
       "  </tbody>\n",
       "</table>\n",
       "<p>5 rows × 24 columns</p>\n",
       "</div>"
      ],
      "text/plain": [
       "                          id        date  2  3  5  6  7  8  9  10  ...  19  \\\n",
       "0  HUDOC-ECHR-1999-001-58225  1999-03-25 -1 -1  0 -1 -1 -1 -1  -1  ...  -1   \n",
       "1  HUDOC-ECHR-1999-001-58226  1999-03-25 -1 -1 -1  0 -1 -1 -1  -1  ...  -1   \n",
       "2  HUDOC-ECHR-1999-001-58227  1999-03-25 -1 -1 -1  2 -1  2 -1  -1  ...  -1   \n",
       "3  HUDOC-ECHR-1999-001-58239  1999-04-29 -1 -1  0 -1 -1 -1 -1  -1  ...  -1   \n",
       "4  HUDOC-ECHR-1999-001-58251  1999-05-20  0 -1 -1 -1 -1 -1 -1  -1  ...  -1   \n",
       "\n",
       "   34  35  37  41  46  P1  P4  P12  P7  \n",
       "0  -1  -1  -1   2  -1  -1  -1   -1  -1  \n",
       "1  -1  -1  -1   2  -1  -1  -1   -1  -1  \n",
       "2  -1   2  -1   2  -1   2  -1   -1  -1  \n",
       "3  -1   2  -1   2  -1  -1  -1   -1  -1  \n",
       "4  -1   2  -1   2  -1  -1  -1   -1  -1  \n",
       "\n",
       "[5 rows x 24 columns]"
      ]
     },
     "execution_count": 21,
     "metadata": {},
     "output_type": "execute_result"
    }
   ],
   "source": [
    "target = pd.read_csv('/Users/conorosully/Documents/Legal-Case-Prediction/data/clean/target.csv')\n",
    "print(len(target))\n",
    "target.head()"
   ]
  },
  {
   "cell_type": "code",
   "execution_count": 3,
   "metadata": {},
   "outputs": [
    {
     "data": {
      "text/plain": [
       "256"
      ]
     },
     "execution_count": 3,
     "metadata": {},
     "output_type": "execute_result"
    }
   ],
   "source": [
    "titles = []\n",
    "\n",
    "with open(\"/Users/conorosully/Documents/Legal-Case-Prediction/data/preclean/titles.txt\"\n",
    "         ) as f:\n",
    "    for line in f:\n",
    "        titles.append(line.rstrip('\\n'))\n",
    "len(titles)"
   ]
  },
  {
   "cell_type": "markdown",
   "metadata": {},
   "source": [
    "### Get Judgment Title Variations"
   ]
  },
  {
   "cell_type": "code",
   "execution_count": 40,
   "metadata": {},
   "outputs": [
    {
     "data": {
      "application/vnd.jupyter.widget-view+json": {
       "model_id": "1de05e7966f847a5b2f2627ea93c54ca",
       "version_major": 2,
       "version_minor": 0
      },
      "text/plain": [
       "HBox(children=(IntProgress(value=0, max=55652), HTML(value='')))"
      ]
     },
     "metadata": {},
     "output_type": "display_data"
    },
    {
     "name": "stdout",
     "output_type": "stream",
     "text": [
      "\n"
     ]
    }
   ],
   "source": [
    "#Get variations of Judgements and other documents \n",
    "judg_variations = []\n",
    "\n",
    "for i in tqdm_notebook(ID):\n",
    "    case = clean.getCase(i)[i]\n",
    "    \n",
    "    soup = BeautifulSoup(case)\n",
    "    titles = soup.find_all(re.compile('^h[1-6]$')) + soup.find_all(\"p\")\n",
    "    for t in titles:\n",
    "        result = re.search('>(.*)<', str(t))\n",
    "        text = result.group(1)\n",
    "        if (\"judgment\" in text) and (len(text)<20):\n",
    "            judg_variations.append(t)\n"
   ]
  },
  {
   "cell_type": "code",
   "execution_count": 11,
   "metadata": {},
   "outputs": [
    {
     "data": {
      "application/vnd.jupyter.widget-view+json": {
       "model_id": "4c1f5518603a45ba924292029419988c",
       "version_major": 2,
       "version_minor": 0
      },
      "text/plain": [
       "HBox(children=(IntProgress(value=0, max=55652), HTML(value='')))"
      ]
     },
     "metadata": {},
     "output_type": "display_data"
    },
    {
     "name": "stdout",
     "output_type": "stream",
     "text": [
      "CASE: HUDOC-ECHR-2005-001-69929\n",
      "================================\n",
      "\n"
     ]
    },
    {
     "data": {
      "text/html": [
       "<div> <p align=\"center\">resolution resdh(2005)63<br>concerning the judgment of the european court of human rights<br>in 58 cases against france (see appendix to this resolution) of excessive length of certain proceedings concerning civil rights and obligations or the determination of criminal charges before the administrative courts</p> <p align=\"center\"></p> <p align=\"center\"><i>(adopted by the committee of ministers on 18 july 2005</i><br><i>at the 933rd meeting of the ministers' deputies)</i></p> <p></p> <p></p> <p>the committee of ministers under the terms of article 46 paragraph 2 of the convention for the protection of human rights and fundamental freedoms as amended by protocol no. 11 (hereinafter referred to as “the convention”)</p> <p></p> <p>having regard to the judgments of the european court of human rights in 58 cases details of which appear in the appendix to this resolution delivered between 4 june 1999 and 5 october 2004 and transmitted to the committee of ministers once they had become final under articles 44 and 46 of the convention;</p> <p></p> <p>recalling that the cases originated in applications against france (see appendix) lodged either with the european commission of human rights under former article 25 of the convention or with the european court under article 34 of the convention and that the court (seised of the cases lodged before the commission under article 5 paragraph 2 of protocol no. 11) declared admissible the complaints relating to the excessive length of certain proceedings concerning civil rights and obligations or the determination of criminal charges before administrative courts;</p> <p></p> <p>recalling that in the cases of sapl and théry the court also declared admissible the applicants' complaints regarding the violation of their right to the peaceful enjoyment of their possessions as a result of the excessive length of the proceedings but found that it was not necessary to examine these complaints in the light of its findings regarding the length of proceedings;</p> <p></p> <p>whereas in its judgments court:</p> <p></p> <p>- held that there had been a violation of article 6 paragraph 1 of the convention;</p> <p></p> <p>- held that the government of the respondent state was to pay the applicants within three months from the date at which the judgments become final certain sums (see appendix) and that simple interest at an annual rate (set by the court in each judgment) would be payable on those sums from the expiry of the above-mentioned three months until settlement;</p> <p></p> <p>- dismissed the remainder of the applicants' claim for just satisfaction;</p> <p></p> <p>having regard to the rules adopted by the committee of ministers concerning the application of article 46 paragraph 2 of the convention;</p> <p></p> <p>having invited the government of the respondent state to inform it of the measures which had been taken in consequence of the judgments having regard to france's obligation under article 46 paragraph 1 of the convention to abide by them;</p> <p></p> <p>whereas during the examination of the cases by the committee of ministers the government of the respondent state indicated that the judgments of the european court had been transmitted to the authorities concerned and in order to remedy as far as possible the consequences of the violations for the applicants (<i>restitutio in integrum)</i> the committee asked for the proceedings still pending at the time of the court's judgments to be accelerated</p> <p></p> <p>whereas during the examination of the case by the committee of ministers the government of the respondent state gave the committee information about the general measures taken to prevent new violations of the same kind as those found in the present judgment; this information appears in the appendix to this resolution;</p> <p></p> <p>having satisfied itself that on the dates mentioned in the appendix the government of the respondent state had paid the applicants the sums provided for in the judgments as well as default interest in cases paid after expiry of the time limit set (see appendix)</p> <p></p> <p>declares after having examined the information supplied by the government of france that it has exercised its functions under article 46 paragraph 2 of the convention in this case.</p> <p></p> <p></p> <p align=\"center\"><b>appendix to resolution resdh((2005)63</b></p> <p align=\"center\"><b>concerning fifty eight cases against france relating to the excessive length of proceedings concerning civil rights and obligations or the determination of criminal charges before the administrative courts</b></p> <p></p> <p class=\"sub-section\">1. details of just satisfaction awarded to the applicants</p> <p></p> <p></p> <p class=\"sub-section\">cases concerning the excessive length of proceedings before administrative courts</p> <p></p> <p class=\"sub-section\">cases brought before the european commission of human rights</p> <p class=\"sub-section\">(former article 25 of the convention)</p> <p></p> <table> <tr> <td><p align=\"center\"><b>case</b></p></td> <td><p align=\"center\"><b>judgment of</b></p></td> <td><p align=\"center\"><b>final on</b></p></td> <td><p align=\"center\"><b>non-pecuniary damages and/or costs</b></p></td> <td><p align=\"center\"><b>payment on</b></p></td> </tr> <tr> <td><p>sapl 37565/97</p></td> <td><p>18/12/2001</p></td> <td><p>18/03/2002</p></td> <td><p>10 500 euros</p></td> <td><p>23/05/2002</p></td> </tr> <tr> <td><p>desmots andré 41358/98</p></td> <td><p>02/07/2002</p></td> <td><p>06/11/2002</p></td> <td><p>6 000 euros</p></td> <td><p>23/05/2003 + interest</p></td> </tr> <tr> <td><p>scotti jean‑claude 43719/98</p></td> <td><p>07/01/2003</p></td> <td><p>21/05/2003</p></td> <td><p>500 euros</p></td> <td><p>12/08/2003 </p></td> </tr> <tr> <td><p>kroliczek mieczyslaw 43969/98</p></td> <td><p>02/07/2002</p></td> <td><p>21/05/2003</p></td> <td><p>7 800 euros</p></td> <td><p>07/07/2003</p></td> </tr> <tr> <td><p>richeux alain 45256/99</p></td> <td><p>12/06/2003</p></td> <td><p>12/09/2003</p></td> <td><p>2 800 euros </p></td> <td><p>27/11/2003</p></td> </tr> <tr> <td> <p>clinique mozart sarl</p> <p>46098/99</p> </td> <td><p>08/06/2004</p></td> <td><p>08/09/2004</p></td> <td><p>9 000 euros</p></td> <td><p>03/12/2004</p></td> </tr> <tr> <td><p>zuili hector et dominique 46820/99</p></td> <td><p>22/07/2003</p></td> <td><p>22/10/2003</p></td> <td><p>9 54346 euros</p></td> <td><p>19/11/2003</p></td> </tr> </table> <p></p> <p class=\"sub-section\">applications brought before the european court of human rights</p> <p class=\"sub-section\">(article 34 of the convention)</p> <p></p> <table> <tr> <td><p align=\"center\"><b>case</b></p></td> <td><p align=\"center\"><b>judgment of</b></p></td> <td><p align=\"center\"><b>final on</b></p></td> <td><p align=\"center\"><b>non-pecuniary damages and/or costs</b></p></td> <td><p align=\"center\"><b>payment on</b></p></td> </tr> <tr> <td><p>faivre jacques 46215/99</p></td> <td><p>17/12/2002</p></td> <td><p>21/05/2003</p></td> <td><p>12 000 euros</p></td> <td><p>01/07/2003</p></td> </tr> <tr> <td><p>verrerie de biot s.a. 46659/99</p></td> <td><p>27/05/2003</p></td> <td><p>27/08/2003</p></td> <td><p>11 700 euros</p></td> <td><p>01/10/2003</p></td> </tr> <tr> <td><p>traore assa 48954/99</p></td> <td><p>17/12/2002</p></td> <td><p>17/03/2003</p></td> <td><p>11 94350 euros</p></td> <td><p>23/05/2003</p></td> </tr> <tr> <td><p>butel patrice 49544/99</p></td> <td><p>12/11/2002</p></td> <td><p>12/02/2003</p></td> <td><p>10 100 euros</p></td> <td><p>11/04/2003</p></td> </tr> <tr> <td><p>heidecker-carpentier christine 50368/99</p></td> <td><p>17/12/2002</p></td> <td><p>17/03/2003</p></td> <td><p>15 525 euros</p></td> <td><p>23/05/2003</p></td> </tr> <tr> <td><p>raitiere paul 51066/99</p></td> <td><p>04/02/2003</p></td> <td><p>04/05/2003</p></td> <td><p>5 000 euros</p></td> <td><p>27/06/2003</p></td> </tr> <tr> <td><p>solana henri 51179/99</p></td> <td><p>19/03/2002</p></td> <td><p>04/09/2002</p></td> <td><p>3 04898 euros</p></td> <td><p>22/04/2003 + interest</p></td> </tr> <tr> <td><p>vieziez jacques 52116/99</p></td> <td><p>15/10/2002</p></td> <td><p>21/05/2003</p></td> <td><p>6 180 euros</p></td> <td><p>23/04/2003</p></td> </tr> <tr> <td> <p>racinet guy</p> <p>53544/99</p> </td> <td><p>23/09/2003</p></td> <td><p>24/03/2004</p></td> <td><p>8 27546 euros</p></td> <td><p>03/12/2004 + interest</p></td> </tr> <tr> <td><p>moufflet claude 53988/00</p></td> <td><p>03/02/2004</p></td> <td><p>14/06/2004</p></td> <td><p>7 500 euros </p></td> <td><p>22/11/2004 + interest</p></td> </tr> <tr> <td><p>bufferne béatrice 54367/00</p></td> <td><p>11/02/2003</p></td> <td><p>09/07/2003</p></td> <td><p>2 000 euros</p></td> <td><p>06/10/2003</p></td> </tr> <tr> <td> <p>maignant hélène</p> <p>54618/00</p> </td> <td><p>21/09/2004</p></td> <td><p>21/12/2004</p></td> <td><p>10 000 euros</p></td> <td><p>04/03/2005</p></td> </tr> <tr> <td><p>appietto michel 56927/00</p></td> <td><p>25/02/2003</p></td> <td><p>09/07/2003</p></td> <td><p>6 200 euros</p></td> <td><p>23/09/2003</p></td> </tr> <tr> <td><p>raitiere michel 57734/00</p></td> <td><p>17/06/2003</p></td> <td><p>24/09/2003</p></td> <td><p>6 000 euros</p></td> <td><p>12/01/2004 + interest</p></td> </tr> <tr> <td><p>benhaim max 58600/00</p></td> <td><p>04/02/2003</p></td> <td><p>04/05/2003</p></td> <td><p>7 000 euros</p></td> <td><p>03/07/2003</p></td> </tr> <tr> <td><p>plot serge 59153/00</p></td> <td><p>17/06/2003</p></td> <td><p>17/09/2003</p></td> <td><p>6 100 euros</p></td> <td><p>01/10/2003</p></td> </tr> <tr> <td><p>perhirin jean 60545/00</p></td> <td><p>04/02/2003</p></td> <td><p>21/05/2003</p></td> <td><p>3 500 euros</p></td> <td><p>06/10/2003 + interest</p></td> </tr> <tr> <td><p>sellier françoise 60992/00</p></td> <td><p>23/09/2003</p></td> <td><p>23/12/2003</p></td> <td><p>6 750 euros</p></td> <td><p>09/04/2004 + interest</p></td> </tr> <tr> <td><p>jarlan christophe 62274/00</p></td> <td><p>15/04/2003</p></td> <td><p>15/07/2003</p></td> <td><p>5 100 euros</p></td> <td><p>12/08/2003</p></td> </tr> <tr> <td><p>mustafa raoul 63056/00</p></td> <td><p>17/06/2003</p></td> <td><p>17/09/2003</p></td> <td><p>6 000 euros</p></td> <td><p>01/10/2003</p></td> </tr> <tr> <td><p>mirailles robert 63156/00</p></td> <td><p>09/03/2004</p></td> <td><p>09/06/2004</p></td> <td><p>5 991 euros</p></td> <td><p>09/08/2004</p></td> </tr> <tr> <td><p>poilly jean-claude 68155/01</p></td> <td><p>29/07/2003</p></td> <td><p>29/10/2003</p></td> <td><p>5 000 euros</p></td> <td><p>12/11/2003</p></td> </tr> <tr> <td><p>carries roger 74628/01</p></td> <td><p>20/07/2004</p></td> <td><p>20/10/2004</p></td> <td><p>6 000 euros</p></td> <td><p>22/11/2004</p></td> </tr> <tr> <td> <p>caille alain</p> <p>3455/02</p> </td> <td><p>05/10/2004</p></td> <td><p>05/01/2005</p></td> <td><p>4 773 euros</p></td> <td><p>02/03/2005</p></td> </tr> <tr> <td> <p>reisse roland</p> <p>24051/02</p> </td> <td><p>05/10/2004</p></td> <td><p>05/01/2005</p></td> <td><p>3 000 euros</p></td> <td><p>02/03/2005</p></td> </tr> <tr> <td> <p>onnikian kervork</p> <p>15816/02</p> </td> <td><p>05/10/2004</p></td> <td><p>05/01/2005</p></td> <td><p>4 000 euros</p></td> <td><p>22/04/2005 + interest</p></td> </tr> <tr> <td> <p>mitre jacques</p> <p>44010/02</p> </td> <td><p>05/10/2004</p></td> <td><p>05/01/2005</p></td> <td><p>5 000 euros</p></td> <td><p>02/03/2005</p></td> </tr> </table> <p></p> <p></p> <p><i>cases concerning the excessive length of proceedings before aministrative courts and in particular the </i>conseil d'etat</p> <p></p> <p class=\"sub-section\">cases brought before the european commission of human rights</p> <p class=\"sub-section\">(former article 25 of the convention)</p> <p></p> <p></p> <table> <tr> <td><p align=\"center\"><b>case</b></p></td> <td><p align=\"center\"><b>judgment of</b></p></td> <td><p align=\"center\"><b>final on</b></p></td> <td><p align=\"center\"><b>non-pecuniary damages and costs</b></p></td> <td><p align=\"center\"><b>payment on</b></p></td> </tr> <tr> <td><p>caillot simone 36932/97</p></td> <td><p>04/06/1999</p></td> <td><p>04/09/1999</p></td> <td><p>25 000 french francs </p></td> <td><p>01/03/2000 + interest</p></td> </tr> <tr> <td><p>ballestra albin 28660/95</p></td> <td><p>12/12/2000</p></td> <td><p>12/03/2001</p></td> <td><p>100 300 french francs </p></td> <td><p>01/03/2001</p></td> </tr> <tr> <td><p>frydlender nicolas 30979/96</p></td> <td><p>27/06/2000</p></td> <td><p>27/06/2000</p></td> <td><p>110 000 french francs </p></td> <td><p>28/08/2000</p></td> </tr> <tr> <td><p>blaisot charles et marie 33207/96</p></td> <td><p>25/01/2000</p></td> <td><p>25/04/2000</p></td> <td><p>50 000 french francs </p></td> <td><p>06/06/2000</p></td> </tr> <tr> <td><p>thery hubert 33989/96</p></td> <td><p>01/02/2000</p></td> <td><p>01/05/2000</p></td> <td><p>40 000 french francs </p></td> <td><p>03/08/2000</p></td> </tr> <tr> <td><p>lambourdiere rodolphe 37387/97</p></td> <td><p>02/08/2000</p></td> <td><p>02/11/2000</p></td> <td><p>50 000 french francs </p></td> <td><p>28/11/2000</p></td> </tr> <tr> <td><p>zanatta aldo et jean-baptiste 38042/97</p></td> <td><p>28/03/2000</p></td> <td><p>28/06/2000</p></td> <td><p>40 000 french francs </p></td> <td><p>19/06/2000</p></td> </tr> <tr> <td><p>arvois armel 38249/97</p></td> <td><p>23/11/1999</p></td> <td><p>23/02/2000</p></td> <td><p>35 000 french francs </p></td> <td><p>02/06/2000 + interest</p></td> </tr> <tr> <td><p>ouendeno alexis 39996/98</p></td> <td><p>16/04/2002</p></td> <td><p>10/07/2002</p></td> <td><p>6 500 euros</p></td> <td><p>11/10/2002 (applicant waived interest in view of small amount)</p></td> </tr> <tr> <td><p>garcia joseph‑gilbert 41001/98</p></td> <td><p>26/09/2000</p></td> <td><p>26/12/2000</p></td> <td><p>52 200 french francs </p></td> <td><p>21/05/2001 + interest</p></td> </tr> <tr> <td><p>durand louis (no 1) 41449/98</p></td> <td><p>13/11/2001</p></td> <td><p>13/02/2002</p></td> <td><p>40 000 french francs </p></td> <td><p>03/04/2002 + interest</p></td> </tr> <tr> <td><p>durand louis (no 2) 42038/98</p></td> <td><p>13/11/2001</p></td> <td><p>13/02/2002</p></td> <td><p>40 000 french francs </p></td> <td><p>12/07/2002</p></td> </tr> <tr> <td><p>h.l. 42189/98</p></td> <td><p>07/02/2002</p></td> <td><p>07/05/2002</p></td> <td><p>12 200 euros</p></td> <td><p>07/07/2002</p></td> </tr> <tr> <td><p>julien lucien 42276/98</p></td> <td><p>14/11/2002</p></td> <td><p>21/05/2003</p></td> <td><p>-</p></td> <td><p> -</p></td> </tr> <tr> <td><p>camps gabriel 42401/98</p></td> <td><p>24/10/2000</p></td> <td><p>04/04/2001</p></td> <td><p>30 000 french francs </p></td> <td><p>17/12/2001 + interest</p></td> </tr> <tr> <td><p>grass serge 44066/98</p></td> <td><p>09/11/2000</p></td> <td><p>09/02/2001</p></td> <td><p>40 000 french francs </p></td> <td><p>18/04/2001</p></td> </tr> <tr> <td><p>leray stéphane et autres 44617/98</p></td> <td><p>20/12/2001</p></td> <td><p>20/03/2002</p></td> <td><p>640 000 french francs </p></td> <td><p>21/06/2002 (applicant waived interest in view of small amount) </p></td> </tr> <tr> <td> <p>gentilhomme sylvette schaf-benhadji jeanine et zerouki france 48205/99</p> <p>48207/99</p> <p>48209/99</p> </td> <td><p>14/05/2002</p></td> <td><p>14/08/2002</p></td> <td><p>25 829.40 euros</p></td> <td><p>11/10/2002</p></td> </tr> </table> <p></p> <p></p> <p class=\"sub-section\">applications brought before the european court of human rights</p> <p class=\"sub-section\">(article 34 of the convention)</p> <p></p> <table> <tr> <td><p align=\"center\"><b>case</b></p></td> <td><p align=\"center\"><b>judgment of</b></p></td> <td><p align=\"center\"><b>final on</b></p></td> <td><p align=\"center\"><b>non-pecuniary damages and costs</b></p></td> <td><p align=\"center\"><b>payment on</b></p></td> </tr> <tr> <td><p>baillard michel 51575/99</p></td> <td><p>26/03/2002</p></td> <td><p>04/09/2002</p></td> <td><p>7 000 euros</p></td> <td><p>18/12/2002 + interest</p></td> </tr> <tr> <td><p>epoux goletto 54596/00</p></td> <td><p>04/02/2003</p></td> <td><p>04/05/2003</p></td> <td><p>8 000 euros</p></td> <td><p>03/07/2003</p></td> </tr> <tr> <td><p>chaufour hubert 54757/00</p></td> <td><p>19/03/2002</p></td> <td><p>19/06/2002</p></td> <td><p>6 500 euros</p></td> <td><p>12/07/2002</p></td> </tr> <tr> <td><p>asnar claude 57030/00</p></td> <td><p>17/06/2003</p></td> <td><p>03/12/2003</p></td> <td><p>20 000 euros</p></td> <td><p>01/10/2003</p></td> </tr> <tr> <td><p>bartre georges 70753/01</p></td> <td><p>12/11/2003</p></td> <td><p>12/02/2004</p></td> <td><p>13 500 euros</p></td> <td><p>01/04/2004</p></td> </tr> <tr> <td><p>gobry pascal 71367/01</p></td> <td><p>06/07/2004</p></td> <td><p>06/10/2004</p></td> <td><p>10 500 euros</p></td> <td><p>27/10/2004</p></td> </tr> </table> <p></p> <p></p> <p class=\"sub-section\">2. information provided by the government of france during the detailed examination of these cases by the committee of ministers</p> <p></p> <p>in 1995 in final resolution dh(95)254 in the beaumartin case the committee of ministers noted the measures adopted at the time by the respondent state to reduce the length of proceedings before administrative courts and the <i>conseil d'etat</i> in particular. since that time the european court of human rights has found new violations of article 6 paragraph 1 of the convention on account of excessive length of proceedings before the administrative courts in general and/or before the <i>conseil d'etat</i> in particular. the respondent state has therefore adopted further measures to avoid new similar violations.</p> <p></p> <p class=\"section\">measures adopted</p> <p></p> <p class=\"sub-section\">structural measures</p> <p></p> <p>the main measure has been the “orientation and planning for justice act” adopted on 9 september 2002 which aims at providing swifter justice not least in the administrative sector by reducing the time required for judgments to one year at every level of jurisdiction. this act defines the orientations and the scheduling of the judicial apparatus for the period 2003 – 2007 and is accompanied by texts on implementation.</p> <p></p> <p>to attain its objectives the act lays down programmes for the increase of courts' human resources both judges (210 posts – i.e. 25% of the level existing when the act was adopted) and registry staff (270 posts) and authorises the recruitment of <i>assistants de justice</i> appointed to assist members of courts as well as the <i>conseil d'etat</i>. implementation of this recruitment programme was initiated in accordance with the act: 59 administrative court advisors were recruited in 2002 74 in 2003 and 85 in 2004. to date 183 <i>assistants de justice </i>have been recruited.</p> <p></p> <p>the act also sets up three new courts: an 8th administrative court of appeal established in versailles on 1 september 2004 and administrative courts in nîmes and toulon. these new courts are additional to those already set up in cergy-pontoise and melun.</p> <p></p> <p></p> <p>it also allocates to the <i>conseil d'etat </i>and administrative courts 114 million euros for normal expenditure and 60 million in the form of authorised programmes to be consecrated principally to improving court computer services and premises.</p> <p></p> <p>among other innovations the act makes it possible to conclude “contracts of objectives” between the <i>conseil d'etat</i> and presidents of administrative courts of appeal or even administrative courts which so wish. these contracts specify the additional resources allocated to the court in return for which the court commits itself in the form of exit objectives to improve the efficiency of its working methods and the promptness with which it deals with cases.</p> <p></p> <p class=\"sub-section\">procedural measures</p> <p></p> <p>several measures have been taken to reduce both the number of old cases pending and the flow of new ones.</p> <p></p> <p><u>- with regard to administrative courts of appeal</u> decree no. 2003-543 was adopted on 24 june 2003 modifying the regulatory part of the code of administrative justice in two significant ways as regards appeal procedure: first compulsory representation by counsel at appeal and secondly the suppression of appeals for certain kinds of proceedings involving small claims.</p> <p></p> <p><u>- concerning disputed proceedings before the </u><i><u>conseil d'etat</u></i><i> </i>steps have been taken among other things to reduce the workload associated with appeals by foreigners (appeals against denial of visas and against decisions of return to the frontier appeals on points of law against decisions of the refugees' appeals board) which in 2001 amounted to more than 40% of the net intake of appeals before the <i>conseil d'etat. </i>under the terms of the decree of 10 november 2000 appeals against visa refusals must be preceded by an administrative appeal to a board specially set up for this purpose thus curtailing the volume of such appeals. in application of the 2002 act mentioned above jurisdiction for appeals against administrative court judgements on return to the frontier has been transferred as from 1 january 2005 from the <i>conseil d'etat</i> to administrative courts of appeal the resources of which have been reinforced accordingly. appeals of this kind previously represented practically a fifth of all appeals pending before the <i>conseil d'etat</i>. for the future a system whereby appeals may be introduced using new communications technologies throughout the investigatory phase put in place experimentally at first but ultimately generally will also contribute to improving the promptness of judgments.</p> <p></p> <p class=\"sub-section\">results</p> <p></p> <p><u>- with regard to administrative courts</u> positive results have been registered to the extent that the number of cases judged by administrative courts has increased perceptibly in recent years (increase of 15% net between 2002 and 2004) but taking into account the considerable increase in the volume of litigation (32% net in two years) more effort is needed and will be made. at the end of 2004 the ratio of cases judged as against cases registered was 90%. thanks to the increase in productivity the average time to judge a case in 2004 remained close to that of 2003 i.e. 18 months 10 days.</p> <p></p> <p>- <u>with regard to administrative courts of appeal</u> the situation has improved notably in particular thanks to the implementation of the reform of appeals provided in decree no. 2003-543 (reduction in input) and the efforts undertaken in the context of the “contracts of objectives” (all objectives fixed in 2003 and 2004 were attained or in most cases exceeded). for the first time ever in 2003 and subsequently in 2004 the courts judged more cases than had been lodged. thus between 2002 and 2004 the rate of coverage of new cases by cases disposed of increased by nearly 50 percentage points from 92% to 141% allowing a perceptible decrease in pending cases and paving the way for progress towards reducing the time required for a judgment to one year as provided in the 2002 act. the forecast average time is at present 1 year 9 months and 6 days net. the results are thus encouraging even if the rate of progress risks being affected in the future by budgetary constraints and the effect of transferring jurisdiction for some kinds of cases to administrative courts of appeal.</p> <p></p> <p>- <u>with regard to disputes before the </u><i><u>conseil d'etat</u></i> developments are also positive. when the final resolution in the beaumartin case was adopted in 1995 the average time for judging cases was already less than two years compared with 36 months in 1987 and 26 months in 1990. in 2003 for the first time ever the objective of a number of pending cases less than the courts' annual capacity to judge them was realised and the average duration fell below the symbolic threshold of 12 months to 10 months 15 days which is the target fixed in the act of 2002. in 2004 given the sharp rise in intake (26%) the average fell back to 12½ months but the relationship between the number of pending cases and the productive capacity reached in 2003 was maintained.</p> <p></p> <p class=\"sub-section\">effective remedy for complaints concerning the excessive length of administrative proceedings</p> <p></p> <p>it should also be noted that applicants consider that their case is taking too long to be settled they have an effective remedy at their disposal for both pending and completed proceedings (appeal founded on the state's responsibility for defective functioning of the public justice service). the european court has itself so found (for example in its judgment of 21 october 2003 in the case of broca and texier-micault against france).</p> <p></p> <p>the french government is of the view that all the above shows that it has acknowledged the difficulties confronting administrative courts in the exercise of their functions and taken measures to deal with them. the government will continue to make all the necessary efforts so as to avoid new violations similar to those found in these cases.</p> </div>"
      ],
      "text/plain": [
       "<IPython.core.display.HTML object>"
      ]
     },
     "metadata": {},
     "output_type": "display_data"
    },
    {
     "name": "stdout",
     "output_type": "stream",
     "text": [
      "\n"
     ]
    }
   ],
   "source": [
    "for i in tqdm_notebook(ID):\n",
    "    case = clean.getCase(i)[i]\n",
    "    if '<p align=\"center\"><b>judgment of</b></p>' in case:\n",
    "        clean.renderHTML(i)\n",
    "        break;"
   ]
  },
  {
   "cell_type": "code",
   "execution_count": 8,
   "metadata": {},
   "outputs": [
    {
     "data": {
      "text/plain": [
       "False"
      ]
     },
     "execution_count": 8,
     "metadata": {},
     "output_type": "execute_result"
    }
   ],
   "source": [
    "def checkTitle(s):\n",
    "    s = str(s)\n",
    "    text = re.search('>(.*)<', s).group(1)\n",
    "\n",
    "    \n",
    "    haveTitle = False\n",
    "    for t in titles:\n",
    "        if t == s:\n",
    "            haveTitle =  True\n",
    "            \n",
    "    check = ('judgment' in str(s))  and (haveTitle == False) and (len(text)<20)\n",
    "    \n",
    "    return check\n",
    "    \n",
    "checkTitle('<p align=\"center\">judgment</p>')"
   ]
  },
  {
   "cell_type": "code",
   "execution_count": 9,
   "metadata": {},
   "outputs": [
    {
     "data": {
      "application/vnd.jupyter.widget-view+json": {
       "model_id": "f547e2f2270f411798706cd940e73d38",
       "version_major": 2,
       "version_minor": 0
      },
      "text/plain": [
       "HBox(children=(IntProgress(value=0, max=55652), HTML(value='')))"
      ]
     },
     "metadata": {},
     "output_type": "display_data"
    },
    {
     "name": "stdout",
     "output_type": "stream",
     "text": [
      "\n"
     ]
    }
   ],
   "source": [
    "check_id = []\n",
    "check_titles = []\n",
    "\n",
    "for i in tqdm_notebook(ID):\n",
    "    case = clean.getCase(i)[i]\n",
    "    soup = BeautifulSoup(case)\n",
    "    sections = soup.find_all(re.compile('^h[1-6]$')) + soup.find_all(\"p\")\n",
    "    for s in sections[0:10]:\n",
    "    \n",
    "        if checkTitle(s):\n",
    "            check_titles.append(str(s))\n",
    "            check_id.append(i)\n",
    "            \n",
    "    else:\n",
    "        continue  # only executed if the inner loop did NOT break\n",
    "    break\n",
    "     "
   ]
  },
  {
   "cell_type": "markdown",
   "metadata": {},
   "source": [
    "### Separate cases into: Judgements and Other "
   ]
  },
  {
   "cell_type": "code",
   "execution_count": 15,
   "metadata": {},
   "outputs": [
    {
     "data": {
      "text/plain": [
       "False"
      ]
     },
     "execution_count": 15,
     "metadata": {},
     "output_type": "execute_result"
    }
   ],
   "source": [
    "def checkJudgment(case):\n",
    "    for t in titles:\n",
    "        if t in case: return True\n",
    "    return False\n",
    "checkJudgment(\"\")"
   ]
  },
  {
   "cell_type": "code",
   "execution_count": 16,
   "metadata": {},
   "outputs": [
    {
     "data": {
      "application/vnd.jupyter.widget-view+json": {
       "model_id": "8a377a77f73d4321b45c900a39ec2563",
       "version_major": 2,
       "version_minor": 0
      },
      "text/plain": [
       "HBox(children=(IntProgress(value=0, max=55652), HTML(value='')))"
      ]
     },
     "metadata": {},
     "output_type": "display_data"
    },
    {
     "name": "stdout",
     "output_type": "stream",
     "text": [
      "\n",
      "14108\n"
     ]
    }
   ],
   "source": [
    "judgment_ids = []\n",
    "\n",
    "for i in tqdm_notebook(ID):\n",
    "    \n",
    "    case = clean.getCase(i)[i]\n",
    "    if checkJudgment(case):\n",
    "        judgment_ids.append(i)\n",
    "print(len(judgment_ids))"
   ]
  },
  {
   "cell_type": "markdown",
   "metadata": {},
   "source": [
    "### Get List of IDs with either a violation or non-violation"
   ]
  },
  {
   "cell_type": "code",
   "execution_count": 65,
   "metadata": {},
   "outputs": [
    {
     "data": {
      "text/plain": [
       "15607"
      ]
     },
     "execution_count": 65,
     "metadata": {},
     "output_type": "execute_result"
    }
   ],
   "source": [
    "v_bool = att[\"violations\"].notnull()\n",
    "nv_bool = att[\"nonviolations\"].notnull()\n",
    "judgment_ids_compare = att[v_bool | nv_bool]['id']\n",
    "len(judgment_ids_compare)"
   ]
  },
  {
   "cell_type": "code",
   "execution_count": 57,
   "metadata": {},
   "outputs": [
    {
     "data": {
      "text/plain": [
       "1838"
      ]
     },
     "execution_count": 57,
     "metadata": {},
     "output_type": "execute_result"
    }
   ],
   "source": [
    "missing = np.setdiff1d(judgment_ids,judgment_ids_compare)\n",
    "len(missing)"
   ]
  },
  {
   "cell_type": "code",
   "execution_count": 62,
   "metadata": {},
   "outputs": [
    {
     "data": {
      "text/plain": [
       "'<div> <p>information note on the court’s case-law no.</p> <p>november-december 1991</p> <p><i><b>koster v. the netherlands</b></i><b> - 12843/87</b></p> <p>judgment 28.11.1991</p> <p class=\"section\">article 5</p> <p class=\"section\">article 5-3</p> <p class=\"section\">brought promptly before judge or other officer</p> <p>appearance before the military court of a conscript placed in detention on remand during military manoeuvres: <i>violation</i></p> <p>[this summary is extracted from the court’s official reports (series a or reports of judgments and decisions). its formatting and structure may therefore differ from the case-law information note summaries.]</p> <p><b>i.</b><b>article 5 § 3 of the convention</b></p> <p>use in french text of word \"<i>aussitôt</i>\": confirms that the degree of flexibility in the interpretation and application of the notion of \"promptness\" is limited – notion to be assessed in each case according to its special features but significance attached to such features can never be taken to the point of impairing very essence of the right to judicial review guaranteed under article 5 § 3.</p> <p>in this instance military manoeuvres which took place at periodical intervals and were therefore foreseeable did not justify any delay in the proceedings – even taking into account the demands of military life and justice applicant\\'s appearance before the military court did not comply with requirement of promptness laid down in article 5 § 3.</p> <p><i>conclusion</i>: violation (unanimously).</p> <p><b>ii.</b><b>article 50 of the convention</b></p> <p>a.non-pecuniary damage: finding of a violation sufficient satisfaction.</p> <p>b.costs and expenses: reimbursement.</p> <p><i>conclusion</i>: respondent state to pay to the applicant specified sum (unanimously).</p> <p></p> <p align=\"center\">© council of europe/european court of human rights<br>this summary by the registry does not bind the court.</p> </div>'"
      ]
     },
     "execution_count": 62,
     "metadata": {},
     "output_type": "execute_result"
    }
   ],
   "source": [
    "ID = missing[100]\n",
    "clean.getCase(ID)[ID]\n",
    "#clean.renderHTML(missing[1])"
   ]
  }
 ],
 "metadata": {
  "kernelspec": {
   "display_name": "Python 3",
   "language": "python",
   "name": "python3"
  },
  "language_info": {
   "codemirror_mode": {
    "name": "ipython",
    "version": 3
   },
   "file_extension": ".py",
   "mimetype": "text/x-python",
   "name": "python",
   "nbconvert_exporter": "python",
   "pygments_lexer": "ipython3",
   "version": "3.6.8"
  }
 },
 "nbformat": 4,
 "nbformat_minor": 2
}

{
 "cells": [
  {
   "cell_type": "code",
   "execution_count": 24,
   "metadata": {},
   "outputs": [],
   "source": [
    "#Imports\n",
    "import numpy as np\n",
    "import pandas as pd\n",
    "\n",
    "import matplotlib.pyplot as plt\n",
    "import seaborn as sns\n",
    "%matplotlib inline\n",
    "\n",
    "#import autosklearn.classification\n",
    "\n",
    "from sklearn.svm import SVC\n",
    "from sklearn.model_selection import train_test_split\n",
    "from sklearn.metrics import accuracy_score\n",
    "\n",
    "import functions \n",
    "classif = functions.classification()"
   ]
  },
  {
   "cell_type": "code",
   "execution_count": 34,
   "metadata": {},
   "outputs": [],
   "source": [
    "#Fit model\n",
    "def trainTest(features):\n",
    "    \"\"\"Return train test split from features\"\"\"\n",
    "    #print(features['target'])\n",
    "    X = features.drop(columns='target')\n",
    "    X=(X-X.mean())/X.std() #Normalise\n",
    "    y = features['target']\n",
    "    return train_test_split(X, y, test_size=0.10, random_state=90)\n",
    "\n",
    "def testAccuracy(path,C=1,kernel='linear'):\n",
    "    \"\"\"\n",
    "    Fits a SVM \n",
    "    \"\"\"\n",
    "\n",
    "    features = pd.read_csv(path)\n",
    "    print(sum(features.isna().sum()))\n",
    "    \n",
    "    \n",
    "    X_train, X_test, y_train, y_test = trainTest(features)\n",
    "    X_train.fillna(value=0,inplace=True)\n",
    "    X_test.fillna(value=0,inplace=True)\n",
    "    \n",
    "    model = SVC(kernel=kernel, C=C)\n",
    "    model.fit(X_train,y_train)\n",
    "    \n",
    "    predictions = model.predict(X_test)\n",
    "    accuracy = accuracy_score(y_test,predictions)\n",
    "\n",
    "    return accuracy"
   ]
  },
  {
   "cell_type": "markdown",
   "metadata": {},
   "source": [
    "Need Accuracy for <br>\n",
    "Facts\n"
   ]
  },
  {
   "cell_type": "code",
   "execution_count": 30,
   "metadata": {},
   "outputs": [],
   "source": [
    "def accuracy(folder,article, part):\n",
    "    path = \"/Users/conorosully/Documents/Legal-Case-Prediction/data/features/{}/article{}_{}.csv\"\n",
    "    c_path = \"/Users/conorosully/Documents/Legal-Case-Prediction/data/results/{}_C.csv\"\n",
    "    results_C = pd.read_csv(c_path.format('english'))\n",
    "    C = results_C[article][3]\n",
    "    \n",
    "    return testAccuracy(path.format(folder,article,part, C))\n",
    "    "
   ]
  },
  {
   "cell_type": "code",
   "execution_count": 36,
   "metadata": {},
   "outputs": [
    {
     "name": "stdout",
     "output_type": "stream",
     "text": [
      "0\n",
      "english 3 0.72\n",
      "0\n",
      "english 6 0.8043478260869565\n",
      "0\n",
      "english 8 0.75\n",
      "0\n",
      "legal 3 0.78\n",
      "0\n",
      "legal 6 0.8043478260869565\n",
      "0\n",
      "legal 8 0.7884615384615384\n",
      "0\n",
      "none 3 0.76\n",
      "0\n",
      "none 6 0.75\n",
      "0\n",
      "none 8 0.75\n"
     ]
    }
   ],
   "source": [
    "part = 'procedure'\n",
    "for f in ['english','legal','none']:\n",
    "    for a in ['3','6','8']:\n",
    "        acc = accuracy(f,a,part)\n",
    "        print(f,a,acc)"
   ]
  },
  {
   "cell_type": "code",
   "execution_count": 12,
   "metadata": {},
   "outputs": [
    {
     "data": {
      "text/plain": [
       "0.001"
      ]
     },
     "execution_count": 12,
     "metadata": {},
     "output_type": "execute_result"
    }
   ],
   "source": [
    "c_path = \"/Users/conorosully/Documents/Legal-Case-Prediction/data/results/{}_C.csv\"\n",
    "results_C = pd.read_csv(c_path.format('english'))\n",
    "C = results_C['3'][3]\n",
    "C"
   ]
  }
 ],
 "metadata": {
  "kernelspec": {
   "display_name": "Python 3",
   "language": "python",
   "name": "python3"
  },
  "language_info": {
   "codemirror_mode": {
    "name": "ipython",
    "version": 3
   },
   "file_extension": ".py",
   "mimetype": "text/x-python",
   "name": "python",
   "nbconvert_exporter": "python",
   "pygments_lexer": "ipython3",
   "version": "3.6.8"
  }
 },
 "nbformat": 4,
 "nbformat_minor": 2
}

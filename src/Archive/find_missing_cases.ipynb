{
 "cells": [
  {
   "cell_type": "code",
   "execution_count": 1,
   "metadata": {},
   "outputs": [],
   "source": [
    "# Identify why some cases are missing "
   ]
  },
  {
   "cell_type": "code",
   "execution_count": 2,
   "metadata": {},
   "outputs": [],
   "source": [
    "#Imports\n",
    "import numpy as np\n",
    "import pandas as pd\n",
    "\n",
    "import functions \n",
    "clean = functions.clean()"
   ]
  },
  {
   "cell_type": "code",
   "execution_count": 27,
   "metadata": {},
   "outputs": [
    {
     "data": {
      "text/plain": [
       "'case of greece v. the united kingdom'"
      ]
     },
     "execution_count": 27,
     "metadata": {},
     "output_type": "execute_result"
    }
   ],
   "source": [
    "def transformName(name):\n",
    "    split = name.split(\"<br>\")\n",
    "    try: \n",
    "        name = \"case of \"+ split[0] + split[1] + split[2]\n",
    "    except:\n",
    "        x = 1\n",
    "    return name\n",
    "\n",
    "transformName(\"greece <br>v.<br> the united kingdom\")  "
   ]
  },
  {
   "cell_type": "code",
   "execution_count": 60,
   "metadata": {},
   "outputs": [
    {
     "name": "stdout",
     "output_type": "stream",
     "text": [
      "Index(['id', 'type', 'url', 'doc-name', 'doc-id-label', 'doc-date', 'vl-type',\n",
      "       'created-at', 'updated-at', 'app-no-parts', 'app-nos', 'articles',\n",
      "       'conclusions', 'courts', 'ecli', 'judgement-date', 'judges',\n",
      "       'last-modified-time', 'nonviolations', 'organisations', 'respondents',\n",
      "       'separate-opinion', 'violations'],\n",
      "      dtype='object')\n",
      "65037\n"
     ]
    },
    {
     "data": {
      "text/html": [
       "<div>\n",
       "<style scoped>\n",
       "    .dataframe tbody tr th:only-of-type {\n",
       "        vertical-align: middle;\n",
       "    }\n",
       "\n",
       "    .dataframe tbody tr th {\n",
       "        vertical-align: top;\n",
       "    }\n",
       "\n",
       "    .dataframe thead th {\n",
       "        text-align: right;\n",
       "    }\n",
       "</style>\n",
       "<table border=\"1\" class=\"dataframe\">\n",
       "  <thead>\n",
       "    <tr style=\"text-align: right;\">\n",
       "      <th></th>\n",
       "      <th>id</th>\n",
       "      <th>type</th>\n",
       "      <th>url</th>\n",
       "      <th>doc-name</th>\n",
       "      <th>doc-id-label</th>\n",
       "      <th>doc-date</th>\n",
       "      <th>vl-type</th>\n",
       "      <th>created-at</th>\n",
       "      <th>updated-at</th>\n",
       "      <th>app-no-parts</th>\n",
       "      <th>...</th>\n",
       "      <th>courts</th>\n",
       "      <th>ecli</th>\n",
       "      <th>judgement-date</th>\n",
       "      <th>judges</th>\n",
       "      <th>last-modified-time</th>\n",
       "      <th>nonviolations</th>\n",
       "      <th>organisations</th>\n",
       "      <th>respondents</th>\n",
       "      <th>separate-opinion</th>\n",
       "      <th>violations</th>\n",
       "    </tr>\n",
       "  </thead>\n",
       "  <tbody>\n",
       "    <tr>\n",
       "      <th>0</th>\n",
       "      <td>HUDOC-ECHR-1956-001-142534</td>\n",
       "      <td>eu-chrs</td>\n",
       "      <td>http://hudoc.echr.coe.int/app/conversion/docx/...</td>\n",
       "      <td>case of greece v. the united kingdom</td>\n",
       "      <td>176/56</td>\n",
       "      <td>1956-06-02</td>\n",
       "      <td>eu_chr</td>\n",
       "      <td>2017-09-18T10:01:36.116Z</td>\n",
       "      <td>2018-10-26T16:53:54.496Z</td>\n",
       "      <td>['176', '56']</td>\n",
       "      <td>...</td>\n",
       "      <td>NaN</td>\n",
       "      <td>ECLI:CE:ECHR:1956:0602DEC000017656</td>\n",
       "      <td>NaN</td>\n",
       "      <td>NaN</td>\n",
       "      <td>2018-10-25</td>\n",
       "      <td>NaN</td>\n",
       "      <td>NaN</td>\n",
       "      <td>['GBR']</td>\n",
       "      <td>NaN</td>\n",
       "      <td>NaN</td>\n",
       "    </tr>\n",
       "  </tbody>\n",
       "</table>\n",
       "<p>1 rows × 23 columns</p>\n",
       "</div>"
      ],
      "text/plain": [
       "                           id     type  \\\n",
       "0  HUDOC-ECHR-1956-001-142534  eu-chrs   \n",
       "\n",
       "                                                 url  \\\n",
       "0  http://hudoc.echr.coe.int/app/conversion/docx/...   \n",
       "\n",
       "                               doc-name doc-id-label    doc-date vl-type  \\\n",
       "0  case of greece v. the united kingdom       176/56  1956-06-02  eu_chr   \n",
       "\n",
       "                 created-at                updated-at   app-no-parts  ...  \\\n",
       "0  2017-09-18T10:01:36.116Z  2018-10-26T16:53:54.496Z  ['176', '56']  ...   \n",
       "\n",
       "  courts                                ecli judgement-date judges  \\\n",
       "0    NaN  ECLI:CE:ECHR:1956:0602DEC000017656            NaN    NaN   \n",
       "\n",
       "  last-modified-time nonviolations organisations respondents separate-opinion  \\\n",
       "0         2018-10-25           NaN           NaN     ['GBR']              NaN   \n",
       "\n",
       "  violations  \n",
       "0        NaN  \n",
       "\n",
       "[1 rows x 23 columns]"
      ]
     },
     "execution_count": 60,
     "metadata": {},
     "output_type": "execute_result"
    }
   ],
   "source": [
    "att = pd.read_csv(\"/Users/conorosully/Documents/Legal-Case-Prediction/data/preclean/case_attributes.csv\",'#')\n",
    "print(att.columns)\n",
    "att['doc-name'] = [transformName(x) for x in att['doc-name']]\n",
    "print(len(att))\n",
    "att.head(1)"
   ]
  },
  {
   "cell_type": "code",
   "execution_count": 29,
   "metadata": {},
   "outputs": [
    {
     "data": {
      "text/plain": [
       "'HUDOC-ECHR-1956-001-142534'"
      ]
     },
     "execution_count": 29,
     "metadata": {},
     "output_type": "execute_result"
    }
   ],
   "source": [
    "nameDic = {}\n",
    "for i,d in zip(att['id'],att['doc-name']):\n",
    "    nameDic[d] = i\n",
    "nameDic['case of greece v. the united kingdom']"
   ]
  },
  {
   "cell_type": "code",
   "execution_count": 9,
   "metadata": {},
   "outputs": [
    {
     "name": "stdout",
     "output_type": "stream",
     "text": [
      "80\n"
     ]
    },
    {
     "data": {
      "text/html": [
       "<div>\n",
       "<style scoped>\n",
       "    .dataframe tbody tr th:only-of-type {\n",
       "        vertical-align: middle;\n",
       "    }\n",
       "\n",
       "    .dataframe tbody tr th {\n",
       "        vertical-align: top;\n",
       "    }\n",
       "\n",
       "    .dataframe thead th {\n",
       "        text-align: right;\n",
       "    }\n",
       "</style>\n",
       "<table border=\"1\" class=\"dataframe\">\n",
       "  <thead>\n",
       "    <tr style=\"text-align: right;\">\n",
       "      <th></th>\n",
       "      <th>doc-name</th>\n",
       "      <th>target</th>\n",
       "    </tr>\n",
       "  </thead>\n",
       "  <tbody>\n",
       "    <tr>\n",
       "      <th>0</th>\n",
       "      <td>case of mikhaylov v. russia</td>\n",
       "      <td>v</td>\n",
       "    </tr>\n",
       "    <tr>\n",
       "      <th>1</th>\n",
       "      <td>case of nozhkov v. russia</td>\n",
       "      <td>v</td>\n",
       "    </tr>\n",
       "    <tr>\n",
       "      <th>2</th>\n",
       "      <td>case of velinov v. the former yugoslav republi...</td>\n",
       "      <td>v</td>\n",
       "    </tr>\n",
       "    <tr>\n",
       "      <th>3</th>\n",
       "      <td>case of sazonov v. russia</td>\n",
       "      <td>v</td>\n",
       "    </tr>\n",
       "    <tr>\n",
       "      <th>4</th>\n",
       "      <td>case of kutepov and anikeyenko v. russia</td>\n",
       "      <td>v</td>\n",
       "    </tr>\n",
       "  </tbody>\n",
       "</table>\n",
       "</div>"
      ],
      "text/plain": [
       "                                            doc-name target\n",
       "0                        case of mikhaylov v. russia      v\n",
       "1                          case of nozhkov v. russia      v\n",
       "2  case of velinov v. the former yugoslav republi...      v\n",
       "3                          case of sazonov v. russia      v\n",
       "4           case of kutepov and anikeyenko v. russia      v"
      ]
     },
     "execution_count": 9,
     "metadata": {},
     "output_type": "execute_result"
    }
   ],
   "source": [
    "article = 6\n",
    "echr = pd.read_csv(\"/Users/conorosully/Documents/Legal-Case-Prediction/data/echr_dataset/Article{}/cases_a{}.csv\".format(article,article),names=['doc-name','target'])\n",
    "echr['doc-name'] = [x.lower() for x in echr['doc-name']]\n",
    "print(len(echr))\n",
    "echr.head()\n"
   ]
  },
  {
   "cell_type": "code",
   "execution_count": 31,
   "metadata": {},
   "outputs": [
    {
     "name": "stdout",
     "output_type": "stream",
     "text": [
      "case of velinov v. the former yugoslav republic of macedonia\n",
      "case of šekerović and pašalić v. bosnia and herzegovina\n",
      "case of premović v. serbia\n",
      "case of jovanović and others v. serbia\n",
      "case of trančíková v. slovakia\n",
      "case of momić and others v. bosnia and herzegovina\n",
      "case of anđelić and others v. serbia\n",
      "case of stoilkovska v. the former yugoslav republic of macedonia\n",
      "case of fetaovski v. the former yugoslav republic of macedonia\n",
      "case of karanović v. bosnia and herzegovina\n",
      "case of stojilković and others v. serbia\n",
      "case of schädler-eberle v. liechtenstein\n",
      "case of sierpiński v. poland\n",
      "case of marguš v. croatia\n",
      "case of užkurėlienė and others v. lithuania\n",
      "case of uçar v. turkey\n",
      "case of al-saadoon and mufdhiv. the united kingdom\n"
     ]
    }
   ],
   "source": [
    "for name in echr['doc-name']:\n",
    "    try:  \n",
    "        nameDic[name]\n",
    "    except:\n",
    "        print(name)"
   ]
  },
  {
   "cell_type": "code",
   "execution_count": 58,
   "metadata": {},
   "outputs": [
    {
     "data": {
      "text/html": [
       "<div>\n",
       "<style scoped>\n",
       "    .dataframe tbody tr th:only-of-type {\n",
       "        vertical-align: middle;\n",
       "    }\n",
       "\n",
       "    .dataframe tbody tr th {\n",
       "        vertical-align: top;\n",
       "    }\n",
       "\n",
       "    .dataframe thead th {\n",
       "        text-align: right;\n",
       "    }\n",
       "</style>\n",
       "<table border=\"1\" class=\"dataframe\">\n",
       "  <thead>\n",
       "    <tr style=\"text-align: right;\">\n",
       "      <th></th>\n",
       "      <th>id</th>\n",
       "      <th>type</th>\n",
       "      <th>url</th>\n",
       "      <th>doc-name</th>\n",
       "      <th>doc-id-label</th>\n",
       "      <th>doc-date</th>\n",
       "      <th>vl-type</th>\n",
       "      <th>created-at</th>\n",
       "      <th>updated-at</th>\n",
       "      <th>app-no-parts</th>\n",
       "      <th>...</th>\n",
       "      <th>courts</th>\n",
       "      <th>ecli</th>\n",
       "      <th>judgement-date</th>\n",
       "      <th>judges</th>\n",
       "      <th>last-modified-time</th>\n",
       "      <th>nonviolations</th>\n",
       "      <th>organisations</th>\n",
       "      <th>respondents</th>\n",
       "      <th>separate-opinion</th>\n",
       "      <th>violations</th>\n",
       "    </tr>\n",
       "  </thead>\n",
       "  <tbody>\n",
       "    <tr>\n",
       "      <th>30742</th>\n",
       "      <td>HUDOC-ECHR-2008-001-88939</td>\n",
       "      <td>eu-chrs</td>\n",
       "      <td>http://hudoc.echr.coe.int/app/conversion/docx/...</td>\n",
       "      <td>case of sazonov v. russia</td>\n",
       "      <td>1385/04</td>\n",
       "      <td>2008-10-16</td>\n",
       "      <td>eu_chr</td>\n",
       "      <td>2017-09-19T06:20:08.510Z</td>\n",
       "      <td>2018-10-27T10:47:40.951Z</td>\n",
       "      <td>['1385', '04']</td>\n",
       "      <td>...</td>\n",
       "      <td>NaN</td>\n",
       "      <td>ECLI:CE:ECHR:2008:1016JUD000138504</td>\n",
       "      <td>2008-10-16</td>\n",
       "      <td>['Anatoly Kovler', 'Christos Rozakis', 'Elisab...</td>\n",
       "      <td>2018-10-08</td>\n",
       "      <td>NaN</td>\n",
       "      <td>['ECHR']</td>\n",
       "      <td>['RUS']</td>\n",
       "      <td>False</td>\n",
       "      <td>NaN</td>\n",
       "    </tr>\n",
       "    <tr>\n",
       "      <th>44617</th>\n",
       "      <td>HUDOC-ECHR-2012-001-115896</td>\n",
       "      <td>eu-chrs</td>\n",
       "      <td>http://hudoc.echr.coe.int/app/conversion/docx/...</td>\n",
       "      <td>case of sazonov v. russia</td>\n",
       "      <td>42616/08</td>\n",
       "      <td>2012-12-13</td>\n",
       "      <td>eu_chr</td>\n",
       "      <td>2017-09-19T08:13:28.077Z</td>\n",
       "      <td>2018-10-27T18:48:29.620Z</td>\n",
       "      <td>['42616', '08']</td>\n",
       "      <td>...</td>\n",
       "      <td>NaN</td>\n",
       "      <td>NaN</td>\n",
       "      <td>2012-12-13</td>\n",
       "      <td>NaN</td>\n",
       "      <td>2018-10-08</td>\n",
       "      <td>NaN</td>\n",
       "      <td>['ECHR']</td>\n",
       "      <td>['RUS']</td>\n",
       "      <td>False</td>\n",
       "      <td>NaN</td>\n",
       "    </tr>\n",
       "  </tbody>\n",
       "</table>\n",
       "<p>2 rows × 23 columns</p>\n",
       "</div>"
      ],
      "text/plain": [
       "                               id     type  \\\n",
       "30742   HUDOC-ECHR-2008-001-88939  eu-chrs   \n",
       "44617  HUDOC-ECHR-2012-001-115896  eu-chrs   \n",
       "\n",
       "                                                     url  \\\n",
       "30742  http://hudoc.echr.coe.int/app/conversion/docx/...   \n",
       "44617  http://hudoc.echr.coe.int/app/conversion/docx/...   \n",
       "\n",
       "                        doc-name doc-id-label    doc-date vl-type  \\\n",
       "30742  case of sazonov v. russia      1385/04  2008-10-16  eu_chr   \n",
       "44617  case of sazonov v. russia     42616/08  2012-12-13  eu_chr   \n",
       "\n",
       "                     created-at                updated-at     app-no-parts  \\\n",
       "30742  2017-09-19T06:20:08.510Z  2018-10-27T10:47:40.951Z   ['1385', '04']   \n",
       "44617  2017-09-19T08:13:28.077Z  2018-10-27T18:48:29.620Z  ['42616', '08']   \n",
       "\n",
       "       ... courts                                ecli judgement-date  \\\n",
       "30742  ...    NaN  ECLI:CE:ECHR:2008:1016JUD000138504     2008-10-16   \n",
       "44617  ...    NaN                                 NaN     2012-12-13   \n",
       "\n",
       "                                                  judges last-modified-time  \\\n",
       "30742  ['Anatoly Kovler', 'Christos Rozakis', 'Elisab...         2018-10-08   \n",
       "44617                                                NaN         2018-10-08   \n",
       "\n",
       "      nonviolations organisations respondents separate-opinion violations  \n",
       "30742           NaN      ['ECHR']     ['RUS']            False        NaN  \n",
       "44617           NaN      ['ECHR']     ['RUS']            False        NaN  \n",
       "\n",
       "[2 rows x 23 columns]"
      ]
     },
     "execution_count": 58,
     "metadata": {},
     "output_type": "execute_result"
    }
   ],
   "source": [
    "att[att['doc-name'] == 'case of sazonov v. russia']"
   ]
  },
  {
   "cell_type": "code",
   "execution_count": 61,
   "metadata": {},
   "outputs": [
    {
     "data": {
      "text/plain": [
       "{'HUDOC-ECHR-2008-001-88939': '<div>\\n<p align=\"center\">FIRST SECTION</p>\\n<p align=\"center\"></p>\\n<p align=\"center\"></p>\\n<p align=\"center\"><b>CASE OF </b><b>SAZONOV v. RUSSIA</b></p>\\n<p align=\"center\"></p>\\n<p align=\"center\"><i>(Application no. 1385/04)</i></p>\\n<p align=\"center\"></p>\\n<p align=\"center\"></p>\\n<p align=\"center\">JUDGMENT</p>\\n<p align=\"center\"></p>\\n<p align=\"center\"></p>\\n<p align=\"center\">STRASBOURG\\xa0</p>\\n<p align=\"center\"></p>\\n<p align=\"center\">16 October 2008</p>\\n<p align=\"center\"></p>\\n<p align=\"center\"><b><u>FINAL</u></b></p>\\n<p align=\"center\"></p>\\n<p align=\"center\"><i>16/01/2009</i></p>\\n<p align=\"center\"></p>\\n<p align=\"center\"><i>This judgment may be subject to editorial revision.</i></p>\\n</div>\\n<br><div>\\n<p class=\"section\">In the case of Sazonov v. Russia,</p>\\n<p>The European Court of Human Rights (First Section), sitting as a Chamber composed of:</p>\\n<p>Christos Rozakis,<i> President,</i><br>Nina Vajić,<br>Anatoly Kovler,<br>Elisabeth Steiner,<br>Khanlar Hajiyev,<br>Giorgio Malinverni,<br>George Nicolaou,<i> judges,</i><br>and André Wampach, <i>Deputy</i><i>Section Registrar</i>,</p>\\n<p>Having deliberated in private on 25 September 2008,</p>\\n<p>Delivers the following judgment, which was adopted on that date:</p>\\n<h3>PROCEDURE</h3>\\n<p>1.  The case originated in an application (no. 1385/04) against the Russian Federation lodged with the Court under Article 34 of the Convention for the Protection of Human Rights and Fundamental Freedoms (“the Convention”) by a Russian national, Mr Igor Alekseyevich Sazonov (“the applicant”), on 18 December 2003.</p>\\n<p>2.  The Russian Government (“the Government”) were represented by Mr P. Laptev and Ms V. Milinchuk, former representatives of the Russian Federation at the European Court of Human Rights.</p>\\n<p>3.  On 30 August 2006 the Court decided to give notice of the application to the Government. It also decided to examine the merits of the application at the same time as its admissibility (Article 29 § 3).</p>\\n<h3>THE FACTS</h3>\\n<h4>I.  THE CIRCUMSTANCES OF THE CASE</h4>\\n<p>4.  The applicant was born in 1968 and lives in Dolgoprudnyy, a town in the Moscow region.</p>\\n<p>5.  On 7 April 2000 the Head of Dolgoprudnyy Town Administration, K., held a meeting with heads of departments where he stated that the applicant was planning the murder of his (K.’s) son-in-law and had hired a killer for this purpose. That statement was not included in the minutes of the meeting.</p>\\n<p>6.  On 14 April 2000 a local newspaper published an article under the title “The hirer of a killer lives peacefully in Dolgoprudnyy and is going to become a minister”. The article contained, <i>inter alia</i>, the same statement as disseminated by K. at the meeting.</p>\\n<p>7.  On 25 April 2000 the applicant brought a libel action against K., editors and founders of the newspaper and an author of the article.</p>\\n<p>8.  On 28 January 2003 Dolgoprudnenskiy Town Court of the Moscow Region (“the Town Court”) granted his claim in part. The court ordered the newspaper to publish a retraction of the statement made in the article. The court also ordered the founders of the newspaper to pay the applicant 30,000 Russian roubles (RUB) in respect of non-pecuniary damage and costs in the amount of RUB 7,650, instead of the RUB 108,000 claimed by the applicant. The court dismissed the claim against K. It found that on 24 December 1999 a certain L. had stated to the Department of Federal Security that he had been hired by the applicant to kill K.’s son-in-law. Since the competent authorities did not take any measures in this connection, K. had good reasons to take them on his own. The court was satisfied that his statement at the meeting with the heads of departments was merely aimed at securing the safety of his family and that he had no intention of offending the applicant. Furthermore, the statement had not been reflected in the minutes of the meeting and was not otherwise made public.</p>\\n<p>9.  Both parties appealed against the judgment to the Moscow Regional Court (“the Regional Court”).</p>\\n<p>10.  On 28 May 2003 the President of the Town Court sent the case file to the Regional Court. The accompanying letter stated that the appeal hearing was scheduled for 10 a.m. on 18 June 2003. The applicant and his representative were included in the list of addressees. The applicant’s address was indicated correctly. However, according to the applicant, he did not receive that letter or any other notification of the appeal hearing.</p>\\n<p>11.  In October 2003 the applicant called the Registry of the Moscow Regional Court in order to inquire about the date of the appeal hearing. He was informed that the hearing had already taken place.</p>\\n<p>12.  Later, the applicant received a copy of the appeal decision of the Regional Court, which was dated 16 June 2003. By that decision the Regional Court upheld the judgment of 28 January 2003. It followed from the decision that the Regional Court had not verified whether the applicant had been duly summonsed to the hearing.</p>\\n<h4>II.  RELEVANT DOMESTIC LAW</h4>\\n<p>13.  The Code of Civil Procedure of 14 November 2002 (in force as of 1 February 2003) provides that parties to the proceedings are to be summonsed to a court by registered mail with a confirmation of receipt, by a phone call or a telegram, by fax or by using any other means which will secure the delivery of the summons to the addressee. Summonses should be served on the parties in such a way that they have enough time to prepare their case and appear at the hearing (Article 113).</p>\\n<p>14.  Summonses are to be sent by mail or by a court courier. The time when a summons is served on the addressee is to be recorded on a document which should be returned to the court or in any other way used by the postal service. A judge may request a party to the proceedings to transmit a summons to another party. In that case, that person should bring to the court an acknowledgment of receipt (Article 115).</p>\\n<p>15.  A summons is to be served on a person against his or her signature, on its copy, which is to be returned to the court (Article 116).</p>\\n<p>16.  A civil case is to be heard in a court session with mandatory notification to all parties to the case of the place and time of the court session (Article 155).</p>\\n<p>17.  If a party to the case fails to appear at the hearing and there is no evidence that the party has been duly summonsed, the hearing is to be adjourned (Article 167).</p>\\n<h3>THE LAW</h3>\\n<h4>I.  ALLEGED VIOLATION OF ARTICLE 6 OF THE CONVENTION</h4>\\n<p>18.  The applicant complained that the examination of the appeal without giving him an effective opportunity to attend the hearing had violated his right to a fair hearing under Article 6 § 1 of the Convention, which reads as follows:</p>\\n<blockquote>“In the determination of his civil rights and obligations ..., everyone is entitled to a fair ... hearing ... by [a] ... tribunal ...”</blockquote>\\n<p class=\"section\">A.  Admissibility</p>\\n<p>19.  The Court notes that this complaint is not manifestly ill-founded within the meaning of Article 35 § 3 of the Convention. It further notes that it is not inadmissible on any other grounds. It must therefore be declared admissible.</p>\\n<p class=\"section\">B.  Merits</p>\\n<p>20.  The Government argued that the applicant had been duly notified of the appeal hearing. They further submitted that the appeal hearing had taken place on 18 June 2003 and that the appeal decision served on the applicant had been dated 16 June 2003 by mistake. In support of that submission they provided the Court with a copy of a decision dated 18 June 2003 by which the Regional Court dismissed submissions K. and his representative had lodged before the examination of the appeal hearing.</p>\\n<p>21.  The applicant maintained his complaint.</p>\\n<p>22.  The Court is ready to accept that the appeal hearing took place on 18 June 2003. The Court further notes that the letter of 28 May 2003, by which the President of the Town Court informed the parties that the appeal hearing had been scheduled for 10 a.m. on 18 June 2003, was allegedly sent to the applicant’s correct address. However, the Government did not present any evidence, such as acknowledgement of receipt, showing that it had reached the applicant, and that it had done so in good time. Having regard to the provisions of the Russian law on the service of court summons (see Relevant domestic law above), the Court considers that the Government should have been in possession of such evidence, or at least reasons why the courier could not have had the applicant sign for receipt of the letter. The failure on the Government’s part to submit evidence without a satisfactory explanation gives rise to drawing of inferences as to the ill-foundedness of their allegations. In these circumstances, the Court is not persuaded that the domestic authorities had notified the applicant of the appeal hearing in such a way as to provide him with an opportunity to attend it and present his case.</p>\\n<p>23.  The Court reiterates that it has frequently found violations of Article 6 § 1 of the Convention in cases raising issues similar to the one in the present case (see <i>Yakovlev v. Russia</i>, no. 72701/01, §§ 19 et seq., 15 March 2005; <i>Groshev v. Russia</i>, no. 69889/01, §§ 27 et seq., 20 October 2005; <i>Mokrushina v. Russia</i>, no. 23377/02, §§ 20 et seq., 5 October 2006; and <i>Prokopenko v. Russia</i>, no. 8630/03, §§ 17 et seq., 3 May 2007).</p>\\n<p>24.  Having examined the materials submitted to it, the Court notes that the Government have not put forward any fact or argument capable of persuading it to reach a different conclusion in the present case. The Court has established that owing to the missing notification the applicant was deprived of the opportunity to attend the appeal hearing. The Court also notes that there is nothing in the appeal judgment to suggest that the appeal court examined the question whether the applicant had been duly summonsed and, if he had not, whether the examination of the appeal should have been adjourned.</p>\\n<p>25.  It follows that there was a violation of the applicant’s right to a fair hearing enshrined in Article 6 § 1 of the Convention.</p>\\n<h4>II.  OTHER ALLEGED VIOLATIONS OF THE CONVENTION</h4>\\n<p>26.  The applicant complained under Articles 6 § 1, 8 and 13 of the Convention that the dismissal of his action against K. had breached his right to a judicial protection of his honour, dignity and good reputation, which were an inherent part of his private life. He further complained that his rights under Article 6 § 2 had been violated because a public official had accused him of a crime and that he had been compelled to prove his innocence. He also complained under Articles 6 and 13 that the amount of legal costs awarded to him was too small. Finally, he considered that his action had not been examined within a reasonable time, in breach of Article 6.</p>\\n<p>27.  Having regard to all the material in its possession, and in so far as these complaints fall within its competence <i>ratione materiae</i>, the Court finds that they do not disclose any appearance of a violation of the rights and freedoms set out in the Convention or its Protocols. It follows that this part of the application must be rejected as being manifestly ill-founded, pursuant to Article 35 §§ 3 and 4 of the Convention.</p>\\n<h4>III.  APPLICATION OF ARTICLE 41 OF THE CONVENTION</h4>\\n<p>28.  Article 41 of the Convention provides:</p>\\n<blockquote>“If the Court finds that there has been a violation of the Convention or the Protocols thereto, and if the internal law of the High Contracting Party concerned allows only partial reparation to be made, the Court shall, if necessary, afford just satisfaction to the injured party.”</blockquote>\\n<p class=\"section\">A.  Damage</p>\\n<p>29.  The applicant claimed 7,650 Russian roubles (RUB) in respect of pecuniary damage, which represented the costs awarded by the domestic courts and to be paid by the defendants. The applicant submitted that they had not been paid to him. He also claimed 10,000 euros (EUR) in respect of non-pecuniary damage.</p>\\n<p>30.  The Government considered that there was no causal link between the applicant’s claim for pecuniary damage and the subject matter of the present application. As regards the non-pecuniary damage, they submitted that it was unsubstantiated.</p>\\n<p>31.  The Court does not discern any causal link between the violation found and the pecuniary damage alleged, as the issue of the defendants’ failure to pay the legal costs to the applicant was not the subject of the present application. Therefore the Court rejects the applicant’s claim in that part. On the other hand, the Court considers that the applicant suffered non‑pecuniary damage which would not be adequately compensated by the finding of a violation alone. However, the amount claimed by the applicant appears to be excessive. Making its assessment on an equitable basis, the Court awards the applicant EUR 1,000 in respect of non-pecuniary damage plus any tax that may be chargeable on that amount.</p>\\n<p class=\"section\">B.  Costs and expenses</p>\\n<p>32.  The applicant also claimed RUB 108,000 and RUB 30,000, which corresponded to his lawyer’s fees for representing him before the domestic authorities and for drafting the application to the Court respectively. In support of his claim he submitted a contract concluded between him and his lawyer.</p>\\n<p>33.  The Government submitted that the applicant’s claim relating to the costs occurred before the domestic authorities did not have any link with the subject matter of the present case and should be rejected. As regards the costs related to drafting of the application to the Court, the Government considered that they were not reasonable and that the applicant did not provide any document confirming that those expenses had actually been incurred.</p>\\n<p>34.  According to the Court’s case-law, an applicant is entitled to the reimbursement of costs and expenses only in so far as it has been shown that these have been actually and necessarily incurred and are reasonable as to quantum. In the present case, regard being had to the information in its possession and the above criteria, the Court considers it reasonable to award the sum of EUR 1,000 covering costs under all heads, plus any tax that may be chargeable to the applicant on that amount.</p>\\n<p class=\"section\">C.  Default interest</p>\\n<p>35.  The Court considers it appropriate that the default interest should be based on the marginal lending rate of the European Central Bank, to which should be added three percentage points.</p>\\n<h3>FOR THESE REASONS, THE COURT UNANIMOUSLY</h3>\\n<p>1.  <i>Declares</i> the complaint concerning the domestic authorities’ failure to apprise the applicant of the appeal hearing admissible and the remainder of the application inadmissible;</p>\\n<p></p>\\n<p>2.  <i>Holds</i> that there has been a violation of Article 6 of the Convention;</p>\\n<p></p>\\n<p>3.  <i>Holds</i></p>\\n<ul>\\n<li>(a)  that the respondent State is to pay the applicant, within three months from the date on which the judgment becomes final in accordance with Article 44 § 2 of the Convention the following amounts, to be converted into Russian roubles at the rate applicable at the date of settlement:</li>\\n<ul><li>(i)  EUR 1,000 (one thousand euros) in respect of non-pecuniary damage, plus any tax that may be chargeable on that amount;</li></ul>\\n<ul><li>(ii)  EUR 1,000 (one thousand euros) in respect of costs and expenses, plus any tax that may be chargeable to the applicant on that amount;</li></ul>\\n<li>(b)  that from the expiry of the above-mentioned three months until settlement simple interest shall be payable on the above amounts at a rate equal to the marginal lending rate of the European Central Bank during the default period plus three percentage points;</li>\\n</ul>\\n<p></p>\\n<p>4.  <i>Dismisses</i> the remainder of the applicant’s claim for just satisfaction.</p>\\n<p>Done in English, and notified in writing on 16 October 2008, pursuant to Rule 77 §§ 2 and 3 of the Rules of Court.</p>\\n<p>André WampachChristos Rozakis<br>Deputy RegistrarPresident</p>\\n</div>'}"
      ]
     },
     "execution_count": 61,
     "metadata": {},
     "output_type": "execute_result"
    }
   ],
   "source": [
    "clean.getCase('HUDOC-ECHR-2008-001-88939')"
   ]
  },
  {
   "cell_type": "code",
   "execution_count": 59,
   "metadata": {},
   "outputs": [
    {
     "name": "stdout",
     "output_type": "stream",
     "text": [
      "CASE: HUDOC-ECHR-2008-001-88939\n",
      "================================\n",
      "\n"
     ]
    },
    {
     "data": {
      "text/html": [
       "<div>\n",
       "<p align=\"center\">FIRST SECTION</p>\n",
       "<p align=\"center\"></p>\n",
       "<p align=\"center\"></p>\n",
       "<p align=\"center\"><b>CASE OF </b><b>SAZONOV v. RUSSIA</b></p>\n",
       "<p align=\"center\"></p>\n",
       "<p align=\"center\"><i>(Application no. 1385/04)</i></p>\n",
       "<p align=\"center\"></p>\n",
       "<p align=\"center\"></p>\n",
       "<p align=\"center\">JUDGMENT</p>\n",
       "<p align=\"center\"></p>\n",
       "<p align=\"center\"></p>\n",
       "<p align=\"center\">STRASBOURG </p>\n",
       "<p align=\"center\"></p>\n",
       "<p align=\"center\">16 October 2008</p>\n",
       "<p align=\"center\"></p>\n",
       "<p align=\"center\"><b><u>FINAL</u></b></p>\n",
       "<p align=\"center\"></p>\n",
       "<p align=\"center\"><i>16/01/2009</i></p>\n",
       "<p align=\"center\"></p>\n",
       "<p align=\"center\"><i>This judgment may be subject to editorial revision.</i></p>\n",
       "</div>\n",
       "<br><div>\n",
       "<p class=\"section\">In the case of Sazonov v. Russia,</p>\n",
       "<p>The European Court of Human Rights (First Section), sitting as a Chamber composed of:</p>\n",
       "<p>Christos Rozakis,<i> President,</i><br>Nina Vajić,<br>Anatoly Kovler,<br>Elisabeth Steiner,<br>Khanlar Hajiyev,<br>Giorgio Malinverni,<br>George Nicolaou,<i> judges,</i><br>and André Wampach, <i>Deputy</i><i>Section Registrar</i>,</p>\n",
       "<p>Having deliberated in private on 25 September 2008,</p>\n",
       "<p>Delivers the following judgment, which was adopted on that date:</p>\n",
       "<h3>PROCEDURE</h3>\n",
       "<p>1.  The case originated in an application (no. 1385/04) against the Russian Federation lodged with the Court under Article 34 of the Convention for the Protection of Human Rights and Fundamental Freedoms (“the Convention”) by a Russian national, Mr Igor Alekseyevich Sazonov (“the applicant”), on 18 December 2003.</p>\n",
       "<p>2.  The Russian Government (“the Government”) were represented by Mr P. Laptev and Ms V. Milinchuk, former representatives of the Russian Federation at the European Court of Human Rights.</p>\n",
       "<p>3.  On 30 August 2006 the Court decided to give notice of the application to the Government. It also decided to examine the merits of the application at the same time as its admissibility (Article 29 § 3).</p>\n",
       "<h3>THE FACTS</h3>\n",
       "<h4>I.  THE CIRCUMSTANCES OF THE CASE</h4>\n",
       "<p>4.  The applicant was born in 1968 and lives in Dolgoprudnyy, a town in the Moscow region.</p>\n",
       "<p>5.  On 7 April 2000 the Head of Dolgoprudnyy Town Administration, K., held a meeting with heads of departments where he stated that the applicant was planning the murder of his (K.’s) son-in-law and had hired a killer for this purpose. That statement was not included in the minutes of the meeting.</p>\n",
       "<p>6.  On 14 April 2000 a local newspaper published an article under the title “The hirer of a killer lives peacefully in Dolgoprudnyy and is going to become a minister”. The article contained, <i>inter alia</i>, the same statement as disseminated by K. at the meeting.</p>\n",
       "<p>7.  On 25 April 2000 the applicant brought a libel action against K., editors and founders of the newspaper and an author of the article.</p>\n",
       "<p>8.  On 28 January 2003 Dolgoprudnenskiy Town Court of the Moscow Region (“the Town Court”) granted his claim in part. The court ordered the newspaper to publish a retraction of the statement made in the article. The court also ordered the founders of the newspaper to pay the applicant 30,000 Russian roubles (RUB) in respect of non-pecuniary damage and costs in the amount of RUB 7,650, instead of the RUB 108,000 claimed by the applicant. The court dismissed the claim against K. It found that on 24 December 1999 a certain L. had stated to the Department of Federal Security that he had been hired by the applicant to kill K.’s son-in-law. Since the competent authorities did not take any measures in this connection, K. had good reasons to take them on his own. The court was satisfied that his statement at the meeting with the heads of departments was merely aimed at securing the safety of his family and that he had no intention of offending the applicant. Furthermore, the statement had not been reflected in the minutes of the meeting and was not otherwise made public.</p>\n",
       "<p>9.  Both parties appealed against the judgment to the Moscow Regional Court (“the Regional Court”).</p>\n",
       "<p>10.  On 28 May 2003 the President of the Town Court sent the case file to the Regional Court. The accompanying letter stated that the appeal hearing was scheduled for 10 a.m. on 18 June 2003. The applicant and his representative were included in the list of addressees. The applicant’s address was indicated correctly. However, according to the applicant, he did not receive that letter or any other notification of the appeal hearing.</p>\n",
       "<p>11.  In October 2003 the applicant called the Registry of the Moscow Regional Court in order to inquire about the date of the appeal hearing. He was informed that the hearing had already taken place.</p>\n",
       "<p>12.  Later, the applicant received a copy of the appeal decision of the Regional Court, which was dated 16 June 2003. By that decision the Regional Court upheld the judgment of 28 January 2003. It followed from the decision that the Regional Court had not verified whether the applicant had been duly summonsed to the hearing.</p>\n",
       "<h4>II.  RELEVANT DOMESTIC LAW</h4>\n",
       "<p>13.  The Code of Civil Procedure of 14 November 2002 (in force as of 1 February 2003) provides that parties to the proceedings are to be summonsed to a court by registered mail with a confirmation of receipt, by a phone call or a telegram, by fax or by using any other means which will secure the delivery of the summons to the addressee. Summonses should be served on the parties in such a way that they have enough time to prepare their case and appear at the hearing (Article 113).</p>\n",
       "<p>14.  Summonses are to be sent by mail or by a court courier. The time when a summons is served on the addressee is to be recorded on a document which should be returned to the court or in any other way used by the postal service. A judge may request a party to the proceedings to transmit a summons to another party. In that case, that person should bring to the court an acknowledgment of receipt (Article 115).</p>\n",
       "<p>15.  A summons is to be served on a person against his or her signature, on its copy, which is to be returned to the court (Article 116).</p>\n",
       "<p>16.  A civil case is to be heard in a court session with mandatory notification to all parties to the case of the place and time of the court session (Article 155).</p>\n",
       "<p>17.  If a party to the case fails to appear at the hearing and there is no evidence that the party has been duly summonsed, the hearing is to be adjourned (Article 167).</p>\n",
       "<h3>THE LAW</h3>\n",
       "<h4>I.  ALLEGED VIOLATION OF ARTICLE 6 OF THE CONVENTION</h4>\n",
       "<p>18.  The applicant complained that the examination of the appeal without giving him an effective opportunity to attend the hearing had violated his right to a fair hearing under Article 6 § 1 of the Convention, which reads as follows:</p>\n",
       "<blockquote>“In the determination of his civil rights and obligations ..., everyone is entitled to a fair ... hearing ... by [a] ... tribunal ...”</blockquote>\n",
       "<p class=\"section\">A.  Admissibility</p>\n",
       "<p>19.  The Court notes that this complaint is not manifestly ill-founded within the meaning of Article 35 § 3 of the Convention. It further notes that it is not inadmissible on any other grounds. It must therefore be declared admissible.</p>\n",
       "<p class=\"section\">B.  Merits</p>\n",
       "<p>20.  The Government argued that the applicant had been duly notified of the appeal hearing. They further submitted that the appeal hearing had taken place on 18 June 2003 and that the appeal decision served on the applicant had been dated 16 June 2003 by mistake. In support of that submission they provided the Court with a copy of a decision dated 18 June 2003 by which the Regional Court dismissed submissions K. and his representative had lodged before the examination of the appeal hearing.</p>\n",
       "<p>21.  The applicant maintained his complaint.</p>\n",
       "<p>22.  The Court is ready to accept that the appeal hearing took place on 18 June 2003. The Court further notes that the letter of 28 May 2003, by which the President of the Town Court informed the parties that the appeal hearing had been scheduled for 10 a.m. on 18 June 2003, was allegedly sent to the applicant’s correct address. However, the Government did not present any evidence, such as acknowledgement of receipt, showing that it had reached the applicant, and that it had done so in good time. Having regard to the provisions of the Russian law on the service of court summons (see Relevant domestic law above), the Court considers that the Government should have been in possession of such evidence, or at least reasons why the courier could not have had the applicant sign for receipt of the letter. The failure on the Government’s part to submit evidence without a satisfactory explanation gives rise to drawing of inferences as to the ill-foundedness of their allegations. In these circumstances, the Court is not persuaded that the domestic authorities had notified the applicant of the appeal hearing in such a way as to provide him with an opportunity to attend it and present his case.</p>\n",
       "<p>23.  The Court reiterates that it has frequently found violations of Article 6 § 1 of the Convention in cases raising issues similar to the one in the present case (see <i>Yakovlev v. Russia</i>, no. 72701/01, §§ 19 et seq., 15 March 2005; <i>Groshev v. Russia</i>, no. 69889/01, §§ 27 et seq., 20 October 2005; <i>Mokrushina v. Russia</i>, no. 23377/02, §§ 20 et seq., 5 October 2006; and <i>Prokopenko v. Russia</i>, no. 8630/03, §§ 17 et seq., 3 May 2007).</p>\n",
       "<p>24.  Having examined the materials submitted to it, the Court notes that the Government have not put forward any fact or argument capable of persuading it to reach a different conclusion in the present case. The Court has established that owing to the missing notification the applicant was deprived of the opportunity to attend the appeal hearing. The Court also notes that there is nothing in the appeal judgment to suggest that the appeal court examined the question whether the applicant had been duly summonsed and, if he had not, whether the examination of the appeal should have been adjourned.</p>\n",
       "<p>25.  It follows that there was a violation of the applicant’s right to a fair hearing enshrined in Article 6 § 1 of the Convention.</p>\n",
       "<h4>II.  OTHER ALLEGED VIOLATIONS OF THE CONVENTION</h4>\n",
       "<p>26.  The applicant complained under Articles 6 § 1, 8 and 13 of the Convention that the dismissal of his action against K. had breached his right to a judicial protection of his honour, dignity and good reputation, which were an inherent part of his private life. He further complained that his rights under Article 6 § 2 had been violated because a public official had accused him of a crime and that he had been compelled to prove his innocence. He also complained under Articles 6 and 13 that the amount of legal costs awarded to him was too small. Finally, he considered that his action had not been examined within a reasonable time, in breach of Article 6.</p>\n",
       "<p>27.  Having regard to all the material in its possession, and in so far as these complaints fall within its competence <i>ratione materiae</i>, the Court finds that they do not disclose any appearance of a violation of the rights and freedoms set out in the Convention or its Protocols. It follows that this part of the application must be rejected as being manifestly ill-founded, pursuant to Article 35 §§ 3 and 4 of the Convention.</p>\n",
       "<h4>III.  APPLICATION OF ARTICLE 41 OF THE CONVENTION</h4>\n",
       "<p>28.  Article 41 of the Convention provides:</p>\n",
       "<blockquote>“If the Court finds that there has been a violation of the Convention or the Protocols thereto, and if the internal law of the High Contracting Party concerned allows only partial reparation to be made, the Court shall, if necessary, afford just satisfaction to the injured party.”</blockquote>\n",
       "<p class=\"section\">A.  Damage</p>\n",
       "<p>29.  The applicant claimed 7,650 Russian roubles (RUB) in respect of pecuniary damage, which represented the costs awarded by the domestic courts and to be paid by the defendants. The applicant submitted that they had not been paid to him. He also claimed 10,000 euros (EUR) in respect of non-pecuniary damage.</p>\n",
       "<p>30.  The Government considered that there was no causal link between the applicant’s claim for pecuniary damage and the subject matter of the present application. As regards the non-pecuniary damage, they submitted that it was unsubstantiated.</p>\n",
       "<p>31.  The Court does not discern any causal link between the violation found and the pecuniary damage alleged, as the issue of the defendants’ failure to pay the legal costs to the applicant was not the subject of the present application. Therefore the Court rejects the applicant’s claim in that part. On the other hand, the Court considers that the applicant suffered non‑pecuniary damage which would not be adequately compensated by the finding of a violation alone. However, the amount claimed by the applicant appears to be excessive. Making its assessment on an equitable basis, the Court awards the applicant EUR 1,000 in respect of non-pecuniary damage plus any tax that may be chargeable on that amount.</p>\n",
       "<p class=\"section\">B.  Costs and expenses</p>\n",
       "<p>32.  The applicant also claimed RUB 108,000 and RUB 30,000, which corresponded to his lawyer’s fees for representing him before the domestic authorities and for drafting the application to the Court respectively. In support of his claim he submitted a contract concluded between him and his lawyer.</p>\n",
       "<p>33.  The Government submitted that the applicant’s claim relating to the costs occurred before the domestic authorities did not have any link with the subject matter of the present case and should be rejected. As regards the costs related to drafting of the application to the Court, the Government considered that they were not reasonable and that the applicant did not provide any document confirming that those expenses had actually been incurred.</p>\n",
       "<p>34.  According to the Court’s case-law, an applicant is entitled to the reimbursement of costs and expenses only in so far as it has been shown that these have been actually and necessarily incurred and are reasonable as to quantum. In the present case, regard being had to the information in its possession and the above criteria, the Court considers it reasonable to award the sum of EUR 1,000 covering costs under all heads, plus any tax that may be chargeable to the applicant on that amount.</p>\n",
       "<p class=\"section\">C.  Default interest</p>\n",
       "<p>35.  The Court considers it appropriate that the default interest should be based on the marginal lending rate of the European Central Bank, to which should be added three percentage points.</p>\n",
       "<h3>FOR THESE REASONS, THE COURT UNANIMOUSLY</h3>\n",
       "<p>1.  <i>Declares</i> the complaint concerning the domestic authorities’ failure to apprise the applicant of the appeal hearing admissible and the remainder of the application inadmissible;</p>\n",
       "<p></p>\n",
       "<p>2.  <i>Holds</i> that there has been a violation of Article 6 of the Convention;</p>\n",
       "<p></p>\n",
       "<p>3.  <i>Holds</i></p>\n",
       "<ul>\n",
       "<li>(a)  that the respondent State is to pay the applicant, within three months from the date on which the judgment becomes final in accordance with Article 44 § 2 of the Convention the following amounts, to be converted into Russian roubles at the rate applicable at the date of settlement:</li>\n",
       "<ul><li>(i)  EUR 1,000 (one thousand euros) in respect of non-pecuniary damage, plus any tax that may be chargeable on that amount;</li></ul>\n",
       "<ul><li>(ii)  EUR 1,000 (one thousand euros) in respect of costs and expenses, plus any tax that may be chargeable to the applicant on that amount;</li></ul>\n",
       "<li>(b)  that from the expiry of the above-mentioned three months until settlement simple interest shall be payable on the above amounts at a rate equal to the marginal lending rate of the European Central Bank during the default period plus three percentage points;</li>\n",
       "</ul>\n",
       "<p></p>\n",
       "<p>4.  <i>Dismisses</i> the remainder of the applicant’s claim for just satisfaction.</p>\n",
       "<p>Done in English, and notified in writing on 16 October 2008, pursuant to Rule 77 §§ 2 and 3 of the Rules of Court.</p>\n",
       "<p>André WampachChristos Rozakis<br>Deputy RegistrarPresident</p>\n",
       "</div>"
      ],
      "text/plain": [
       "<IPython.core.display.HTML object>"
      ]
     },
     "metadata": {},
     "output_type": "display_data"
    }
   ],
   "source": [
    "clean.renderHTML('HUDOC-ECHR-2008-001-88939')"
   ]
  },
  {
   "cell_type": "code",
   "execution_count": 57,
   "metadata": {
    "scrolled": false
   },
   "outputs": [
    {
     "name": "stdout",
     "output_type": "stream",
     "text": [
      "case of sazonov v. russia\n",
      "HUDOC-ECHR-2012-001-115896\n",
      "CASE: HUDOC-ECHR-2012-001-115896\n",
      "================================\n",
      "\n"
     ]
    },
    {
     "data": {
      "text/html": [
       "<div>\n",
       "<p align=\"center\">FIRST SECTION</p>\n",
       "<p align=\"center\">Application no. 42616/08<br>Vitaliy Petrovich SAZONOV<br>against Russia<br>lodged on 24 July 2008</p>\n",
       "<h4 align=\"center\"><b><u>STATEMENT OF FACTS</u></b></h4>\n",
       "<h3>THE FACTS</h3>\n",
       "<p>The applicant, Mr Vitaliy Petrovich Sazonov, is a Russian national, who was born in 1972 and lives in Chernyakhovsk, the Kaliningrad Region. He is represented before the Court by Mr S. Tarasyuk, a lawyer practising in Kaliningrad.</p>\n",
       "<p class=\"section\">The circumstances of the case</p>\n",
       "<p>The facts of the case, as submitted by the applicant, may be summarised as follows.</p>\n",
       "<p>The applicant has been convicted in criminal proceedings of bribe­giving. The principal evidence against him derived from an operative experiment conducted in accordance with Section 6 of the Operational‑Search Activities Act.</p>\n",
       "<p>At his trial the applicant claimed that the offence in question was committed as a result of entrapment by the authorities. He alleged the involvement of an <i>agent</i><i>provocateur</i>. These objections were dismissed. According to the applicant, a key witness, Mr K. who was summoned to the court to give evidence and appeared there was forcefully removed from the hearing room by the police before he could testify.</p>\n",
       "<p>The first-instance judgment was held by the Leningradskiy District Court of Kaliningrad on 11 July 2008. It was upheld on appeal by the Kaliningrad Regional Court on 23 December 2008.</p>\n",
       "<h3>COMPLAINTS</h3>\n",
       "<p>The applicant complains that he had been unfairly convicted of a criminal offence incited by the police and that his plea of entrapment had not been properly examined in the domestic proceedings, in violation of Article 6 of the Convention. He also complains that a defence witnesses, Mr K., have not been examined at the hearing. These complaints fall to be examined under Article 6 §§ 1 and 3 (d) of the Convention.</p>\n",
       "<p align=\"center\"></p>\n",
       "<h3 align=\"center\"><b><u>QUESTIONS</u></b></h3>\n",
       "<p>1.  Did the undercover technique used to investigate the offence in the present case amount to an entrapment (see <i>Ramanauskas v. Lithuania </i>([GC], no. 74420/01, § 51, ECHR 2008-...)?</p>\n",
       "<p></p>\n",
       "<p>2.  Before the applicant was approached by the undercover agent (the police agent, collaborator, informant or other person acting on the authorities’ instructions in the covert operation concerned), did the investigative authorities possess preliminary information concerning the applicant’s pre-existing criminal intent? Did this information come from a verifiable source unconnected with the individuals involved in the undercover operation (see <i>Vanyan</i><i>v. Russia</i>, no. 53203/99, § 49, 15 December 2005, and <i>Khudobin</i><i>v. Russia</i>, no. 59696/00, § 134, ECHR 2006‑XII (extracts))?</p>\n",
       "<p></p>\n",
       "<p>3.  Did the undercover agent exert such an influence on the applicant as to incite the commission of an offence that would otherwise not have been committed? Was the applicant subjected to any pressure, either through prompting, persuasion, pleading compassion or otherwise, on the part of the undercover agent to commit the offence (see <i>Malininas</i><i>v. Lithuania</i>, no. 10071/04, § 37, 1 July 2008, <i>Vanyan</i>, cited above, §§ 11 and 49 and <i>Ramanauskas</i>, cited above, § 67)?</p>\n",
       "<p></p>\n",
       "<p>4.  Did the authorities have good reasons for mounting the covert operation (see <i>Ramanauskas</i>, cited above, §§ 63 and 64, and <i>Malininas</i>, cited above, § 36)? What other investigative activities were carried out as regards the applicant prior to the covert operation?</p>\n",
       "<p></p>\n",
       "<p>5.  Was the procedure authorising the covert operation clear and foreseeable (<i>Vanyan</i>, cited above, §§ 46 and 47, and <i>Khudobin</i>, cited above, § 135)? Did the decision authorising it refer to the information as to the reasons for and purposes of the planned covert operation?</p>\n",
       "<p></p>\n",
       "<p>6.  Was the covert operation carried out in the present case subject to any judicial control or other independent supervision (see <i>Milinienė v. Lithuania</i>, no. 74355/01, § 39, 24 June 2008)?</p>\n",
       "<p></p>\n",
       "<p>7.  Was the applicant afforded adequate procedural safeguards enabling him to raise a complaint about entrapment before the national courts (see <i>Ramanauskas</i>, cited above, §§ 69-70)?</p>\n",
       "<p></p>\n",
       "<p>8.  Was the issue of entrapment examined in an adversarial, thorough and comprehensive manner? Was all relevant information, particularly regarding the purported suspicions about the applicant’s previous conduct, put openly before the trial court or tested in an adversarial manner (see <i>V. v. Finland</i>, §§ 76 et seq., and <i>Malininas</i>, § 36, both cited above; and <i>Bulfinsky v. Romania</i>, no. 28823/04, 1 June 2010)?</p>\n",
       "<p></p>\n",
       "<p>9.  Did the courts have access to the full file relating to the operational‑search activities against the applicant prior to the covert operation? What other material did the courts examine to answer the plea of entrapment?</p>\n",
       "<p></p>\n",
       "<p>10.  Did the courts assess the reasons why the operation had been mounted, the extent of the police’s involvement in the offence and the nature of any incitement or pressure to which the applicant had been subjected? Was the applicant given an opportunity to state his case on each of these points (see <i>Ramanauskas</i>, cited above, § 71)?</p>\n",
       "<p></p>\n",
       "<p>11.  Were the undercover agents and other witnesses who could testify on the issue of incitement heard in court and cross-examined by the defence (see <i>Lüdi v. Switzerland</i>, 15 June 1992, § 49, Series A no. 238; <i>Sequeira</i><i>v. Portugal</i> (dec.), no. 73557/01, ECHR 2003-VI; <i>Shannon v. the United Kingdom</i> (dec.), no. 67537/01, ECHR 2004-IV, <i>Bulfinsky</i>, § 45, cited above; and <i>Kuzmickaja v. Lithuania</i> (dec.), no. 27968/03, 10 June 2008)?</p>\n",
       "<p></p>\n",
       "<p>12.  Having regard to the above, did the applicant have a fair hearing in the determination of the criminal charge against him, in accordance with Article 6 § 1 of the Convention?</p>\n",
       "<p></p>\n",
       "<p>13.  Was the applicant able to examine witnesses against him and to obtain the attendance of witnesses on his behalf under the same conditions as witnesses against him, as required by Article 6 § 3 (d) of the Convention?</p>\n",
       "<p></p>\n",
       "<p>14.  The Government are requested to provide a full copy of the court records of the first-instance hearing.</p>\n",
       "</div>"
      ],
      "text/plain": [
       "<IPython.core.display.HTML object>"
      ]
     },
     "metadata": {},
     "output_type": "display_data"
    }
   ],
   "source": [
    "name = echr['doc-name'][3]\n",
    "print(name)\n",
    "try:\n",
    "    ID = nameDic[name]\n",
    "    print(ID)\n",
    "    clean.renderHTML(ID)\n",
    "except:\n",
    "    print(\"Not Working\")"
   ]
  },
  {
   "cell_type": "code",
   "execution_count": null,
   "metadata": {},
   "outputs": [],
   "source": []
  },
  {
   "cell_type": "code",
   "execution_count": null,
   "metadata": {},
   "outputs": [],
   "source": []
  },
  {
   "cell_type": "code",
   "execution_count": null,
   "metadata": {},
   "outputs": [],
   "source": []
  }
 ],
 "metadata": {
  "kernelspec": {
   "display_name": "Python 3",
   "language": "python",
   "name": "python3"
  },
  "language_info": {
   "codemirror_mode": {
    "name": "ipython",
    "version": 3
   },
   "file_extension": ".py",
   "mimetype": "text/x-python",
   "name": "python",
   "nbconvert_exporter": "python",
   "pygments_lexer": "ipython3",
   "version": "3.6.8"
  }
 },
 "nbformat": 4,
 "nbformat_minor": 2
}

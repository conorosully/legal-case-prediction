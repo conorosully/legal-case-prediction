{
 "cells": [
  {
   "cell_type": "code",
   "execution_count": null,
   "metadata": {},
   "outputs": [],
   "source": [
    "import sys\n",
    "import os\n",
    "\n",
    "import numpy as np\n",
    "import pandas as pd\n",
    "import pickle\n",
    "from tqdm import tnrange, tqdm_notebook\n",
    "\n",
    "from sklearn.svm import SVC\n",
    "from sklearn.model_selection import train_test_split\n",
    "from sklearn.model_selection import cross_val_score\n",
    "\n",
    "import sklearn.model_selection\n",
    "import sklearn.datasets\n",
    "import sklearn.metrics\n",
    "import autosklearn.classification\n"
   ]
  },
  {
   "cell_type": "code",
   "execution_count": null,
   "metadata": {},
   "outputs": [],
   "source": [
    "#To load from pickle file\n",
    "path = path = \"/home/conor/legal/autoML/data/features/{}\"\n",
    "\n",
    "features = []\n",
    "with open(path.format('features.pickle'), 'rb') as fr:\n",
    "    features = pickle.load(fr)\n",
    "    fr.close()\n",
    "print(len(features))\n",
    "features[0]"
   ]
  },
  {
   "cell_type": "code",
   "execution_count": null,
   "metadata": {},
   "outputs": [],
   "source": [
    "def autoML(filename):\n",
    "    \n",
    "    path = \"/home/conor/legal/autoML/data/features/{}.csv\"\n",
    "    row = filename.split(\"_\")\n",
    "\n",
    "    train = pd.read_csv(path.format(\"train_\"+filename))\n",
    "    X_train = train.drop(columns='target')\n",
    "    y_train = train['target']\n",
    "    \n",
    "    test = pd.read_csv(path.format(\"test_\"+filename))\n",
    "    X_test= test.drop(columns='target')\n",
    "    y_test = test['target'] \n",
    "    \n",
    "    automl = autosklearn.classification.AutoSklearnClassifier(\n",
    "        ensemble_size=1,\n",
    "        initial_configurations_via_metalearning=0,\n",
    "        time_left_for_this_task=120,\n",
    "        per_run_time_limit=30,\n",
    "        resampling_strategy='cv',\n",
    "        resampling_strategy_arguments={'folds': 10},\n",
    "        include_preprocessors=[\"no_preprocessing\"],\n",
    "        n_jobs = 6\n",
    "    )\n",
    "\n",
    "    # fit() changes the data in place, but refit needs the original data. We\n",
    "    # therefore copy the data. In practice, one should reload the data\n",
    "    automl.fit(X_train.copy(), y_train.copy(), dataset_name='legal_jazz')\n",
    "\n",
    "    automl.refit(X_train.copy(), y_train.copy())\n",
    "    \n",
    "    model = automl.show_models()\n",
    "    stats = automl.sprint_statistics()\n",
    "    predictions = automl.predict(X_test)\n",
    "    \n",
    "    train_accuracy = float(stats.split('Best validation score: ')[1].split(\"\\n\")[0])\n",
    "    test_accuracy = sklearn.metrics.accuracy_score(y_test, predictions)\n",
    "    \n",
    "    row = row + [train_accuracy,test_accuracy,model,stats,predictions]\n",
    "    \n",
    "    return row\n"
   ]
  },
  {
   "cell_type": "code",
   "execution_count": null,
   "metadata": {},
   "outputs": [],
   "source": [
    "row = autoML(\"ngram_2000_2_both_none\")"
   ]
  },
  {
   "cell_type": "code",
   "execution_count": null,
   "metadata": {},
   "outputs": [],
   "source": [
    "results = []\n",
    "for f in tqdm_notebook(features[0:5]):\n",
    "    try:\n",
    "        result = autoML(f)\n",
    "        results.append(result)\n",
    "    except: \n",
    "        print(f)\n",
    "    \n",
    "print(len(results))"
   ]
  }
 ],
 "metadata": {
  "kernelspec": {
   "display_name": "Python 3",
   "language": "python",
   "name": "python3"
  },
  "language_info": {
   "codemirror_mode": {
    "name": "ipython",
    "version": 3
   },
   "file_extension": ".py",
   "mimetype": "text/x-python",
   "name": "python",
   "nbconvert_exporter": "python",
   "pygments_lexer": "ipython3",
   "version": "3.6.8"
  }
 },
 "nbformat": 4,
 "nbformat_minor": 2
}

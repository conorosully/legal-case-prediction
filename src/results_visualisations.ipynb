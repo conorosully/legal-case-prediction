{
 "cells": [
  {
   "cell_type": "code",
   "execution_count": 60,
   "metadata": {},
   "outputs": [],
   "source": [
    "#imports\n",
    "fig_path = \"/Users/conorosully/Google Drive/Trinity/Dissertation/Docs/Final/sections/figures/{}\"\n",
    "\n",
    "fontsize = 20\n",
    "\n",
    "import numpy as np\n",
    "import pandas as pd\n",
    "import json\n",
    "\n",
    "from sklearn.metrics import accuracy_score,precision_score,recall_score,confusion_matrix\n",
    "\n",
    "import matplotlib.pyplot as plt\n",
    "import seaborn as sns\n",
    "sns.set_style(\"whitegrid\")\n",
    "#sns.set_palette(\"Set2\")\n",
    "%matplotlib inline\n",
    "from pandas.plotting import table"
   ]
  },
  {
   "cell_type": "code",
   "execution_count": 4,
   "metadata": {},
   "outputs": [
    {
     "name": "stdout",
     "output_type": "stream",
     "text": [
      "1080\n",
      "12\n"
     ]
    }
   ],
   "source": [
    "path = \"/Users/conorosully/Documents/Legal-Case-Prediction/data/results/{}.csv\"\n",
    "autoML1 = pd.read_csv(path.format(\"results_autoML_final\"))\n",
    "autoML2 = pd.read_csv(path.format(\"results_autoML_final2\"))\n",
    "autoML = autoML1.append(autoML2)\n",
    "print(len(autoML))\n",
    "autoML.head(1)\n",
    "\n",
    "path = \"/Users/conorosully/Documents/Legal-Case-Prediction/data/results/{}.csv\"\n",
    "results_test = pd.read_csv(path.format(\"results_test\"))\n",
    "\n",
    "print(len(results_test))\n",
    "results_test.head(1)\n",
    "\n",
    "path = \"/Users/conorosully/Documents/Legal-Case-Prediction/data/clean/{}.json\"\n",
    "\n",
    "with open(path.format('train_test_split_update'), 'r') as readfile:\n",
    "    train_test_split = json.load(readfile)\n",
    "    readfile.close()"
   ]
  },
  {
   "cell_type": "code",
   "execution_count": 111,
   "metadata": {},
   "outputs": [
    {
     "data": {
      "text/plain": [
       "90.0"
      ]
     },
     "execution_count": 111,
     "metadata": {},
     "output_type": "execute_result"
    }
   ],
   "source": [
    "1080/12"
   ]
  },
  {
   "cell_type": "markdown",
   "metadata": {},
   "source": [
    "### Commonly used"
   ]
  },
  {
   "cell_type": "code",
   "execution_count": 5,
   "metadata": {},
   "outputs": [
    {
     "name": "stdout",
     "output_type": "stream",
     "text": [
      "12 3 9\n"
     ]
    }
   ],
   "source": [
    "article_labels = ['Article 2', 'Article 3', 'Article 5', 'Article 6', 'Article 7', 'Article 8', 'Article 9', 'Article 10', 'Article 11', 'Article 13', 'Article 14', 'Article 18']\n",
    "articles_all = [ 2,  3,  5,  6,  7,  8,  9, 10, 11, 13, 14, 18]\n",
    "articles_1 = [ 3,  6, 8]\n",
    "articles_2 = [ 2,  3,  5,  6,  8,  10, 11, 13, 14]\n",
    "\n",
    "weights_all = []\n",
    "weights_1 = []\n",
    "weights_2 = []\n",
    "for a in articles_all:\n",
    "    article = str(a)\n",
    "    weight = len(train_test_split[article]['v_train']) + len(train_test_split[article]['nv_train'])\n",
    "    weights_all.append(weight)\n",
    "    if a in articles_1:\n",
    "        weights_1.append(weight)\n",
    "    if a in articles_2:\n",
    "        weights_2.append(weight)\n",
    "        \n",
    "print(len(weights_all),len(weights_1),len(weights_2))\n"
   ]
  },
  {
   "cell_type": "markdown",
   "metadata": {},
   "source": [
    "# Best Training Accuracy"
   ]
  },
  {
   "cell_type": "code",
   "execution_count": 6,
   "metadata": {},
   "outputs": [],
   "source": [
    "best = autoML.sort_values('train', ascending=False).drop_duplicates(['article']).sort_values('article')\n",
    "train_accuracy = best['train']"
   ]
  },
  {
   "cell_type": "code",
   "execution_count": 50,
   "metadata": {},
   "outputs": [],
   "source": [
    "def autolabel(rects,x):\n",
    "    \"\"\"\n",
    "    Attach a text label above each bar in *rects*, displaying its height.\n",
    "\n",
    "    *xpos* indicates which side to place the text w.r.t. the center of\n",
    "    the bar. It can be one of the following {'center', 'right', 'left'}.\n",
    "    \"\"\"\n",
    "\n",
    "    ha = {'center': 'center', 'right': 'left', 'left': 'right'}\n",
    "    offset = {'center': 0, 'right': 1, 'left': -1}\n",
    "\n",
    "    for rect in rects:\n",
    "        height = round(rect.get_height(),2)\n",
    "        ax.annotate('{}'.format(height),\n",
    "                    xy=(rect.get_x() + rect.get_width() / 2, height),\n",
    "                    xytext=(x, 3),  # use 3 points offset\n",
    "                    textcoords=\"offset points\",  # in both directions\n",
    "                    ha='center', va='bottom',\n",
    "                   fontsize = 12)"
   ]
  },
  {
   "cell_type": "code",
   "execution_count": 29,
   "metadata": {},
   "outputs": [
    {
     "data": {
      "image/png": "[encoded data removed]",
      "text/plain": [
       "<Figure size 1080x576 with 1 Axes>"
      ]
     },
     "metadata": {
      "needs_background": "light"
     },
     "output_type": "display_data"
    }
   ],
   "source": [
    "fig, ax = plt.subplots( nrows=1, ncols=1,figsize=(15,8))\n",
    "\n",
    "labels = article_labels\n",
    "x = np.arange(len(labels)) \n",
    "\n",
    "width = 0.5\n",
    "rec = plt.bar(x = x,height = train_accuracy,width=width)\n",
    "autolabel(rec)\n",
    "\"\"\"for scores, part in zip(train_scores,parts):\n",
    "    plt.stem(x, scores,label=part)\n",
    "    \n",
    "    #sns.lineplot(x=x,y=scores,label=part)\"\"\"\n",
    "    \n",
    "ax.set_xlabel('Article', fontsize = fontsize)\n",
    "ax.set_ylabel('Cross-validation Accuracy', fontsize = fontsize)\n",
    "plt.xticks(x)\n",
    "ax.set_xticklabels(labels,fontsize=12)\n",
    "#plt.legend(fontsize=14,bbox_to_anchor=(1, 1))\n",
    "plt.tight_layout()\n",
    "\n",
    "plt.savefig(fig_path.format(\"best_training_accuracy.eps\"),format='eps',dpi=1000)"
   ]
  },
  {
   "cell_type": "code",
   "execution_count": 33,
   "metadata": {},
   "outputs": [
    {
     "name": "stdout",
     "output_type": "stream",
     "text": [
      "0.8225185 0.7728734963089153\n",
      "0.7515363333333335 0.7534313176470588\n",
      "0.794608 0.768590935731132\n"
     ]
    }
   ],
   "source": [
    "#Calculations\n",
    "mean_all = np.mean(best['train'])\n",
    "weighted_all = sum(np.array(best['train'])*weights_all)/sum(weights_all)\n",
    "print(mean_all,weighted_all)\n",
    "\n",
    "best_1 = best[best['article'].isin(articles_1)]\n",
    "mean_1 = np.mean(best_1['train'])\n",
    "weighted_1 = sum(np.array(best_1['train'])*weights_1)/sum(weights_1)\n",
    "print(mean_1,weighted_1)\n",
    "\n",
    "best_2 = best[best['article'].isin(articles_2)]\n",
    "mean_2 = np.mean(best_2['train'])\n",
    "weighted_2 = sum(np.array(best_2['train'])*weights_2)/sum(weights_2)\n",
    "print(mean_2,weighted_2)"
   ]
  },
  {
   "cell_type": "code",
   "execution_count": 82,
   "metadata": {},
   "outputs": [
    {
     "data": {
      "image/png": "[encoded data removed]",
      "text/plain": [
       "<Figure size 1080x576 with 1 Axes>"
      ]
     },
     "metadata": {
      "needs_background": "light"
     },
     "output_type": "display_data"
    }
   ],
   "source": [
    "fig, ax = plt.subplots( nrows=1, ncols=1,figsize=(15,8))\n",
    "\n",
    "plt.scatter(x=weights_all,y=best['train'],s=100)\n",
    "\n",
    "ax.set_xlabel('Number of Judgments in Training Set', fontsize = fontsize)\n",
    "ax.set_ylabel('Cross-validation Accuracy', fontsize = fontsize)\n",
    "plt.xticks([0,100,200,400,600,800,1000])\n",
    "#ax.set_xticklabels(labels,fontsize=12)\n",
    "#plt.legend(fontsize=14,bbox_to_anchor=(1, 1))\n",
    "for i, txt in enumerate(article_labels):\n",
    "    ax.annotate(txt, (weights_all[i], list(best['train'])[i]))\n",
    "    \n",
    "plt.axvline(x=100, color='black', linestyle='--')\n",
    "#ax.set_ylim(bottom=0)\n",
    "ax.set_xlim(left=0)\n",
    "\n",
    "plt.tight_layout()\n",
    "\n",
    "plt.savefig(fig_path.format(\"accuracyVdata.eps\"),format='eps',dpi=1000)\n"
   ]
  },
  {
   "cell_type": "code",
   "execution_count": 23,
   "metadata": {
    "scrolled": true
   },
   "outputs": [
    {
     "name": "stderr",
     "output_type": "stream",
     "text": [
      "/Users/conorosully/miniconda3/lib/python3.6/site-packages/ipykernel_launcher.py:3: SettingWithCopyWarning: \n",
      "A value is trying to be set on a copy of a slice from a DataFrame.\n",
      "Try using .loc[row_indexer,col_indexer] = value instead\n",
      "\n",
      "See the caveats in the documentation: http://pandas.pydata.org/pandas-docs/stable/indexing.html#indexing-view-versus-copy\n",
      "  This is separate from the ipykernel package so we can avoid doing imports until\n",
      "/Users/conorosully/miniconda3/lib/python3.6/site-packages/ipykernel_launcher.py:8: SettingWithCopyWarning: \n",
      "A value is trying to be set on a copy of a slice from a DataFrame.\n",
      "Try using .loc[row_indexer,col_indexer] = value instead\n",
      "\n",
      "See the caveats in the documentation: http://pandas.pydata.org/pandas-docs/stable/indexing.html#indexing-view-versus-copy\n",
      "  \n"
     ]
    },
    {
     "data": {
      "text/html": [
       "<div>\n",
       "<style scoped>\n",
       "    .dataframe tbody tr th:only-of-type {\n",
       "        vertical-align: middle;\n",
       "    }\n",
       "\n",
       "    .dataframe tbody tr th {\n",
       "        vertical-align: top;\n",
       "    }\n",
       "\n",
       "    .dataframe thead th {\n",
       "        text-align: right;\n",
       "    }\n",
       "</style>\n",
       "<table border=\"1\" class=\"dataframe\">\n",
       "  <thead>\n",
       "    <tr style=\"text-align: right;\">\n",
       "      <th></th>\n",
       "      <th>Article</th>\n",
       "      <th>Feature Type</th>\n",
       "      <th>Dimension</th>\n",
       "      <th>Part</th>\n",
       "      <th>Stopwords</th>\n",
       "      <th>Classifier</th>\n",
       "    </tr>\n",
       "  </thead>\n",
       "  <tbody>\n",
       "    <tr>\n",
       "      <th>0</th>\n",
       "      <td>Article 2</td>\n",
       "      <td>law2vec</td>\n",
       "      <td>100</td>\n",
       "      <td>circumstances</td>\n",
       "      <td>Yes</td>\n",
       "      <td>Gradient Boosting</td>\n",
       "    </tr>\n",
       "    <tr>\n",
       "      <th>1</th>\n",
       "      <td>Article 3</td>\n",
       "      <td>GloVe</td>\n",
       "      <td>200</td>\n",
       "      <td>procedure+facts</td>\n",
       "      <td>No</td>\n",
       "      <td>Random Forest</td>\n",
       "    </tr>\n",
       "    <tr>\n",
       "      <th>2</th>\n",
       "      <td>Article 5</td>\n",
       "      <td>GloVe</td>\n",
       "      <td>200</td>\n",
       "      <td>relevant</td>\n",
       "      <td>Yes</td>\n",
       "      <td>Gradient Boosting</td>\n",
       "    </tr>\n",
       "    <tr>\n",
       "      <th>3</th>\n",
       "      <td>Article 6</td>\n",
       "      <td>echr2vec</td>\n",
       "      <td>100</td>\n",
       "      <td>procedure+facts</td>\n",
       "      <td>Yes</td>\n",
       "      <td>SGD</td>\n",
       "    </tr>\n",
       "    <tr>\n",
       "      <th>4</th>\n",
       "      <td>Article 7</td>\n",
       "      <td>GloVe</td>\n",
       "      <td>200</td>\n",
       "      <td>circumstances</td>\n",
       "      <td>No</td>\n",
       "      <td>Decision Tree</td>\n",
       "    </tr>\n",
       "    <tr>\n",
       "      <th>5</th>\n",
       "      <td>Article 8</td>\n",
       "      <td>echr2vec</td>\n",
       "      <td>100</td>\n",
       "      <td>procedure+facts</td>\n",
       "      <td>Yes</td>\n",
       "      <td>Random Forest</td>\n",
       "    </tr>\n",
       "    <tr>\n",
       "      <th>6</th>\n",
       "      <td>Article 9</td>\n",
       "      <td>ngram</td>\n",
       "      <td>2000</td>\n",
       "      <td>circumstances</td>\n",
       "      <td>Yes</td>\n",
       "      <td>AdaBoost</td>\n",
       "    </tr>\n",
       "    <tr>\n",
       "      <th>7</th>\n",
       "      <td>Article 10</td>\n",
       "      <td>echr2vec</td>\n",
       "      <td>200</td>\n",
       "      <td>procedure+facts</td>\n",
       "      <td>No</td>\n",
       "      <td>Quadratic Classifier</td>\n",
       "    </tr>\n",
       "    <tr>\n",
       "      <th>8</th>\n",
       "      <td>Article 11</td>\n",
       "      <td>GloVe</td>\n",
       "      <td>200</td>\n",
       "      <td>procedure+facts</td>\n",
       "      <td>Yes</td>\n",
       "      <td>SGD</td>\n",
       "    </tr>\n",
       "    <tr>\n",
       "      <th>9</th>\n",
       "      <td>Article 13</td>\n",
       "      <td>GloVe</td>\n",
       "      <td>100</td>\n",
       "      <td>procedure+facts</td>\n",
       "      <td>Yes</td>\n",
       "      <td>Quadratic Classifier</td>\n",
       "    </tr>\n",
       "    <tr>\n",
       "      <th>10</th>\n",
       "      <td>Article 14</td>\n",
       "      <td>echr2vec</td>\n",
       "      <td>200</td>\n",
       "      <td>procedure+facts</td>\n",
       "      <td>No</td>\n",
       "      <td>Quadratic Classifier</td>\n",
       "    </tr>\n",
       "    <tr>\n",
       "      <th>11</th>\n",
       "      <td>Article 18</td>\n",
       "      <td>echr2vec</td>\n",
       "      <td>200</td>\n",
       "      <td>procedure+facts</td>\n",
       "      <td>No</td>\n",
       "      <td>Random Forest</td>\n",
       "    </tr>\n",
       "  </tbody>\n",
       "</table>\n",
       "</div>"
      ],
      "text/plain": [
       "       Article Feature Type  Dimension             Part Stopwords  \\\n",
       "0    Article 2      law2vec        100    circumstances       Yes   \n",
       "1    Article 3        GloVe        200  procedure+facts        No   \n",
       "2    Article 5        GloVe        200         relevant       Yes   \n",
       "3    Article 6     echr2vec        100  procedure+facts       Yes   \n",
       "4    Article 7        GloVe        200    circumstances        No   \n",
       "5    Article 8     echr2vec        100  procedure+facts       Yes   \n",
       "6    Article 9        ngram       2000    circumstances       Yes   \n",
       "7   Article 10     echr2vec        200  procedure+facts        No   \n",
       "8   Article 11        GloVe        200  procedure+facts       Yes   \n",
       "9   Article 13        GloVe        100  procedure+facts       Yes   \n",
       "10  Article 14     echr2vec        200  procedure+facts        No   \n",
       "11  Article 18     echr2vec        200  procedure+facts        No   \n",
       "\n",
       "              Classifier  \n",
       "0      Gradient Boosting  \n",
       "1          Random Forest  \n",
       "2      Gradient Boosting  \n",
       "3                    SGD  \n",
       "4          Decision Tree  \n",
       "5          Random Forest  \n",
       "6               AdaBoost  \n",
       "7   Quadratic Classifier  \n",
       "8                    SGD  \n",
       "9   Quadratic Classifier  \n",
       "10  Quadratic Classifier  \n",
       "11         Random Forest  "
      ]
     },
     "execution_count": 23,
     "metadata": {},
     "output_type": "execute_result"
    }
   ],
   "source": [
    "#Training Models\n",
    "hyper_params = results_test[['article','type','dimension','part','stopwords','model']]\n",
    "hyper_params['article'] = article_labels\n",
    "\n",
    "def getClassifier(model):\n",
    "    classifier = model.split(\"'classifier:__choice__':\")[1].split(\",\")[0].split(\"'\")[1]\n",
    "    return classifier\n",
    "hyper_params['model'] = [getClassifier(m) for m in hyper_params['model']]\n",
    "\n",
    "\n",
    "hyper_params.replace(['law','echr','glove'],['law2vec','echr2vec','GloVe'],inplace = True)\n",
    "hyper_params.replace(['english','none'],['Yes','No'],inplace = True)\n",
    "hyper_params.replace('both','procedure+facts',inplace = True)\n",
    "\n",
    "hyper_params.replace(['gradient_boosting','random_forest',\"sgd\",\"decision_tree\",\"adaboost\",\"qda\"],\n",
    "                     ['Gradient Boosting','Random Forest',\" SGD\",\"Decision Tree\",\"AdaBoost\",\"Quadratic Classifier\"],inplace = True)\n",
    "\n",
    "hyper_params.columns =  [\"Article\",\"Feature Type\",\"Dimension\",\"Part\",\"Stopwords\",\"Classifier\"]\n",
    "hyper_params.to_csv(fig_path.format(\"model_params.csv\"))\n",
    "\n",
    "hyper_params"
   ]
  },
  {
   "cell_type": "code",
   "execution_count": 93,
   "metadata": {
    "collapsed": true
   },
   "outputs": [
    {
     "name": "stdout",
     "output_type": "stream",
     "text": [
      "\textbf{Article 2}: \n",
      "\n",
      "[(1.000000\n",
      " SimpleClassificationPipeline({'preprocessor:__choice__': 'no_preprocessing'\n",
      " 'rescaling:__choice__': 'standardize'\n",
      " 'balancing:strategy': 'none'\n",
      " 'classifier:gradient_boosting:min_impurity_decrease': 0.0\n",
      " 'classifier:gradient_boosting:min_samples_leaf': 13\n",
      " 'classifier:gradient_boosting:max_features': 0.609076475500038\n",
      " 'imputation:strategy': 'most_frequent'\n",
      " 'classifier:gradient_boosting:min_weight_fraction_leaf': 0.0\n",
      " 'categorical_encoding:__choice__': 'one_hot_encoding'\n",
      " 'categorical_encoding:one_hot_encoding:use_minimum_fraction': 'True'\n",
      " 'classifier:gradient_boosting:max_depth': 2\n",
      " 'classifier:gradient_boosting:criterion': 'mse'\n",
      " 'classifier:gradient_boosting:max_leaf_nodes': 'None'\n",
      " 'classifier:gradient_boosting:min_samples_split': 9\n",
      " 'classifier:gradient_boosting:loss': 'deviance'\n",
      " 'classifier:gradient_boosting:subsample': 0.6024121853927239\n",
      " 'classifier:gradient_boosting:learning_rate': 0.04672091880080751\n",
      " 'classifier:gradient_boosting:n_estimators': 437\n",
      " 'categorical_encoding:one_hot_encoding:minimum_fraction': 0.01823477424371929\n",
      " 'classifier:__choice__': 'gradient_boosting'}\n",
      "\n",
      "dataset_properties={\n",
      "  'task': 1\n",
      "\n",
      "  'sparse': False\n",
      "\n",
      "  'multilabel': False\n",
      "\n",
      "  'multiclass': False\n",
      "\n",
      "  'target_type': 'classification'\n",
      "\n",
      "  'signed': False}))\n",
      "\n",
      "]\n",
      "\textbf{Article 3}: \n",
      "\n",
      "[(1.000000\n",
      " SimpleClassificationPipeline({'preprocessor:__choice__': 'no_preprocessing'\n",
      " 'rescaling:__choice__': 'standardize'\n",
      " 'classifier:random_forest:min_samples_leaf': 1\n",
      " 'classifier:random_forest:max_leaf_nodes': 'None'\n",
      " 'imputation:strategy': 'mean'\n",
      " 'categorical_encoding:__choice__': 'one_hot_encoding'\n",
      " 'categorical_encoding:one_hot_encoding:use_minimum_fraction': 'True'\n",
      " 'balancing:strategy': 'none'\n",
      " 'classifier:random_forest:min_samples_split': 2\n",
      " 'classifier:random_forest:min_impurity_decrease': 0.0\n",
      " 'classifier:random_forest:max_depth': 'None'\n",
      " 'classifier:random_forest:n_estimators': 100\n",
      " 'classifier:__choice__': 'random_forest'\n",
      " 'classifier:random_forest:max_features': 0.5\n",
      " 'classifier:random_forest:bootstrap': 'True'\n",
      " 'classifier:random_forest:min_weight_fraction_leaf': 0.0\n",
      " 'categorical_encoding:one_hot_encoding:minimum_fraction': 0.01\n",
      " 'classifier:random_forest:criterion': 'gini'}\n",
      "\n",
      "dataset_properties={\n",
      "  'task': 1\n",
      "\n",
      "  'sparse': False\n",
      "\n",
      "  'multilabel': False\n",
      "\n",
      "  'multiclass': False\n",
      "\n",
      "  'target_type': 'classification'\n",
      "\n",
      "  'signed': False}))\n",
      "\n",
      "]\n",
      "\textbf{Article 5}: \n",
      "\n",
      "[(1.000000\n",
      " SimpleClassificationPipeline({'preprocessor:__choice__': 'no_preprocessing'\n",
      " 'rescaling:__choice__': 'robust_scaler'\n",
      " 'balancing:strategy': 'weighting'\n",
      " 'classifier:gradient_boosting:min_impurity_decrease': 0.0\n",
      " 'classifier:gradient_boosting:min_samples_leaf': 16\n",
      " 'classifier:gradient_boosting:max_features': 0.8642370392970676\n",
      " 'imputation:strategy': 'most_frequent'\n",
      " 'classifier:gradient_boosting:min_weight_fraction_leaf': 0.0\n",
      " 'categorical_encoding:__choice__': 'one_hot_encoding'\n",
      " 'categorical_encoding:one_hot_encoding:use_minimum_fraction': 'False'\n",
      " 'classifier:gradient_boosting:max_depth': 10\n",
      " 'classifier:gradient_boosting:criterion': 'mse'\n",
      " 'rescaling:robust_scaler:q_max': 0.8217708772004272\n",
      " 'classifier:gradient_boosting:max_leaf_nodes': 'None'\n",
      " 'classifier:gradient_boosting:min_samples_split': 16\n",
      " 'classifier:gradient_boosting:loss': 'deviance'\n",
      " 'classifier:gradient_boosting:subsample': 0.8862512973631916\n",
      " 'classifier:gradient_boosting:learning_rate': 0.015749230241593887\n",
      " 'rescaling:robust_scaler:q_min': 0.24908189591570695\n",
      " 'classifier:gradient_boosting:n_estimators': 497\n",
      " 'classifier:__choice__': 'gradient_boosting'}\n",
      "\n",
      "dataset_properties={\n",
      "  'task': 1\n",
      "\n",
      "  'sparse': False\n",
      "\n",
      "  'multilabel': False\n",
      "\n",
      "  'multiclass': False\n",
      "\n",
      "  'target_type': 'classification'\n",
      "\n",
      "  'signed': False}))\n",
      "\n",
      "]\n",
      "\textbf{Article 6}: \n",
      "\n",
      "[(1.000000\n",
      " SimpleClassificationPipeline({'preprocessor:__choice__': 'no_preprocessing'\n",
      " 'rescaling:__choice__': 'standardize'\n",
      " 'classifier:sgd:alpha': 0.00010000000000000026\n",
      " 'classifier:sgd:fit_intercept': 'True'\n",
      " 'imputation:strategy': 'mean'\n",
      " 'classifier:sgd:learning_rate': 'invscaling'\n",
      " 'categorical_encoding:__choice__': 'one_hot_encoding'\n",
      " 'categorical_encoding:one_hot_encoding:use_minimum_fraction': 'False'\n",
      " 'balancing:strategy': 'none'\n",
      " 'classifier:sgd:penalty': 'l2'\n",
      " 'classifier:sgd:loss': 'log'\n",
      " 'classifier:sgd:power_t': 0.5\n",
      " 'classifier:sgd:tol': 0.00010000000000000009\n",
      " 'classifier:sgd:average': 'False'\n",
      " 'classifier:__choice__': 'sgd'\n",
      " 'classifier:sgd:eta0': 0.010000000000000014}\n",
      "\n",
      "dataset_properties={\n",
      "  'task': 1\n",
      "\n",
      "  'sparse': False\n",
      "\n",
      "  'multilabel': False\n",
      "\n",
      "  'multiclass': False\n",
      "\n",
      "  'target_type': 'classification'\n",
      "\n",
      "  'signed': False}))\n",
      "\n",
      "]\n",
      "\textbf{Article 7}: \n",
      "\n",
      "[(1.000000\n",
      " SimpleClassificationPipeline({'classifier:decision_tree:min_samples_leaf': 2\n",
      " 'preprocessor:__choice__': 'no_preprocessing'\n",
      " 'rescaling:__choice__': 'normalize'\n",
      " 'classifier:decision_tree:max_leaf_nodes': 'None'\n",
      " 'imputation:strategy': 'mean'\n",
      " 'categorical_encoding:__choice__': 'one_hot_encoding'\n",
      " 'categorical_encoding:one_hot_encoding:use_minimum_fraction': 'False'\n",
      " 'balancing:strategy': 'weighting'\n",
      " 'classifier:decision_tree:min_impurity_decrease': 0.0\n",
      " 'classifier:decision_tree:max_depth_factor': 0.5468134939036804\n",
      " 'classifier:decision_tree:max_features': 1.0\n",
      " 'classifier:decision_tree:min_weight_fraction_leaf': 0.0\n",
      " 'classifier:decision_tree:criterion': 'entropy'\n",
      " 'classifier:decision_tree:min_samples_split': 19\n",
      " 'classifier:__choice__': 'decision_tree'}\n",
      "\n",
      "dataset_properties={\n",
      "  'task': 1\n",
      "\n",
      "  'sparse': False\n",
      "\n",
      "  'multilabel': False\n",
      "\n",
      "  'multiclass': False\n",
      "\n",
      "  'target_type': 'classification'\n",
      "\n",
      "  'signed': False}))\n",
      "\n",
      "]\n",
      "\textbf{Article 8}: \n",
      "\n",
      "[(1.000000\n",
      " SimpleClassificationPipeline({'preprocessor:__choice__': 'no_preprocessing'\n",
      " 'rescaling:__choice__': 'normalize'\n",
      " 'classifier:random_forest:min_samples_leaf': 11\n",
      " 'classifier:random_forest:max_leaf_nodes': 'None'\n",
      " 'imputation:strategy': 'median'\n",
      " 'categorical_encoding:__choice__': 'one_hot_encoding'\n",
      " 'categorical_encoding:one_hot_encoding:use_minimum_fraction': 'False'\n",
      " 'balancing:strategy': 'weighting'\n",
      " 'classifier:random_forest:min_samples_split': 14\n",
      " 'classifier:random_forest:min_impurity_decrease': 0.0\n",
      " 'classifier:random_forest:max_depth': 'None'\n",
      " 'classifier:random_forest:n_estimators': 100\n",
      " 'classifier:__choice__': 'random_forest'\n",
      " 'classifier:random_forest:max_features': 0.6796658441046524\n",
      " 'classifier:random_forest:bootstrap': 'False'\n",
      " 'classifier:random_forest:min_weight_fraction_leaf': 0.0\n",
      " 'classifier:random_forest:criterion': 'entropy'}\n",
      "\n",
      "dataset_properties={\n",
      "  'task': 1\n",
      "\n",
      "  'sparse': False\n",
      "\n",
      "  'multilabel': False\n",
      "\n",
      "  'multiclass': False\n",
      "\n",
      "  'target_type': 'classification'\n",
      "\n",
      "  'signed': False}))\n",
      "\n",
      "]\n",
      "\textbf{Article 9}: \n",
      "\n",
      "[(1.000000\n",
      " SimpleClassificationPipeline({'classifier:adaboost:algorithm': 'SAMME'\n",
      " 'preprocessor:__choice__': 'no_preprocessing'\n",
      " 'rescaling:__choice__': 'minmax'\n",
      " 'classifier:adaboost:max_depth': 10\n",
      " 'imputation:strategy': 'mean'\n",
      " 'categorical_encoding:__choice__': 'no_encoding'\n",
      " 'balancing:strategy': 'none'\n",
      " 'classifier:adaboost:n_estimators': 211\n",
      " 'classifier:__choice__': 'adaboost'\n",
      " 'classifier:adaboost:learning_rate': 1.1238399230175709}\n",
      "\n",
      "dataset_properties={\n",
      "  'task': 1\n",
      "\n",
      "  'sparse': False\n",
      "\n",
      "  'multilabel': False\n",
      "\n",
      "  'multiclass': False\n",
      "\n",
      "  'target_type': 'classification'\n",
      "\n",
      "  'signed': False}))\n",
      "\n",
      "]\n",
      "\textbf{Article 10}: \n",
      "\n",
      "[(1.000000\n",
      " SimpleClassificationPipeline({'preprocessor:__choice__': 'no_preprocessing'\n",
      " 'rescaling:__choice__': 'quantile_transformer'\n",
      " 'rescaling:quantile_transformer:n_quantiles': 1620\n",
      " 'classifier:qda:reg_param': 0.26643166540262564\n",
      " 'imputation:strategy': 'median'\n",
      " 'rescaling:quantile_transformer:output_distribution': 'uniform'\n",
      " 'categorical_encoding:__choice__': 'one_hot_encoding'\n",
      " 'categorical_encoding:one_hot_encoding:use_minimum_fraction': 'True'\n",
      " 'balancing:strategy': 'none'\n",
      " 'categorical_encoding:one_hot_encoding:minimum_fraction': 0.23500613237818263\n",
      " 'classifier:__choice__': 'qda'}\n",
      "\n",
      "dataset_properties={\n",
      "  'task': 1\n",
      "\n",
      "  'sparse': False\n",
      "\n",
      "  'multilabel': False\n",
      "\n",
      "  'multiclass': False\n",
      "\n",
      "  'target_type': 'classification'\n",
      "\n",
      "  'signed': False}))\n",
      "\n",
      "]\n",
      "\textbf{Article 11}: \n",
      "\n",
      "[(1.000000\n",
      " SimpleClassificationPipeline({'preprocessor:__choice__': 'no_preprocessing'\n",
      " 'rescaling:__choice__': 'quantile_transformer'\n",
      " 'classifier:sgd:alpha': 1.481103815191197e-05\n",
      " 'classifier:sgd:fit_intercept': 'True'\n",
      " 'rescaling:quantile_transformer:output_distribution': 'normal'\n",
      " 'imputation:strategy': 'median'\n",
      " 'classifier:sgd:learning_rate': 'constant'\n",
      " 'categorical_encoding:__choice__': 'one_hot_encoding'\n",
      " 'categorical_encoding:one_hot_encoding:use_minimum_fraction': 'True'\n",
      " 'balancing:strategy': 'none'\n",
      " 'classifier:sgd:penalty': 'l2'\n",
      " 'classifier:sgd:loss': 'log'\n",
      " 'rescaling:quantile_transformer:n_quantiles': 674\n",
      " 'categorical_encoding:one_hot_encoding:minimum_fraction': 0.004931833556757678\n",
      " 'classifier:sgd:tol': 0.00018223727866811576\n",
      " 'classifier:sgd:average': 'True'\n",
      " 'classifier:__choice__': 'sgd'\n",
      " 'classifier:sgd:eta0': 0.007512513401388587}\n",
      "\n",
      "dataset_properties={\n",
      "  'task': 1\n",
      "\n",
      "  'sparse': False\n",
      "\n",
      "  'multilabel': False\n",
      "\n",
      "  'multiclass': False\n",
      "\n",
      "  'target_type': 'classification'\n",
      "\n",
      "  'signed': False}))\n",
      "\n",
      "]\n",
      "\textbf{Article 13}: \n",
      "\n",
      "[(1.000000\n",
      " SimpleClassificationPipeline({'preprocessor:__choice__': 'no_preprocessing'\n",
      " 'rescaling:__choice__': 'standardize'\n",
      " 'classifier:qda:reg_param': 0.32403648479033387\n",
      " 'imputation:strategy': 'most_frequent'\n",
      " 'categorical_encoding:__choice__': 'one_hot_encoding'\n",
      " 'categorical_encoding:one_hot_encoding:use_minimum_fraction': 'False'\n",
      " 'balancing:strategy': 'none'\n",
      " 'classifier:__choice__': 'qda'}\n",
      "\n",
      "dataset_properties={\n",
      "  'task': 1\n",
      "\n",
      "  'sparse': False\n",
      "\n",
      "  'multilabel': False\n",
      "\n",
      "  'multiclass': False\n",
      "\n",
      "  'target_type': 'classification'\n",
      "\n",
      "  'signed': False}))\n",
      "\n",
      "]\n",
      "\textbf{Article 14}: \n",
      "\n",
      "[(1.000000\n",
      " SimpleClassificationPipeline({'preprocessor:__choice__': 'no_preprocessing'\n",
      " 'rescaling:__choice__': 'robust_scaler'\n",
      " 'rescaling:robust_scaler:q_min': 0.0630928824893807\n",
      " 'classifier:qda:reg_param': 0.5863176694472796\n",
      " 'imputation:strategy': 'median'\n",
      " 'categorical_encoding:__choice__': 'one_hot_encoding'\n",
      " 'categorical_encoding:one_hot_encoding:use_minimum_fraction': 'True'\n",
      " 'balancing:strategy': 'weighting'\n",
      " 'categorical_encoding:one_hot_encoding:minimum_fraction': 0.002073429951654363\n",
      " 'classifier:__choice__': 'qda'\n",
      " 'rescaling:robust_scaler:q_max': 0.9952292809617176}\n",
      "\n",
      "dataset_properties={\n",
      "  'task': 1\n",
      "\n",
      "  'sparse': False\n",
      "\n",
      "  'multilabel': False\n",
      "\n",
      "  'multiclass': False\n",
      "\n",
      "  'target_type': 'classification'\n",
      "\n",
      "  'signed': False}))\n",
      "\n",
      "]\n",
      "\textbf{Article 18}: \n",
      "\n",
      "[(1.000000\n",
      " SimpleClassificationPipeline({'preprocessor:__choice__': 'no_preprocessing'\n",
      " 'rescaling:__choice__': 'standardize'\n",
      " 'classifier:random_forest:min_samples_leaf': 9\n",
      " 'classifier:random_forest:max_leaf_nodes': 'None'\n",
      " 'imputation:strategy': 'most_frequent'\n",
      " 'categorical_encoding:__choice__': 'one_hot_encoding'\n",
      " 'categorical_encoding:one_hot_encoding:use_minimum_fraction': 'False'\n",
      " 'balancing:strategy': 'weighting'\n",
      " 'classifier:random_forest:min_samples_split': 3\n",
      " 'classifier:random_forest:min_impurity_decrease': 0.0\n",
      " 'classifier:random_forest:max_depth': 'None'\n",
      " 'classifier:random_forest:n_estimators': 100\n",
      " 'classifier:__choice__': 'random_forest'\n",
      " 'classifier:random_forest:max_features': 0.926024742345155\n",
      " 'classifier:random_forest:bootstrap': 'False'\n",
      " 'classifier:random_forest:min_weight_fraction_leaf': 0.0\n",
      " 'classifier:random_forest:criterion': 'entropy'}\n",
      "\n",
      "dataset_properties={\n",
      "  'task': 1\n",
      "\n",
      "  'sparse': False\n",
      "\n",
      "  'multilabel': False\n",
      "\n",
      "  'multiclass': False\n",
      "\n",
      "  'target_type': 'classification'\n",
      "\n",
      "  'signed': False}))\n",
      "\n",
      "]\n"
     ]
    }
   ],
   "source": [
    "# Pipelines\n",
    "for a,m in zip(article_labels,results_test['model']):\n",
    "    print(\"\\textbf{\"+ a + \"}: \")\n",
    "    print()\n",
    "    for s in m.split(\",\"):\n",
    "        print(s)\n",
    "\n"
   ]
  },
  {
   "cell_type": "markdown",
   "metadata": {},
   "source": [
    "# Test Accuracy"
   ]
  },
  {
   "cell_type": "code",
   "execution_count": 52,
   "metadata": {
    "collapsed": true
   },
   "outputs": [
    {
     "data": {
      "text/html": [
       "<div>\n",
       "<style scoped>\n",
       "    .dataframe tbody tr th:only-of-type {\n",
       "        vertical-align: middle;\n",
       "    }\n",
       "\n",
       "    .dataframe tbody tr th {\n",
       "        vertical-align: top;\n",
       "    }\n",
       "\n",
       "    .dataframe thead th {\n",
       "        text-align: right;\n",
       "    }\n",
       "</style>\n",
       "<table border=\"1\" class=\"dataframe\">\n",
       "  <thead>\n",
       "    <tr style=\"text-align: right;\">\n",
       "      <th></th>\n",
       "      <th>type</th>\n",
       "      <th>dimension</th>\n",
       "      <th>article</th>\n",
       "      <th>part</th>\n",
       "      <th>stopwords</th>\n",
       "      <th>train</th>\n",
       "      <th>test</th>\n",
       "      <th>model</th>\n",
       "      <th>stats</th>\n",
       "      <th>predictions</th>\n",
       "    </tr>\n",
       "  </thead>\n",
       "  <tbody>\n",
       "    <tr>\n",
       "      <th>66</th>\n",
       "      <td>law</td>\n",
       "      <td>100</td>\n",
       "      <td>2</td>\n",
       "      <td>circumstances</td>\n",
       "      <td>english</td>\n",
       "      <td>0.855263</td>\n",
       "      <td>0.854839</td>\n",
       "      <td>[(1.000000, SimpleClassificationPipeline({'cla...</td>\n",
       "      <td>auto-sklearn results:\\n  Dataset name: legal_j...</td>\n",
       "      <td>[1 0 1 1 0 0 0 0 1 1 1 1 1 1 1 1 1 1 1 1 1 0 1...</td>\n",
       "    </tr>\n",
       "    <tr>\n",
       "      <th>92</th>\n",
       "      <td>glove</td>\n",
       "      <td>200</td>\n",
       "      <td>3</td>\n",
       "      <td>both</td>\n",
       "      <td>none</td>\n",
       "      <td>0.761224</td>\n",
       "      <td>0.786885</td>\n",
       "      <td>[(1.000000, SimpleClassificationPipeline({'bal...</td>\n",
       "      <td>auto-sklearn results:\\n  Dataset name: legal_j...</td>\n",
       "      <td>[0 1 1 1 1 1 0 1 1 1 1 1 0 1 0 1 1 1 1 1 1 1 1...</td>\n",
       "    </tr>\n",
       "    <tr>\n",
       "      <th>263</th>\n",
       "      <td>glove</td>\n",
       "      <td>200</td>\n",
       "      <td>5</td>\n",
       "      <td>relevant</td>\n",
       "      <td>english</td>\n",
       "      <td>0.731928</td>\n",
       "      <td>0.636872</td>\n",
       "      <td>[(1.000000, SimpleClassificationPipeline({'cla...</td>\n",
       "      <td>auto-sklearn results:\\n  Dataset name: legal_j...</td>\n",
       "      <td>[1 0 1 1 1 1 1 0 0 1 1 1 0 0 1 0 1 1 1 1 0 0 1...</td>\n",
       "    </tr>\n",
       "    <tr>\n",
       "      <th>284</th>\n",
       "      <td>echr</td>\n",
       "      <td>100</td>\n",
       "      <td>6</td>\n",
       "      <td>both</td>\n",
       "      <td>english</td>\n",
       "      <td>0.760913</td>\n",
       "      <td>0.727069</td>\n",
       "      <td>[(1.000000, SimpleClassificationPipeline({'imp...</td>\n",
       "      <td>auto-sklearn results:\\n  Dataset name: legal_j...</td>\n",
       "      <td>[1 1 1 1 1 1 0 1 0 0 1 0 1 1 0 1 1 0 1 0 1 1 1...</td>\n",
       "    </tr>\n",
       "    <tr>\n",
       "      <th>55</th>\n",
       "      <td>glove</td>\n",
       "      <td>200</td>\n",
       "      <td>7</td>\n",
       "      <td>circumstances</td>\n",
       "      <td>none</td>\n",
       "      <td>0.843750</td>\n",
       "      <td>0.666667</td>\n",
       "      <td>[(1.000000, SimpleClassificationPipeline({'pre...</td>\n",
       "      <td>auto-sklearn results:\\n  Dataset name: legal_j...</td>\n",
       "      <td>[1 0 1 1 0 1 0 1 0]</td>\n",
       "    </tr>\n",
       "  </tbody>\n",
       "</table>\n",
       "</div>"
      ],
      "text/plain": [
       "      type  dimension  article           part stopwords     train      test  \\\n",
       "66     law        100        2  circumstances   english  0.855263  0.854839   \n",
       "92   glove        200        3           both      none  0.761224  0.786885   \n",
       "263  glove        200        5       relevant   english  0.731928  0.636872   \n",
       "284   echr        100        6           both   english  0.760913  0.727069   \n",
       "55   glove        200        7  circumstances      none  0.843750  0.666667   \n",
       "\n",
       "                                                 model  \\\n",
       "66   [(1.000000, SimpleClassificationPipeline({'cla...   \n",
       "92   [(1.000000, SimpleClassificationPipeline({'bal...   \n",
       "263  [(1.000000, SimpleClassificationPipeline({'cla...   \n",
       "284  [(1.000000, SimpleClassificationPipeline({'imp...   \n",
       "55   [(1.000000, SimpleClassificationPipeline({'pre...   \n",
       "\n",
       "                                                 stats  \\\n",
       "66   auto-sklearn results:\\n  Dataset name: legal_j...   \n",
       "92   auto-sklearn results:\\n  Dataset name: legal_j...   \n",
       "263  auto-sklearn results:\\n  Dataset name: legal_j...   \n",
       "284  auto-sklearn results:\\n  Dataset name: legal_j...   \n",
       "55   auto-sklearn results:\\n  Dataset name: legal_j...   \n",
       "\n",
       "                                           predictions  \n",
       "66   [1 0 1 1 0 0 0 0 1 1 1 1 1 1 1 1 1 1 1 1 1 0 1...  \n",
       "92   [0 1 1 1 1 1 0 1 1 1 1 1 0 1 0 1 1 1 1 1 1 1 1...  \n",
       "263  [1 0 1 1 1 1 1 0 0 1 1 1 0 0 1 0 1 1 1 1 0 0 1...  \n",
       "284  [1 1 1 1 1 1 0 1 0 0 1 0 1 1 0 1 1 0 1 0 1 1 1...  \n",
       "55                                 [1 0 1 1 0 1 0 1 0]  "
      ]
     },
     "execution_count": 52,
     "metadata": {},
     "output_type": "execute_result"
    }
   ],
   "source": [
    "best.head()"
   ]
  },
  {
   "cell_type": "code",
   "execution_count": 6,
   "metadata": {
    "scrolled": true
   },
   "outputs": [
    {
     "data": {
      "text/html": [
       "<div>\n",
       "<style scoped>\n",
       "    .dataframe tbody tr th:only-of-type {\n",
       "        vertical-align: middle;\n",
       "    }\n",
       "\n",
       "    .dataframe tbody tr th {\n",
       "        vertical-align: top;\n",
       "    }\n",
       "\n",
       "    .dataframe thead th {\n",
       "        text-align: right;\n",
       "    }\n",
       "</style>\n",
       "<table border=\"1\" class=\"dataframe\">\n",
       "  <thead>\n",
       "    <tr style=\"text-align: right;\">\n",
       "      <th></th>\n",
       "      <th>type</th>\n",
       "      <th>dimension</th>\n",
       "      <th>article</th>\n",
       "      <th>part</th>\n",
       "      <th>stopwords</th>\n",
       "      <th>train</th>\n",
       "      <th>test</th>\n",
       "      <th>model</th>\n",
       "      <th>stats</th>\n",
       "      <th>predictions</th>\n",
       "      <th>actual</th>\n",
       "    </tr>\n",
       "  </thead>\n",
       "  <tbody>\n",
       "    <tr>\n",
       "      <th>0</th>\n",
       "      <td>law</td>\n",
       "      <td>100</td>\n",
       "      <td>2</td>\n",
       "      <td>circumstances</td>\n",
       "      <td>english</td>\n",
       "      <td>0.855263</td>\n",
       "      <td>0.80303</td>\n",
       "      <td>[(1.000000, SimpleClassificationPipeline({'pre...</td>\n",
       "      <td>auto-sklearn results:\\n  Dataset name: legal_j...</td>\n",
       "      <td>[1 1 1 0 1 0 0 1 1 1 1 1 1 1 1 1 1 1 1 0 0 1 1...</td>\n",
       "      <td>0     1\\n1     1\\n2     1\\n3     1\\n4     1\\n ...</td>\n",
       "    </tr>\n",
       "  </tbody>\n",
       "</table>\n",
       "</div>"
      ],
      "text/plain": [
       "  type  dimension  article           part stopwords     train     test  \\\n",
       "0  law        100        2  circumstances   english  0.855263  0.80303   \n",
       "\n",
       "                                               model  \\\n",
       "0  [(1.000000, SimpleClassificationPipeline({'pre...   \n",
       "\n",
       "                                               stats  \\\n",
       "0  auto-sklearn results:\\n  Dataset name: legal_j...   \n",
       "\n",
       "                                         predictions  \\\n",
       "0  [1 1 1 0 1 0 0 1 1 1 1 1 1 1 1 1 1 1 1 0 0 1 1...   \n",
       "\n",
       "                                              actual  \n",
       "0  0     1\\n1     1\\n2     1\\n3     1\\n4     1\\n ...  "
      ]
     },
     "execution_count": 6,
     "metadata": {},
     "output_type": "execute_result"
    }
   ],
   "source": [
    "results_test['train'] = list(best['train'])\n",
    "results_test.head(1)"
   ]
  },
  {
   "cell_type": "code",
   "execution_count": 12,
   "metadata": {},
   "outputs": [],
   "source": [
    "def getPreds(predictions):\n",
    "    pred = []\n",
    "    for p in predictions:\n",
    "        if (p == '1') | (p == '0'):\n",
    "            pred.append(int(p))\n",
    "    return pred\n",
    "\n",
    "preds = [getPreds(row) for row in results_test[\"predictions\"]]\n",
    "len(preds)\n",
    "\n",
    "path = \"/Users/conorosully/Documents/Legal-Case-Prediction/data/test_features/{}.csv\"\n",
    "\n",
    "actual = []\n",
    "for row in results_test.values:\n",
    "    filename = \"test_{}_{}_{}_{}_{}\".format(row[0],row[1],row[2],row[3],row[4])\n",
    "    df_test = pd.read_csv(path.format(filename))\n",
    "    actual.append(list(df_test[\"target\"]))\n",
    "len(actual)\n",
    "\n",
    "accuracy = []\n",
    "precison = []\n",
    "recall = []\n",
    "for a,p,x in zip(actual,preds,results_test['test']):\n",
    "    accuracy.append(accuracy_score(a,p))\n",
    "    precison.append(precision_score(a,p))\n",
    "    recall.append(recall_score(a,p))\n",
    "\n",
    "heuristic = []\n",
    "for a in actual:\n",
    "    v = sum(a)\n",
    "    nv = len(a) - sum(a)\n",
    "    if v > nv:\n",
    "        h = v/len(a)\n",
    "    else:\n",
    "        h = nv/len(a)        \n",
    "    heuristic.append(h) "
   ]
  },
  {
   "cell_type": "code",
   "execution_count": 43,
   "metadata": {},
   "outputs": [
    {
     "data": {
      "text/plain": [
       "[0.803030303030303,\n",
       " 0.7376237623762376,\n",
       " 0.6774193548387096,\n",
       " 0.6773109243697479,\n",
       " 0.6666666666666666,\n",
       " 0.7073170731707317,\n",
       " 0.5714285714285714,\n",
       " 0.4576271186440678,\n",
       " 0.7058823529411765,\n",
       " 0.7114093959731543,\n",
       " 0.675,\n",
       " 0.6666666666666666,\n",
       " 0.6882]"
      ]
     },
     "execution_count": 43,
     "metadata": {},
     "output_type": "execute_result"
    }
   ],
   "source": [
    "y1 = list(results_test['test']) +[0.6882]\n",
    "y2 = heuristic + [0.8668]\n",
    "y1"
   ]
  },
  {
   "cell_type": "code",
   "execution_count": 55,
   "metadata": {},
   "outputs": [
    {
     "data": {
      "image/png": "[encoded data removed]",
      "text/plain": [
       "<Figure size 1080x720 with 1 Axes>"
      ]
     },
     "metadata": {
      "needs_background": "light"
     },
     "output_type": "display_data"
    }
   ],
   "source": [
    "fig, ax = plt.subplots( nrows=1, ncols=1,figsize=(15,10))\n",
    "\n",
    "labels = [\"Article {}\".format(z) for z in results_test['article']] +[\"Weighted\\n Average\"]\n",
    "x = np.arange(len(labels))\n",
    "\n",
    "width = 0.3\n",
    "\n",
    "\n",
    "#plt.bar(x = x-width,height = results_test['train'],width=width,label='Train Accuracy')\n",
    "rec1 = plt.bar(x = x-width/2,height = y1,width=width,label='Model')\n",
    "rec2 = plt.bar(x = x+width/2,height = y2,width=width,label='Heuristic')\n",
    "#plt.bar(x = x+width*1.5,height = recall,width=width,label='Test Recall')\n",
    "autolabel(rec1,-3)\n",
    "autolabel(rec2,3)\n",
    "\n",
    "ax.set_xlabel('Article', fontsize = fontsize)\n",
    "ax.set_ylabel('Accuracy', fontsize = fontsize)\n",
    "plt.xticks(x)\n",
    "ax.set_xticklabels(labels,fontsize=12)\n",
    "plt.legend(fontsize=14,bbox_to_anchor=(1, 1.15))\n",
    "plt.tight_layout()\n",
    "\n",
    "plt.savefig(fig_path.format(\"test_results_accuracy.eps\"),format='eps',dpi=1000)"
   ]
  },
  {
   "cell_type": "code",
   "execution_count": null,
   "metadata": {},
   "outputs": [],
   "source": [
    "fig, ax = plt.subplots( nrows=1, ncols=1,figsize=(15,8))\n",
    "\n",
    "plt.scatter(x=weights_all,y=best['train'],s=100)\n",
    "\n",
    "ax.set_xlabel('Number of Judgments in Training Set', fontsize = fontsize)\n",
    "ax.set_ylabel('Cross-validation Accuracy', fontsize = fontsize)\n",
    "plt.xticks([0,100,200,400,600,800,1000])\n",
    "#ax.set_xticklabels(labels,fontsize=12)\n",
    "#plt.legend(fontsize=14,bbox_to_anchor=(1, 1))\n",
    "for i, txt in enumerate(article_labels):\n",
    "    ax.annotate(txt, (weights_all[i], list(best['train'])[i]))\n",
    "    \n",
    "plt.axvline(x=100, color='black', linestyle='--')\n",
    "\n",
    "plt.tight_layout()\n",
    "\n",
    "plt.savefig(fig_path.format(\"accuracyVdata.eps\"),format='eps',dpi=1000)"
   ]
  },
  {
   "cell_type": "code",
   "execution_count": 34,
   "metadata": {},
   "outputs": [
    {
     "name": "stdout",
     "output_type": "stream",
     "text": [
      "Article 2\n",
      "Article 3\n",
      "Article 5\n",
      "Article 6\n",
      "Article 8\n",
      "Article 10\n",
      "Article 13\n",
      "Article 14\n"
     ]
    },
    {
     "data": {
      "text/plain": [
       "0.07867950844963101"
      ]
     },
     "execution_count": 34,
     "metadata": {},
     "output_type": "execute_result"
    }
   ],
   "source": [
    "diff = results_test['train'] - results_test['test'] \n",
    "su = 0\n",
    "for d,a in zip(diff, article_labels):\n",
    "    if a not in ['Article 7','Article 9','Article 11','Article 18']:\n",
    "        print(a)\n",
    "        su += d\n",
    "su/8"
   ]
  },
  {
   "cell_type": "code",
   "execution_count": 81,
   "metadata": {},
   "outputs": [
    {
     "data": {
      "image/png": "[encoded data removed]",
      "text/plain": [
       "<Figure size 1080x576 with 1 Axes>"
      ]
     },
     "metadata": {
      "needs_background": "light"
     },
     "output_type": "display_data"
    }
   ],
   "source": [
    "fig, ax = plt.subplots( nrows=1, ncols=1,figsize=(15,8))\n",
    "\n",
    "\n",
    "plt.scatter(x=weights_all,y=diff,s=100)\n",
    "\n",
    "ax.set_xlabel('Number of Judgments in Training Set', fontsize = fontsize)\n",
    "ax.set_ylabel('Cross-validation and Test \\n Accuracy Difference', fontsize = fontsize)\n",
    "plt.xticks([0,100,200,400,600,800,1000])\n",
    "#ax.set_xticklabels(labels,fontsize=12)\n",
    "#plt.legend(fontsize=14,bbox_to_anchor=(1, 1))\n",
    "for i, txt in enumerate(article_labels):\n",
    "    ax.annotate(txt, (weights_all[i], diff[i]))\n",
    "    \n",
    "plt.axvline(x=100, color='black', linestyle='--')\n",
    "ax.set_ylim(bottom=0)\n",
    "ax.set_xlim(left=0)\n",
    "plt.tight_layout()\n",
    "\n",
    "plt.savefig(fig_path.format(\"differenceVdata.eps\"),format='eps',dpi=1000)"
   ]
  },
  {
   "cell_type": "code",
   "execution_count": 17,
   "metadata": {},
   "outputs": [
    {
     "data": {
      "image/png": "[encoded data removed]",
      "text/plain": [
       "<Figure size 720x72 with 1 Axes>"
      ]
     },
     "metadata": {
      "needs_background": "light"
     },
     "output_type": "display_data"
    }
   ],
   "source": [
    "current_palette = sns.color_palette()\n",
    "sns.palplot(current_palette)"
   ]
  },
  {
   "cell_type": "code",
   "execution_count": 18,
   "metadata": {},
   "outputs": [
    {
     "data": {
      "text/plain": [
       "0.690557705824341"
      ]
     },
     "execution_count": 18,
     "metadata": {},
     "output_type": "execute_result"
    }
   ],
   "source": [
    "np.mean(recall)"
   ]
  },
  {
   "cell_type": "code",
   "execution_count": 75,
   "metadata": {},
   "outputs": [
    {
     "data": {
      "image/png": "[encoded data removed]",
      "text/plain": [
       "<Figure size 1080x720 with 1 Axes>"
      ]
     },
     "metadata": {
      "needs_background": "light"
     },
     "output_type": "display_data"
    }
   ],
   "source": [
    "fig, ax = plt.subplots( nrows=1, ncols=1,figsize=(15,10))\n",
    "\n",
    "labels = [\"Article {}\".format(x) for x in results_test['article']] \n",
    "x = np.arange(len(labels))\n",
    "\n",
    "width = 0.3\n",
    "#plt.bar(x = x-width,height = results_test['test'],width=width,label='Test Accuracy',color=current_palette[1])\n",
    "rec1 = plt.bar(x = x-width/2,height = precison,width=width,label='Precison',color=current_palette[2])\n",
    "rec2 = plt.bar(x = x+width/2,height = recall,width=width,label='Recall',color=current_palette[3])\n",
    "autolabel(rec1,0)\n",
    "autolabel(rec2,0)\n",
    "\n",
    "\n",
    "ax.set_xlabel('Article', fontsize = fontsize)\n",
    "ax.set_ylabel('Precison, Recall', fontsize = fontsize)\n",
    "plt.xticks(x)\n",
    "ax.set_xticklabels(labels,fontsize=12)\n",
    "plt.legend(fontsize=14,bbox_to_anchor=(1, 1.15))\n",
    "plt.tight_layout()\n",
    "\n",
    "plt.savefig(fig_path.format(\"test_precision_recall.eps\"),format='eps',dpi=1000)"
   ]
  },
  {
   "cell_type": "code",
   "execution_count": 8,
   "metadata": {},
   "outputs": [
    {
     "data": {
      "text/plain": [
       "array([[12,  8],\n",
       "       [ 5, 15]])"
      ]
     },
     "execution_count": 8,
     "metadata": {},
     "output_type": "execute_result"
    }
   ],
   "source": [
    "# Confusion matrices\n",
    "confusion_matrix(actual[10],preds[10])"
   ]
  },
  {
   "cell_type": "code",
   "execution_count": 44,
   "metadata": {},
   "outputs": [
    {
     "name": "stdout",
     "output_type": "stream",
     "text": [
      "0.6714485158421694 0.6881868131868132\n",
      "0.7716044951786135 0.8667582417582418\n"
     ]
    }
   ],
   "source": [
    "weights = []\n",
    "for a in actual:\n",
    "    weights.append(len(a))\n",
    "weights    \n",
    "\n",
    "mean = np.mean(accuracy)\n",
    "weighted = sum(np.array(accuracy)*np.array(weights))/sum(weights)\n",
    "print(mean,weighted)\n",
    "\n",
    "mean = np.mean(heuristic)\n",
    "weighted = sum(np.array(heuristic)*np.array(weights))/sum(weights)\n",
    "print(mean,weighted)"
   ]
  },
  {
   "cell_type": "code",
   "execution_count": 63,
   "metadata": {},
   "outputs": [
    {
     "data": {
      "text/plain": [
       "1.0"
      ]
     },
     "execution_count": 63,
     "metadata": {},
     "output_type": "execute_result"
    }
   ],
   "source": [
    "round(precison[0],4)"
   ]
  },
  {
   "cell_type": "code",
   "execution_count": 70,
   "metadata": {},
   "outputs": [
    {
     "name": "stderr",
     "output_type": "stream",
     "text": [
      "/Users/conorosully/miniconda3/lib/python3.6/site-packages/ipykernel_launcher.py:2: SettingWithCopyWarning: \n",
      "A value is trying to be set on a copy of a slice from a DataFrame.\n",
      "Try using .loc[row_indexer,col_indexer] = value instead\n",
      "\n",
      "See the caveats in the documentation: http://pandas.pydata.org/pandas-docs/stable/indexing.html#indexing-view-versus-copy\n",
      "  \n",
      "/Users/conorosully/miniconda3/lib/python3.6/site-packages/ipykernel_launcher.py:4: SettingWithCopyWarning: \n",
      "A value is trying to be set on a copy of a slice from a DataFrame.\n",
      "Try using .loc[row_indexer,col_indexer] = value instead\n",
      "\n",
      "See the caveats in the documentation: http://pandas.pydata.org/pandas-docs/stable/indexing.html#indexing-view-versus-copy\n",
      "  after removing the cwd from sys.path.\n",
      "/Users/conorosully/miniconda3/lib/python3.6/site-packages/ipykernel_launcher.py:5: SettingWithCopyWarning: \n",
      "A value is trying to be set on a copy of a slice from a DataFrame.\n",
      "Try using .loc[row_indexer,col_indexer] = value instead\n",
      "\n",
      "See the caveats in the documentation: http://pandas.pydata.org/pandas-docs/stable/indexing.html#indexing-view-versus-copy\n",
      "  \"\"\"\n",
      "/Users/conorosully/miniconda3/lib/python3.6/site-packages/ipykernel_launcher.py:6: SettingWithCopyWarning: \n",
      "A value is trying to be set on a copy of a slice from a DataFrame.\n",
      "Try using .loc[row_indexer,col_indexer] = value instead\n",
      "\n",
      "See the caveats in the documentation: http://pandas.pydata.org/pandas-docs/stable/indexing.html#indexing-view-versus-copy\n",
      "  \n",
      "/Users/conorosully/miniconda3/lib/python3.6/site-packages/ipykernel_launcher.py:7: SettingWithCopyWarning: \n",
      "A value is trying to be set on a copy of a slice from a DataFrame.\n",
      "Try using .loc[row_indexer,col_indexer] = value instead\n",
      "\n",
      "See the caveats in the documentation: http://pandas.pydata.org/pandas-docs/stable/indexing.html#indexing-view-versus-copy\n",
      "  import sys\n",
      "/Users/conorosully/miniconda3/lib/python3.6/site-packages/ipykernel_launcher.py:8: SettingWithCopyWarning: \n",
      "A value is trying to be set on a copy of a slice from a DataFrame.\n",
      "Try using .loc[row_indexer,col_indexer] = value instead\n",
      "\n",
      "See the caveats in the documentation: http://pandas.pydata.org/pandas-docs/stable/indexing.html#indexing-view-versus-copy\n",
      "  \n"
     ]
    },
    {
     "data": {
      "text/html": [
       "<div>\n",
       "<style scoped>\n",
       "    .dataframe tbody tr th:only-of-type {\n",
       "        vertical-align: middle;\n",
       "    }\n",
       "\n",
       "    .dataframe tbody tr th {\n",
       "        vertical-align: top;\n",
       "    }\n",
       "\n",
       "    .dataframe thead th {\n",
       "        text-align: right;\n",
       "    }\n",
       "</style>\n",
       "<table border=\"1\" class=\"dataframe\">\n",
       "  <thead>\n",
       "    <tr style=\"text-align: right;\">\n",
       "      <th></th>\n",
       "      <th>Article</th>\n",
       "      <th>Training Accuracy</th>\n",
       "      <th>Test Accuracy</th>\n",
       "      <th>Test Precison</th>\n",
       "      <th>Test Recall</th>\n",
       "      <th>Heuristic Accuracy</th>\n",
       "    </tr>\n",
       "  </thead>\n",
       "  <tbody>\n",
       "    <tr>\n",
       "      <th>0</th>\n",
       "      <td>Article 2</td>\n",
       "      <td>0.8553</td>\n",
       "      <td>0.8030</td>\n",
       "      <td>1.0000</td>\n",
       "      <td>0.7759</td>\n",
       "      <td>0.8788</td>\n",
       "    </tr>\n",
       "    <tr>\n",
       "      <th>1</th>\n",
       "      <td>Article 3</td>\n",
       "      <td>0.7612</td>\n",
       "      <td>0.7376</td>\n",
       "      <td>0.9485</td>\n",
       "      <td>0.7371</td>\n",
       "      <td>0.8663</td>\n",
       "    </tr>\n",
       "    <tr>\n",
       "      <th>2</th>\n",
       "      <td>Article 5</td>\n",
       "      <td>0.7319</td>\n",
       "      <td>0.6774</td>\n",
       "      <td>0.9500</td>\n",
       "      <td>0.6786</td>\n",
       "      <td>0.9032</td>\n",
       "    </tr>\n",
       "    <tr>\n",
       "      <th>3</th>\n",
       "      <td>Article 6</td>\n",
       "      <td>0.7609</td>\n",
       "      <td>0.6773</td>\n",
       "      <td>0.9677</td>\n",
       "      <td>0.6660</td>\n",
       "      <td>0.9059</td>\n",
       "    </tr>\n",
       "    <tr>\n",
       "      <th>4</th>\n",
       "      <td>Article 7</td>\n",
       "      <td>0.8438</td>\n",
       "      <td>0.6667</td>\n",
       "      <td>0.6000</td>\n",
       "      <td>0.7500</td>\n",
       "      <td>0.5556</td>\n",
       "    </tr>\n",
       "  </tbody>\n",
       "</table>\n",
       "</div>"
      ],
      "text/plain": [
       "     Article  Training Accuracy  Test Accuracy  Test Precison  Test Recall  \\\n",
       "0  Article 2             0.8553         0.8030         1.0000       0.7759   \n",
       "1  Article 3             0.7612         0.7376         0.9485       0.7371   \n",
       "2  Article 5             0.7319         0.6774         0.9500       0.6786   \n",
       "3  Article 6             0.7609         0.6773         0.9677       0.6660   \n",
       "4  Article 7             0.8438         0.6667         0.6000       0.7500   \n",
       "\n",
       "   Heuristic Accuracy  \n",
       "0              0.8788  \n",
       "1              0.8663  \n",
       "2              0.9032  \n",
       "3              0.9059  \n",
       "4              0.5556  "
      ]
     },
     "execution_count": 70,
     "metadata": {},
     "output_type": "execute_result"
    }
   ],
   "source": [
    "results_values = results_test[['article','train','test']]\n",
    "results_values['article'] = article_labels\n",
    "\n",
    "results_values['train'] = [round(x,4) for x in results_values['train']]\n",
    "results_values['test'] = [round(x,4) for x in results_values['test']]\n",
    "results_values['precison'] = [round(x,4) for x in precison]\n",
    "results_values['recall'] = [round(x,4) for x in recall]\n",
    "results_values['heuristic'] = [round(x,4) for x in heuristic]\n",
    "\n",
    "results_values.columns = ['Article', 'Training Accuracy', 'Test Accuracy', 'Test Precison', 'Test Recall', 'Heuristic Accuracy']\n",
    "results_values.to_csv(fig_path.format(\"results.csv\"))\n",
    "results_values.head()"
   ]
  },
  {
   "cell_type": "markdown",
   "metadata": {},
   "source": [
    "# Accuracy by Parts"
   ]
  },
  {
   "cell_type": "code",
   "execution_count": 46,
   "metadata": {},
   "outputs": [
    {
     "data": {
      "image/png": "[encoded data removed]",
      "text/plain": [
       "<Figure size 1080x576 with 1 Axes>"
      ]
     },
     "metadata": {
      "needs_background": "light"
     },
     "output_type": "display_data"
    }
   ],
   "source": [
    "best_parts = autoML.sort_values('train', ascending=False).drop_duplicates(['article']).sort_values('article')\n",
    "\n",
    "labels = [\"Article {}\".format(x) for x in best_parts['article']] \n",
    "x = np.arange(len(labels)) \n",
    "x_parts = {'both':[0], 'procedure':[0], 'facts':[0], 'circumstances':[0], 'relevant':[0]}\n",
    "height_parts = {'both':[0], 'procedure':[0], 'facts':[0], 'circumstances':[0], 'relevant':[0]}\n",
    "\n",
    "for i,row in enumerate(best_parts.values):\n",
    "    part = row[3]\n",
    "    train = row[5]\n",
    "    x_parts[part] = x_parts[part] + [x[i]]\n",
    "    height_parts[part] = height_parts[part] + [train]\n",
    "    \n",
    "width = 0.5\n",
    "\n",
    "fig, ax = plt.subplots( nrows=1, ncols=1,figsize=(15,8))\n",
    "\n",
    "plt.bar(x_parts['both'],height = height_parts['both'] ,width=width,label='procedure+facts')\n",
    "plt.bar(x_parts['procedure'],height = height_parts['procedure'] ,width=width,label='procedure')\n",
    "plt.bar(x_parts['facts'],height = height_parts['facts'] ,width=width,label='facts')\n",
    "plt.bar(x_parts['circumstances'],height = height_parts['circumstances'] ,width=width,label='circumstances')\n",
    "plt.bar(x_parts['relevant'],height = height_parts['relevant'] ,width=width,label='relevant')\n",
    "\n",
    "\n",
    "ax.set_xlabel('Article', fontsize = fontsize)\n",
    "ax.set_ylabel('Cross-validation Accuracy', fontsize = fontsize)\n",
    "plt.xticks(x)\n",
    "ax.set_xticklabels(labels,fontsize=12)\n",
    "plt.legend(fontsize=14,bbox_to_anchor=(1, 1))\n",
    "plt.tight_layout()\n",
    "\n",
    "plt.savefig(fig_path.format(\"best_parts_single.eps\"),format='eps',dpi=1000)"
   ]
  },
  {
   "cell_type": "code",
   "execution_count": 31,
   "metadata": {},
   "outputs": [
    {
     "data": {
      "image/png": "[encoded data removed]",
      "text/plain": [
       "<Figure size 1080x576 with 1 Axes>"
      ]
     },
     "metadata": {
      "needs_background": "light"
     },
     "output_type": "display_data"
    }
   ],
   "source": [
    "parts = ['both', 'procedure', 'facts', 'circumstances', 'relevant']\n",
    "df_parts = []\n",
    "train_scores = []\n",
    "for part in parts:\n",
    "    temp = autoML[autoML['article'].isin([3,7,14])]\n",
    "    temp = temp[temp['part']==part].sort_values('train', ascending=False).drop_duplicates(['article']).sort_values('article')\n",
    "    df_parts.append(temp.copy())\n",
    "    train_score = list(temp['train'])\n",
    "    train_scores.append(train_score)\n",
    "\n",
    "fig, ax = plt.subplots( nrows=1, ncols=1,figsize=(15,8))\n",
    "\n",
    "labels = [\"Article {}\".format(x) for x in df_parts[0]['article']] \n",
    "x = np.arange(len(labels)) \n",
    "\n",
    "width = 0.15\n",
    "rec1 = plt.bar(x = x-width*2,height = df_parts[0]['train'],width=width,label='procedure+facts')\n",
    "rec2 = plt.bar(x = x-width*1,height = df_parts[1]['train'],width=width,label='procedure')\n",
    "rec3 = plt.bar(x = x,height = df_parts[2]['train'],width=width,label='facts')\n",
    "rec4 = plt.bar(x = x+width*1,height = df_parts[3]['train'],width=width,label='circumstances')\n",
    "rec5 = plt.bar(x = x+width*2,height = df_parts[4]['train'],width=width,label='relevant')\n",
    "#plt.bar(x = x + width/2,height = 'nv_used',width=width,data = data,label='nonviolation')\n",
    "autolabel(rec1)\n",
    "autolabel(rec2)\n",
    "autolabel(rec3)\n",
    "autolabel(rec4)\n",
    "autolabel(rec5)\n",
    "\"\"\"for scores, part in zip(train_scores,parts):\n",
    "    plt.stem(x, scores,label=part)\n",
    "    \n",
    "    #sns.lineplot(x=x,y=scores,label=part)\"\"\"\n",
    "    \n",
    "ax.set_xlabel('Article', fontsize = fontsize)\n",
    "ax.set_ylabel('Cross-validation Accuracy', fontsize = fontsize)\n",
    "plt.xticks(x)\n",
    "ax.set_xticklabels(labels,fontsize=12)\n",
    "plt.legend(fontsize=14,bbox_to_anchor=(1, 1))\n",
    "plt.tight_layout()\n",
    "\n",
    "plt.savefig(fig_path.format(\"part_variation.eps\"),format='eps',dpi=1000)"
   ]
  },
  {
   "cell_type": "code",
   "execution_count": 73,
   "metadata": {},
   "outputs": [
    {
     "name": "stdout",
     "output_type": "stream",
     "text": [
      "both 0.8128933333333332 0.7700342163543441\n",
      "procedure 0.7764599999999998 0.7356616768881318\n",
      "facts 0.8023262500000001 0.7612151022146508\n",
      "circumstances 0.8026726666666667 0.7563882549687677\n",
      "relevant 0.7832880833333334 0.7424759085746735\n"
     ]
    },
    {
     "data": {
      "image/png": "[encoded data removed]",
      "text/plain": [
       "<Figure size 1080x576 with 1 Axes>"
      ]
     },
     "metadata": {
      "needs_background": "light"
     },
     "output_type": "display_data"
    }
   ],
   "source": [
    "fig, ax = plt.subplots( nrows=1, ncols=1,figsize=(15,8))\n",
    "\n",
    "labels = ['procedure+facts', 'procedure', 'facts', 'circumstances', 'relevant']\n",
    "x = np.arange(len(labels)) \n",
    "width =  0.4\n",
    "\n",
    "parts = ['both', 'procedure', 'facts', 'circumstances', 'relevant']\n",
    "means = []\n",
    "weighteds = []\n",
    "for part in parts:\n",
    "    temp = autoML[autoML['part']==part].sort_values('train', ascending=False).drop_duplicates(['article']).sort_values('article')\n",
    "    train_score = list(temp['train'])\n",
    "    mean = np.mean(train_score)\n",
    "    weighted = sum(np.array(train_score)*np.array(weights_all))/sum(weights_all)\n",
    "    means.append(mean)\n",
    "    weighteds.append(weighted)\n",
    "    print(part,mean,weighted)\n",
    "    \n",
    "rec1 = plt.bar(x = x,height = means,width=width,label='Average')\n",
    "#rec2 = plt.bar(x = x+width/2,height = weighteds,width=width,label='Weighted Average')\n",
    "\n",
    "autolabel(rec1,0)\n",
    "#autolabel(rec2,0)\n",
    "\n",
    "#plt.axhline(y=0.7700342163543441, color='black', linestyle='--')\n",
    "    \n",
    "ax.set_xlabel('Judgment Section', fontsize = fontsize)\n",
    "ax.set_ylabel('Average \\n Cross-validation Accuracy', fontsize = fontsize)\n",
    "plt.xticks(x)\n",
    "ax.set_xticklabels(labels,fontsize=12)\n",
    "#plt.legend(fontsize=14,bbox_to_anchor=(1, 1))\n",
    "plt.tight_layout()\n",
    "\n",
    "plt.savefig(fig_path.format(\"average_part_all.eps\"),format='eps',dpi=1000)"
   ]
  },
  {
   "cell_type": "markdown",
   "metadata": {},
   "source": [
    "# Accuracy by Feature Type"
   ]
  },
  {
   "cell_type": "code",
   "execution_count": 43,
   "metadata": {},
   "outputs": [
    {
     "name": "stdout",
     "output_type": "stream",
     "text": [
      "2 law 0.8552629999999999\n",
      "3 glove 0.761224\n",
      "5 glove 0.731928\n",
      "6 echr 0.7609130000000001\n",
      "7 glove 0.84375\n",
      "8 echr 0.732472\n",
      "9 ngram 0.875\n",
      "10 echr 0.722892\n",
      "11 glove 0.934783\n",
      "13 glove 0.816832\n",
      "14 echr 0.8351649999999999\n",
      "18 echr 1.0\n"
     ]
    },
    {
     "data": {
      "image/png": "[encoded data removed]",
      "text/plain": [
       "<Figure size 1080x576 with 1 Axes>"
      ]
     },
     "metadata": {
      "needs_background": "light"
     },
     "output_type": "display_data"
    }
   ],
   "source": [
    "best_types = autoML.sort_values('train', ascending=False).drop_duplicates(['article']).sort_values('article')\n",
    "\n",
    "labels = [\"Article {}\".format(x) for x in best_types['article']] \n",
    "x = np.arange(len(labels)) \n",
    "x_type = {'ngram':[0], 'glove':[0], 'law':[0], 'echr':[0], 'doc':[0]}\n",
    "height_type = {'ngram':[0], 'glove':[0], 'law':[0], 'echr':[0], 'doc':[0]}\n",
    "\n",
    "for i,row in enumerate(best_types.values):\n",
    "    part = row[0]\n",
    "    train = row[5]\n",
    "    x_type[part] = x_type[part] + [x[i]]\n",
    "    height_type[part] = height_type[part] + [train]\n",
    "width = 0.5\n",
    "\n",
    "fig, ax = plt.subplots( nrows=1, ncols=1,figsize=(15,8))\n",
    "\n",
    "plt.bar(x = x_type['ngram'],height = height_type['ngram'],width=width,label='n-gram')\n",
    "plt.bar(x = x_type['glove'],height = height_type['glove'],width=width,label='GloVe')\n",
    "plt.bar(x = x_type['law'],height = height_type['law'],width=width,label='law2vec')\n",
    "plt.bar(x = x_type['echr'],height = height_type['echr'],width=width,label='echr2vec')\n",
    "plt.bar(x = x_type['doc'],height = height_type['doc'],width=width,label='doc2vec')\n",
    "\n",
    "ax.set_xlabel('Article', fontsize = fontsize)\n",
    "ax.set_ylabel('Cross-validation Accuracy', fontsize = fontsize)\n",
    "plt.xticks(x)\n",
    "ax.set_xticklabels(labels,fontsize=12)\n",
    "plt.legend(fontsize=14,bbox_to_anchor=(1, 1))\n",
    "plt.tight_layout()\n",
    "\n",
    "plt.savefig(fig_path.format(\"best_feature_single.eps\"),format='eps',dpi=1000)"
   ]
  },
  {
   "cell_type": "code",
   "execution_count": 78,
   "metadata": {},
   "outputs": [
    {
     "name": "stdout",
     "output_type": "stream",
     "text": [
      "ngram 0.7838410833333332\n",
      "glove -0.010299083333333292\n",
      "law -0.007750083333333491\n",
      "echr -0.009619666666666582\n",
      "doc -0.0009689166666665416\n"
     ]
    },
    {
     "data": {
      "image/png": "[encoded data removed]",
      "text/plain": [
       "<Figure size 1080x576 with 1 Axes>"
      ]
     },
     "metadata": {
      "needs_background": "light"
     },
     "output_type": "display_data"
    }
   ],
   "source": [
    "fig, ax = plt.subplots( nrows=1, ncols=1,figsize=(15,8))\n",
    "\n",
    "labels = ['n-gram', 'GloVe', 'law2vec', 'echr2vec', 'doc2vec']\n",
    "x = np.arange(len(labels)) \n",
    "x_2 = np.array([1,2,3,4])\n",
    "width =  0.3\n",
    "\n",
    "#ngram\n",
    "temp = autoML[autoML['type']=='ngram'].sort_values('train', ascending=False).drop_duplicates(['article']).sort_values('article')\n",
    "train_score = list(temp['train'])\n",
    "#ngram_weight = sum(np.array(train_score)*np.array(weights_all))/sum(weights_all)\n",
    "ngram_weight = np.mean(train_score)\n",
    "print(\"ngram\",ngram_weight)\n",
    "\n",
    "types = ['glove', 'law', 'echr', 'doc']\n",
    "\n",
    "height_100 = []\n",
    "height_200 = []\n",
    "for t in types:\n",
    "    temp = autoML[autoML['type']==t]\n",
    "    temp_100 = temp[temp['dimension']==100].sort_values('train', ascending=False).drop_duplicates(['article']).sort_values('article')\n",
    "    temp_200 = temp[temp['dimension']==200].sort_values('train', ascending=False).drop_duplicates(['article']).sort_values('article')\n",
    "   \n",
    "    #mean_100 = sum(np.array(temp_100['train'])*np.array(weights_all))/sum(weights_all)\n",
    "    #mean_200  = sum(np.array(temp_200['train'])*np.array(weights_all))/sum(weights_all)\n",
    "    \n",
    "    mean_100 = np.mean(temp_100['train'])\n",
    "    mean_200  = np.mean(temp_200['train'])\n",
    "    \n",
    "    \n",
    "    height_100.append(mean_100)\n",
    "    height_200.append(mean_200)\n",
    "    print(t,mean_100 - mean_200)\n",
    "    \n",
    "rec1 = plt.bar(x = [0],height = ngram_weight,width=width,label='2000')\n",
    "rec2 = plt.bar(x = x_2 - width/2,height = height_100,width=width,label='100')\n",
    "rec3 = plt.bar(x = x_2 + width/2,height = height_200,width=width,label='200')\n",
    "\n",
    "autolabel(rec1,0)\n",
    "autolabel(rec2,0)\n",
    "autolabel(rec3,0)\n",
    "\n",
    "#plt.axhline(y=0.7700342163543441, color='black', linestyle='--')\n",
    "\n",
    "ax.set_yticks([0.766], minor=True)\n",
    "ax.yaxis.grid(True, which='minor', linestyle='--',)\n",
    "\n",
    "    \n",
    "ax.set_xlabel('Judgment Part', fontsize = fontsize)\n",
    "ax.set_ylabel('Average \\n Cross-validation Accuracy', fontsize = fontsize)\n",
    "plt.xticks(x)\n",
    "ax.set_xticklabels(labels,fontsize=12)\n",
    "plt.legend(fontsize=14,bbox_to_anchor=(1, 1),title = \"Dimension\")\n",
    "plt.tight_layout()\n",
    "\n",
    "plt.savefig(fig_path.format(\"average_type_dimesnion.eps\"),format='eps',dpi=1000)"
   ]
  },
  {
   "cell_type": "markdown",
   "metadata": {},
   "source": [
    "### Previous studies"
   ]
  },
  {
   "cell_type": "code",
   "execution_count": null,
   "metadata": {},
   "outputs": [],
   "source": []
  },
  {
   "cell_type": "code",
   "execution_count": 27,
   "metadata": {},
   "outputs": [
    {
     "name": "stdout",
     "output_type": "stream",
     "text": [
      "80.08666666666666\n",
      "79.53333333333335\n",
      "74.33333333333333\n"
     ]
    }
   ],
   "source": [
    "data_1 = data_2 = np.array([250,80,254])\n",
    "data_3 = np.array([568,916,458])\n",
    "\n",
    "\n",
    "acc_1 = np.array([78.09,84.11,78.06])\n",
    "acc_2 = np.array([73.4,87.5,77.7])\n",
    "acc_3 = np.array([71,80,72])\n",
    "\n",
    "\n",
    "print(np.mean(acc_1))\n",
    "print(np.mean(acc_2))\n",
    "print(np.mean(acc_3))\n",
    "\n",
    "#print(sum(data_1*acc_1)/sum(data_1))\n",
    "#print(sum(data_2*acc_2)/sum(data_2))\n",
    "#print(sum(data_3*acc_3)/sum(data_3))"
   ]
  },
  {
   "cell_type": "code",
   "execution_count": 28,
   "metadata": {},
   "outputs": [
    {
     "name": "stdout",
     "output_type": "stream",
     "text": [
      "75.33333333333333\n"
     ]
    }
   ],
   "source": [
    "data_1 = np.array([114,568,300,916,458,212,64,212,288])\n",
    "acc_1 = np.array([73,80,71,80,72,61,83,83,75])\n",
    "\n",
    "print(np.mean(acc_1))\n",
    "#print(sum(data_1*acc_1)/sum(data_1))"
   ]
  },
  {
   "cell_type": "code",
   "execution_count": 23,
   "metadata": {},
   "outputs": [],
   "source": [
    "articles_all = [ 2,  3,  5,  6,  7,  8,  9, 10, 11, 13, 14, 18]#all articles\n",
    "articles_1 = [ 3,  6, 8]\n",
    "articles_2 = [ 2,  3,  5,  6,  8,  10, 13, 14]"
   ]
  },
  {
   "cell_type": "code",
   "execution_count": 29,
   "metadata": {},
   "outputs": [
    {
     "name": "stdout",
     "output_type": "stream",
     "text": [
      "0.7515363333333335\n",
      "0.777086125\n"
     ]
    }
   ],
   "source": [
    "best = autoML.sort_values('train', ascending=False).drop_duplicates(['article']).sort_values('article')\n",
    "\n",
    "# Calculate Weights\n",
    "weights_1 = []\n",
    "weights_2 = []\n",
    "for a in articles_all:\n",
    "    article = str(a)\n",
    "    weight = len(train_test_split[article]['v_train']) + len(train_test_split[article]['nv_train'])\n",
    "    if a in articles_1:\n",
    "        weights_1.append(weight)\n",
    "    if a in articles_2:\n",
    "        weights_2.append(weight)\n",
    "\n",
    "train_1 = []\n",
    "train_2 = []\n",
    "for row in best.values:\n",
    "    if row[2] in articles_1:\n",
    "        train_1.append(row[5])\n",
    "    if row[2] in articles_2:\n",
    "        train_2.append(row[5])\n",
    "weighted_1 = sum(np.array(train_1)*np.array(weights_1))/sum(weights_1)\n",
    "weighted_2 = sum(np.array(train_2)*np.array(weights_2))/sum(weights_2)\n",
    "\n",
    "print(np.mean(train_1))\n",
    "print(np.mean(train_2))\n",
    "\n",
    "\n",
    "#print(weighted_1)\n",
    "#print(weighted_2)"
   ]
  }
 ],
 "metadata": {
  "kernelspec": {
   "display_name": "Python 3",
   "language": "python",
   "name": "python3"
  },
  "language_info": {
   "codemirror_mode": {
    "name": "ipython",
    "version": 3
   },
   "file_extension": ".py",
   "mimetype": "text/x-python",
   "name": "python",
   "nbconvert_exporter": "python",
   "pygments_lexer": "ipython3",
   "version": "3.6.8"
  }
 },
 "nbformat": 4,
 "nbformat_minor": 2
}

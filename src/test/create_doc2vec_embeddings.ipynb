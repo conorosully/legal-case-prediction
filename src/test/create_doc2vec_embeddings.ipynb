{
 "cells": [
  {
   "cell_type": "code",
   "execution_count": 1,
   "metadata": {},
   "outputs": [],
   "source": [
    "#Imports\n",
    "import numpy as np\n",
    "import pandas as pd\n",
    "\n",
    "import json\n",
    "from gensim.models.doc2vec import Doc2Vec, TaggedDocument\n",
    "\n",
    "from IPython.core.display import display, HTML\n",
    "\n",
    "import HTMLSentenceTokenizer\n",
    "sentence = HTMLSentenceTokenizer.HTMLSentenceTokenizer()\n",
    "from nltk.tokenize import word_tokenize\n",
    "import ast\n",
    "import pickle\n",
    "\n",
    "from tqdm import tnrange, tqdm_notebook\n",
    "\n",
    "import functions \n",
    "clean = functions.clean()"
   ]
  },
  {
   "cell_type": "code",
   "execution_count": 5,
   "metadata": {},
   "outputs": [],
   "source": [
    "path = \"/Users/conorosully/Documents/Legal-Case-Prediction/data/{}\""
   ]
  },
  {
   "cell_type": "code",
   "execution_count": 3,
   "metadata": {},
   "outputs": [
    {
     "name": "stdout",
     "output_type": "stream",
     "text": [
      "8703\n",
      "HUDOC-ECHR-1999-001-58225\n",
      "7\n"
     ]
    }
   ],
   "source": [
    "#Open cases\n",
    "path = \"/Users/conorosully/Documents/Legal-Case-Prediction/data/clean/{}.json\"\n",
    "\n",
    "with open(path.format('text_alpha'), 'r') as readfile:\n",
    "    text = json.load(readfile)\n",
    "    readfile.close()\n",
    "\n",
    "IDs = text.keys()\n",
    "print(len(IDs))\n",
    "print(list(text.keys())[0])\n",
    "print(len(text['HUDOC-ECHR-2012-001-110881']))\n"
   ]
  },
  {
   "cell_type": "code",
   "execution_count": 4,
   "metadata": {},
   "outputs": [
    {
     "name": "stdout",
     "output_type": "stream",
     "text": [
      "Index(['id', 'type', 'url', 'doc-name', 'doc-id-label', 'doc-date', 'vl-type',\n",
      "       'created-at', 'updated-at', 'app-no-parts', 'app-nos', 'articles',\n",
      "       'conclusions', 'courts', 'ecli', 'judgement-date', 'judges',\n",
      "       'last-modified-time', 'nonviolations', 'organisations', 'respondents',\n",
      "       'separate-opinion', 'violations'],\n",
      "      dtype='object')\n",
      "55652\n"
     ]
    },
    {
     "data": {
      "text/html": [
       "<div>\n",
       "<style scoped>\n",
       "    .dataframe tbody tr th:only-of-type {\n",
       "        vertical-align: middle;\n",
       "    }\n",
       "\n",
       "    .dataframe tbody tr th {\n",
       "        vertical-align: top;\n",
       "    }\n",
       "\n",
       "    .dataframe thead th {\n",
       "        text-align: right;\n",
       "    }\n",
       "</style>\n",
       "<table border=\"1\" class=\"dataframe\">\n",
       "  <thead>\n",
       "    <tr style=\"text-align: right;\">\n",
       "      <th></th>\n",
       "      <th>id</th>\n",
       "      <th>type</th>\n",
       "      <th>url</th>\n",
       "      <th>doc-name</th>\n",
       "      <th>doc-id-label</th>\n",
       "      <th>doc-date</th>\n",
       "      <th>vl-type</th>\n",
       "      <th>created-at</th>\n",
       "      <th>updated-at</th>\n",
       "      <th>app-no-parts</th>\n",
       "      <th>...</th>\n",
       "      <th>courts</th>\n",
       "      <th>ecli</th>\n",
       "      <th>judgement-date</th>\n",
       "      <th>judges</th>\n",
       "      <th>last-modified-time</th>\n",
       "      <th>nonviolations</th>\n",
       "      <th>organisations</th>\n",
       "      <th>respondents</th>\n",
       "      <th>separate-opinion</th>\n",
       "      <th>violations</th>\n",
       "    </tr>\n",
       "  </thead>\n",
       "  <tbody>\n",
       "    <tr>\n",
       "      <th>0</th>\n",
       "      <td>HUDOC-ECHR-1959-001-49198</td>\n",
       "      <td>eu-chrs</td>\n",
       "      <td>http://hudoc.echr.coe.int/app/conversion/docx/...</td>\n",
       "      <td>greece &lt;br&gt;against&lt;br&gt; the united kingdom</td>\n",
       "      <td>176/56</td>\n",
       "      <td>1959-04-20</td>\n",
       "      <td>eu_chr</td>\n",
       "      <td>2017-09-18T10:01:36.112Z</td>\n",
       "      <td>2018-10-26T16:53:58.954Z</td>\n",
       "      <td>['176', '56']</td>\n",
       "      <td>...</td>\n",
       "      <td>NaN</td>\n",
       "      <td>NaN</td>\n",
       "      <td>NaN</td>\n",
       "      <td>NaN</td>\n",
       "      <td>2018-10-07</td>\n",
       "      <td>NaN</td>\n",
       "      <td>['Committee of Ministers']</td>\n",
       "      <td>['GBR']</td>\n",
       "      <td>NaN</td>\n",
       "      <td>NaN</td>\n",
       "    </tr>\n",
       "  </tbody>\n",
       "</table>\n",
       "<p>1 rows × 23 columns</p>\n",
       "</div>"
      ],
      "text/plain": [
       "                          id     type  \\\n",
       "0  HUDOC-ECHR-1959-001-49198  eu-chrs   \n",
       "\n",
       "                                                 url  \\\n",
       "0  http://hudoc.echr.coe.int/app/conversion/docx/...   \n",
       "\n",
       "                                    doc-name doc-id-label    doc-date vl-type  \\\n",
       "0  greece <br>against<br> the united kingdom       176/56  1959-04-20  eu_chr   \n",
       "\n",
       "                 created-at                updated-at   app-no-parts  ...  \\\n",
       "0  2017-09-18T10:01:36.112Z  2018-10-26T16:53:58.954Z  ['176', '56']  ...   \n",
       "\n",
       "  courts ecli judgement-date judges last-modified-time nonviolations  \\\n",
       "0    NaN  NaN            NaN    NaN         2018-10-07           NaN   \n",
       "\n",
       "                organisations respondents separate-opinion violations  \n",
       "0  ['Committee of Ministers']     ['GBR']              NaN        NaN  \n",
       "\n",
       "[1 rows x 23 columns]"
      ]
     },
     "execution_count": 4,
     "metadata": {},
     "output_type": "execute_result"
    }
   ],
   "source": [
    "att = pd.read_csv(\"/Users/conorosully/Documents/Legal-Case-Prediction/data/preclean/case_attributes.csv\",'#')\n",
    "print(att.columns)\n",
    "print(len(att))\n",
    "IDs = att['id']\n",
    "att.head(1)"
   ]
  },
  {
   "cell_type": "code",
   "execution_count": 7,
   "metadata": {},
   "outputs": [
    {
     "data": {
      "text/plain": [
       "'HUDOC-ECHR-2009-001-96300'"
      ]
     },
     "execution_count": 7,
     "metadata": {},
     "output_type": "execute_result"
    }
   ],
   "source": [
    "IDs[27805]"
   ]
  },
  {
   "cell_type": "code",
   "execution_count": 8,
   "metadata": {},
   "outputs": [
    {
     "name": "stdout",
     "output_type": "stream",
     "text": [
      "<class 'str'>\n"
     ]
    }
   ],
   "source": [
    "ID = 'HUDOC-ECHR-2009-001-96300'\n",
    "doc = clean.getCase(ID)[ID]\n",
    "print(type(doc))\n",
    "#print(doc)\n",
    "#clean.renderHTML(ID)"
   ]
  },
  {
   "cell_type": "code",
   "execution_count": 6,
   "metadata": {},
   "outputs": [
    {
     "data": {
      "text/plain": [
       "55651"
      ]
     },
     "execution_count": 6,
     "metadata": {},
     "output_type": "execute_result"
    }
   ],
   "source": [
    "IDs = IDs.drop(27805)\n",
    "len(IDs)"
   ]
  },
  {
   "cell_type": "code",
   "execution_count": 8,
   "metadata": {},
   "outputs": [
    {
     "data": {
      "application/vnd.jupyter.widget-view+json": {
       "model_id": "73388e2561f24c66b8dc0418dda041e0",
       "version_major": 2,
       "version_minor": 0
      },
      "text/plain": [
       "HBox(children=(IntProgress(value=0, max=55651), HTML(value='')))"
      ]
     },
     "metadata": {},
     "output_type": "display_data"
    },
    {
     "name": "stdout",
     "output_type": "stream",
     "text": [
      "\n"
     ]
    }
   ],
   "source": [
    "\n",
    "\n",
    "    "
   ]
  },
  {
   "cell_type": "code",
   "execution_count": 13,
   "metadata": {},
   "outputs": [
    {
     "data": {
      "application/vnd.jupyter.widget-view+json": {
       "model_id": "85970d04d9ce48dc89bb81ef067ef43d",
       "version_major": 2,
       "version_minor": 0
      },
      "text/plain": [
       "HBox(children=(IntProgress(value=0, max=55651), HTML(value='')))"
      ]
     },
     "metadata": {},
     "output_type": "display_data"
    },
    {
     "name": "stdout",
     "output_type": "stream",
     "text": [
      "\n"
     ]
    }
   ],
   "source": [
    "with open(path.format('preclean/documents.pickle'), 'wb') as f:\n",
    "    \n",
    "    for ID in tqdm_notebook(IDs):\n",
    "        \n",
    "        doc = clean.getCase(ID)[ID]\n",
    "\n",
    "        tokens = word_tokenize(doc)\n",
    "        tokens = [word for word in tokens if word.isalpha()]\n",
    "        tokens = [w.lower() for w in tokens]\n",
    "        \n",
    "        pickle.dump(tokens,f)\n",
    "                \n",
    "f.close()\n"
   ]
  },
  {
   "cell_type": "markdown",
   "metadata": {},
   "source": [
    "## Create Embeddings"
   ]
  },
  {
   "cell_type": "code",
   "execution_count": 9,
   "metadata": {},
   "outputs": [
    {
     "name": "stdout",
     "output_type": "stream",
     "text": [
      "0 5000 10000 15000 20000 25000 30000 35000 40000 45000 50000 55000 55651\n"
     ]
    }
   ],
   "source": [
    "#To load from pickle file\n",
    "documents = []\n",
    "count = 0\n",
    "with open(path.format('preclean/documents2.pickle'), 'rb') as fr:\n",
    "    try:\n",
    "        while True:\n",
    "            documents.append(pickle.load(fr))\n",
    "            if count%5000 == 0:\n",
    "                print(count, end=\" \")\n",
    "            count += 1\n",
    "    except EOFError:\n",
    "        pass\n",
    "\n",
    "print(len(documents))\n",
    "#print(documents[0])"
   ]
  },
  {
   "cell_type": "code",
   "execution_count": 10,
   "metadata": {},
   "outputs": [
    {
     "data": {
      "application/vnd.jupyter.widget-view+json": {
       "model_id": "4f54cd13563340eab7facfc1767cccb0",
       "version_major": 2,
       "version_minor": 0
      },
      "text/plain": [
       "HBox(children=(IntProgress(value=0, max=8703), HTML(value='')))"
      ]
     },
     "metadata": {},
     "output_type": "display_data"
    },
    {
     "name": "stdout",
     "output_type": "stream",
     "text": [
      "\n",
      "8703\n"
     ]
    }
   ],
   "source": [
    "#Alternative\n",
    "documents = []\n",
    "for ID in tqdm_notebook(IDs):\n",
    "    doc = text[ID]['full']\n",
    "    tokens = word_tokenize(doc)\n",
    "    documents.append(tokens)\n",
    "print(len(documents))"
   ]
  },
  {
   "cell_type": "markdown",
   "metadata": {},
   "source": [
    "We use these hyper-parameter values for WIKI (APNEWS): vector size = 300 (300), window size = 15 (15), min count = 20 (10), sub-sampling threshold = 10−5\n",
    "(10−5),negative sample = 5, epoch = 20 (30)."
   ]
  },
  {
   "cell_type": "code",
   "execution_count": 10,
   "metadata": {},
   "outputs": [
    {
     "data": {
      "application/vnd.jupyter.widget-view+json": {
       "model_id": "025fdc8f8d3c4e948b29ba1bd564bfac",
       "version_major": 2,
       "version_minor": 0
      },
      "text/plain": [
       "HBox(children=(IntProgress(value=1, bar_style='info', max=1), HTML(value='')))"
      ]
     },
     "metadata": {},
     "output_type": "display_data"
    },
    {
     "name": "stdout",
     "output_type": "stream",
     "text": [
      "\n"
     ]
    }
   ],
   "source": [
    "documents = [TaggedDocument(doc, [i]) \n",
    "             for i, doc in tqdm_notebook(enumerate(documents))]"
   ]
  },
  {
   "cell_type": "code",
   "execution_count": 11,
   "metadata": {},
   "outputs": [
    {
     "name": "stderr",
     "output_type": "stream",
     "text": [
      "/Users/conorosully/miniconda3/lib/python3.6/site-packages/gensim/models/doc2vec.py:366: UserWarning: The parameter `size` is deprecated, will be removed in 4.0.0, use `vector_size` instead.\n",
      "  warnings.warn(\"The parameter `size` is deprecated, will be removed in 4.0.0, use `vector_size` instead.\")\n",
      "/Users/conorosully/miniconda3/lib/python3.6/site-packages/smart_open/smart_open_lib.py:398: UserWarning: This function is deprecated, use smart_open.open instead. See the migration notes for details: https://github.com/RaRe-Technologies/smart_open/blob/master/README.rst#migrating-to-the-new-open-function\n",
      "  'See the migration notes for details: %s' % _MIGRATION_NOTES_URL\n"
     ]
    },
    {
     "name": "stdout",
     "output_type": "stream",
     "text": [
      "100\n",
      "200\n",
      "300\n"
     ]
    }
   ],
   "source": [
    "# define training data\n",
    "for s in [100,200,300]:\n",
    "    # train model\n",
    "    model = Doc2Vec(documents, size=s, window=5, min_count=10, workers=4,epoch = 20)\n",
    "    name = 'embeddings/doc2vec2_{}'.format(s)\n",
    "    model.save(path.format(name))\n",
    "    print(s)"
   ]
  }
 ],
 "metadata": {
  "kernelspec": {
   "display_name": "Python 3",
   "language": "python",
   "name": "python3"
  },
  "language_info": {
   "codemirror_mode": {
    "name": "ipython",
    "version": 3
   },
   "file_extension": ".py",
   "mimetype": "text/x-python",
   "name": "python",
   "nbconvert_exporter": "python",
   "pygments_lexer": "ipython3",
   "version": "3.6.8"
  }
 },
 "nbformat": 4,
 "nbformat_minor": 2
}

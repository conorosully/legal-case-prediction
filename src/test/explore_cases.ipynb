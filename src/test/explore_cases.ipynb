{
 "cells": [
  {
   "cell_type": "code",
   "execution_count": 35,
   "metadata": {},
   "outputs": [],
   "source": [
    "#Imports\n",
    "import numpy as np\n",
    "import pandas as pd\n",
    "\n",
    "import functions \n",
    "clean = functions.clean()"
   ]
  },
  {
   "cell_type": "code",
   "execution_count": 9,
   "metadata": {},
   "outputs": [
    {
     "data": {
      "text/html": [
       "<div>\n",
       "<style scoped>\n",
       "    .dataframe tbody tr th:only-of-type {\n",
       "        vertical-align: middle;\n",
       "    }\n",
       "\n",
       "    .dataframe tbody tr th {\n",
       "        vertical-align: top;\n",
       "    }\n",
       "\n",
       "    .dataframe thead th {\n",
       "        text-align: right;\n",
       "    }\n",
       "</style>\n",
       "<table border=\"1\" class=\"dataframe\">\n",
       "  <thead>\n",
       "    <tr style=\"text-align: right;\">\n",
       "      <th></th>\n",
       "      <th>procedure</th>\n",
       "      <th>facts</th>\n",
       "      <th>circumstances</th>\n",
       "      <th>relevant</th>\n",
       "      <th>law</th>\n",
       "      <th>other</th>\n",
       "    </tr>\n",
       "  </thead>\n",
       "  <tbody>\n",
       "    <tr>\n",
       "      <th>0</th>\n",
       "      <td>&lt;h3&gt;PROCEDURE&lt;/h3&gt;</td>\n",
       "      <td>&lt;h3&gt;THE FACTS&lt;/h3&gt;</td>\n",
       "      <td>&lt;h4&gt;I.  THE CIRCUMSTANCES OF THE CASE&lt;/h4&gt;</td>\n",
       "      <td>&lt;h4&gt;II.  RELEVANT DOMESTIC LAW AND PRACTICE&lt;/h4&gt;</td>\n",
       "      <td>&lt;h3&gt;THE LAW&lt;/h3&gt;</td>\n",
       "      <td>&lt;h3&gt;FOR THESE REASONS, THE COURT, UNANIMOUSLY,...</td>\n",
       "    </tr>\n",
       "    <tr>\n",
       "      <th>1</th>\n",
       "      <td>&lt;h3&gt;PROCEDURE&lt;/h3&gt;</td>\n",
       "      <td>&lt;h3&gt;THE FACTS&lt;/h3&gt;</td>\n",
       "      <td>&lt;h4&gt;I.  THE CIRCUMSTANCES OF THE CASE&lt;/h4&gt;</td>\n",
       "      <td>&lt;h4&gt;II.  RELEVANT DOMESTIC LAW&lt;/h4&gt;</td>\n",
       "      <td>&lt;h3&gt;THE LAW&lt;/h3&gt;</td>\n",
       "      <td>&lt;h3&gt;FOR THESE REASONS, THE COURT UNANIMOUSLY&lt;/h3&gt;</td>\n",
       "    </tr>\n",
       "    <tr>\n",
       "      <th>2</th>\n",
       "      <td>&lt;h3&gt;PROCEDURE&lt;/h3&gt;</td>\n",
       "      <td>&lt;h3&gt;THE FACTS&lt;/h3&gt;</td>\n",
       "      <td>&lt;h4&gt;I.  THE CIRCUMSTANCES OF THE CASE&lt;/h4&gt;</td>\n",
       "      <td>&lt;h4&gt;II.  RELEVANT DOMESTIC LAW AND PRACTICE&lt;/h4&gt;</td>\n",
       "      <td>&lt;h3&gt;THE LAW&lt;/h3&gt;</td>\n",
       "      <td>&lt;h3&gt;FOR THESE REASONS, THE COURT UNANIMOUSLY&lt;/h3&gt;</td>\n",
       "    </tr>\n",
       "    <tr>\n",
       "      <th>3</th>\n",
       "      <td>&lt;h3&gt;PROCEDURE&lt;/h3&gt;</td>\n",
       "      <td>&lt;h3&gt;THE FACTS&lt;/h3&gt;</td>\n",
       "      <td>&lt;h4&gt;I.  THE CIRCUMSTANCES OF THE CASE&lt;/h4&gt;</td>\n",
       "      <td>&lt;h4&gt;II.  RELEVANT DOMESTIC LAW&lt;/h4&gt;</td>\n",
       "      <td>&lt;h3&gt;THE LAW&lt;/h3&gt;</td>\n",
       "      <td>&lt;h3&gt;FOR THESE REASONS, THE COURT, UNANIMOUSLY,...</td>\n",
       "    </tr>\n",
       "    <tr>\n",
       "      <th>4</th>\n",
       "      <td>&lt;h3&gt;PROCEDURE&lt;/h3&gt;</td>\n",
       "      <td>&lt;h3&gt;THE FACTS&lt;/h3&gt;</td>\n",
       "      <td>&lt;h4&gt;I.  THE CIRCUMSTANCES OF THE CASE&lt;/h4&gt;</td>\n",
       "      <td>&lt;h4&gt;II. RELEVANT DOMESTIC LAW&lt;/h4&gt;</td>\n",
       "      <td>&lt;h3&gt;THE LAW&lt;/h3&gt;</td>\n",
       "      <td>&lt;h3&gt;FOR THESE REASONS, THE COURT, UNANIMOUSLY,...</td>\n",
       "    </tr>\n",
       "  </tbody>\n",
       "</table>\n",
       "</div>"
      ],
      "text/plain": [
       "            procedure               facts  \\\n",
       "0  <h3>PROCEDURE</h3>  <h3>THE FACTS</h3>   \n",
       "1  <h3>PROCEDURE</h3>  <h3>THE FACTS</h3>   \n",
       "2  <h3>PROCEDURE</h3>  <h3>THE FACTS</h3>   \n",
       "3  <h3>PROCEDURE</h3>  <h3>THE FACTS</h3>   \n",
       "4  <h3>PROCEDURE</h3>  <h3>THE FACTS</h3>   \n",
       "\n",
       "                                circumstances  \\\n",
       "0  <h4>I.  THE CIRCUMSTANCES OF THE CASE</h4>   \n",
       "1  <h4>I.  THE CIRCUMSTANCES OF THE CASE</h4>   \n",
       "2  <h4>I.  THE CIRCUMSTANCES OF THE CASE</h4>   \n",
       "3  <h4>I.  THE CIRCUMSTANCES OF THE CASE</h4>   \n",
       "4  <h4>I.  THE CIRCUMSTANCES OF THE CASE</h4>   \n",
       "\n",
       "                                           relevant               law  \\\n",
       "0  <h4>II.  RELEVANT DOMESTIC LAW AND PRACTICE</h4>  <h3>THE LAW</h3>   \n",
       "1               <h4>II.  RELEVANT DOMESTIC LAW</h4>  <h3>THE LAW</h3>   \n",
       "2  <h4>II.  RELEVANT DOMESTIC LAW AND PRACTICE</h4>  <h3>THE LAW</h3>   \n",
       "3               <h4>II.  RELEVANT DOMESTIC LAW</h4>  <h3>THE LAW</h3>   \n",
       "4                <h4>II. RELEVANT DOMESTIC LAW</h4>  <h3>THE LAW</h3>   \n",
       "\n",
       "                                               other  \n",
       "0  <h3>FOR THESE REASONS, THE COURT, UNANIMOUSLY,...  \n",
       "1  <h3>FOR THESE REASONS, THE COURT UNANIMOUSLY</h3>  \n",
       "2  <h3>FOR THESE REASONS, THE COURT UNANIMOUSLY</h3>  \n",
       "3  <h3>FOR THESE REASONS, THE COURT, UNANIMOUSLY,...  \n",
       "4  <h3>FOR THESE REASONS, THE COURT, UNANIMOUSLY,...  "
      ]
     },
     "execution_count": 9,
     "metadata": {},
     "output_type": "execute_result"
    }
   ],
   "source": [
    "FORMS = pd.read_csv(\n",
    "    \"/Users/conorosully/Documents/Legal-Case-Prediction/data/preclean/forms.csv\", sep= '#'\n",
    ")\n",
    "FORMS.head()"
   ]
  },
  {
   "cell_type": "code",
   "execution_count": 21,
   "metadata": {},
   "outputs": [],
   "source": [
    "def clean(x):\n",
    "    x = x.replace(\",\",\"\").lower()\n",
    "    x = \" \".join(x.split())\n",
    "    return x"
   ]
  },
  {
   "cell_type": "code",
   "execution_count": 33,
   "metadata": {},
   "outputs": [
    {
     "name": "stdout",
     "output_type": "stream",
     "text": [
      "\"<h4>ii. relevant international documents and domestic law</h4>\",\n",
      "\"<h4>ii. relevant domestic law </h4>\",\n",
      "\"<h4>ii. relevant domestic law and conventions</h4>\",\n",
      "\"<h4>ii. relevant domestic and european union law and relevant domestic practic</h4>\",\n",
      "\"<h4>ii. relevant domestic law and international case-law</h4>\",\n",
      "\"<h4>ii. relevant national and international materials</h4>\",\n",
      "\"<h4>iii. relevant domestic law</h4>\",\n",
      "\"<h4>ii. relevant background to the case</h4>\",\n",
      "\"<h4>ii. relevant domestic and comparative law and practice</h4>\",\n",
      "\"<h4>ii. relevant domestic and comparative law</h4>\",\n",
      "\"<h4>i. alleged violation of article 8 of the convention</h4>\",\n",
      "\"<h4>ii. relevant domestic law and council of europe documents</h4>\",\n",
      "\"<h4>ii. relevant domestic law and practice and relevant international documents</h4>\",\n",
      "\"<h4>ii. relevant national law</h4>\",\n",
      "\"<h4>ii. relevant domestic law and european texts</h4>\",\n",
      "\"<h4>ii. relevant domestic european and international law and practice</h4>\",\n",
      "\"<h4>ii. relevant materials</h4>\",\n",
      "\"<h4>ii. relevant domestic law and practice and international materials</h4>\",\n",
      "\"<h4>ii. relevant law and practice</h4>\",\n",
      "\"<h4>ii. relevant international and domestic law and practice</h4>\",\n",
      "\"<h4>ii. relevant law and international reports</h4>\",\n",
      "\"<h4>ii. relevant domestic law and practice</h4>\",\n",
      "\"<h4>ii relevant domestic law</h4>\",\n",
      "\"<h4>ii. relevant domestic law</h4>\",\n",
      "\"<h4>ii. relevant european and domestic law</h4>\",\n",
      "\"<h4>ii. relevant domestic and public international law</h4>\",\n",
      "\"<h4>ii. relevant domestic and international law and practice</h4>\",\n",
      "\"<h4>iii. relevant international law</h4>\",\n",
      "\"<h4>ii. relevant international law and practice</h4>\",\n",
      "\"<h4>ii.relevant domestic law</h4>\",\n",
      "\"<h4>ii. relevant domestic law and international reports</h4>\",\n",
      "\"<h4>ii. relevant domestic and international materials</h4>\",\n",
      "\"<h4>ii. relevant domestic law and international documents</h4>\",\n",
      "\"<h4>ii. relevant domestic european international and comparative law and practice</h4>\",\n",
      "\"<h4>ii. relevant international and domestic law</h4>\",\n",
      "\"<h4>ii. relevant domestic law and international standards</h4>\",\n",
      "\"<h4>ii. relevant domestic law and international materials</h4>\",\n",
      "\"<h4>ii. relevant legal materials</h4>\",\n",
      "\"<h4>ii. relevant non-convention material</h4>\",\n",
      "\"<h4>ii. relevant reports of the european committee for the prevention of torture and inhuman or degrading treatment or punishment</h4>\",\n",
      "\"<h4>ii. alleged violation of article 3 of the convention</h4>\",\n",
      "\"<h4>ii. relevant domestic law and materials</h4>\",\n",
      "\"<h4>ii.relevant domestic law and practice</h4>\",\n",
      "\"<h4>ii. relevant international and domestic legal materials</h4>\",\n",
      "\"<h4>ii. alleged violation of article 8 of the convention</h4>\",\n",
      "\"<h4>ii. relevant domestic law and practice as well as national and international reports</h4>\",\n",
      "\"<h4>ii. relevant national and international legal materials</h4>\",\n",
      "\"<h4>ii. relevant domestic and international law and domestic practice</h4>\",\n",
      "\"<h4>ii. relevant international documents</h4>\",\n",
      "\"<h4>ii. relevant domestic and international law</h4>\",\n",
      "\"<h4>ii. relevant domestic practice</h4>\",\n",
      "\"<h4>ii. relevant domestic and international law and documets</h4>\",\n"
     ]
    }
   ],
   "source": [
    "title = 'relevant'\n",
    "titles = [clean(x) for x in FORMS[title]]\n",
    "for s in set(titles):\n",
    "    print('\"{}\",'.format(s))"
   ]
  },
  {
   "cell_type": "code",
   "execution_count": 2,
   "metadata": {},
   "outputs": [
    {
     "name": "stdout",
     "output_type": "stream",
     "text": [
      "Index(['id', 'type', 'url', 'doc-name', 'doc-id-label', 'doc-date', 'vl-type',\n",
      "       'created-at', 'updated-at', 'app-no-parts', 'app-nos', 'articles',\n",
      "       'conclusions', 'courts', 'ecli', 'judgement-date', 'judges',\n",
      "       'last-modified-time', 'nonviolations', 'organisations', 'respondents',\n",
      "       'separate-opinion', 'violations'],\n",
      "      dtype='object')\n",
      "55652\n"
     ]
    },
    {
     "data": {
      "text/html": [
       "<div>\n",
       "<style scoped>\n",
       "    .dataframe tbody tr th:only-of-type {\n",
       "        vertical-align: middle;\n",
       "    }\n",
       "\n",
       "    .dataframe tbody tr th {\n",
       "        vertical-align: top;\n",
       "    }\n",
       "\n",
       "    .dataframe thead th {\n",
       "        text-align: right;\n",
       "    }\n",
       "</style>\n",
       "<table border=\"1\" class=\"dataframe\">\n",
       "  <thead>\n",
       "    <tr style=\"text-align: right;\">\n",
       "      <th></th>\n",
       "      <th>id</th>\n",
       "      <th>type</th>\n",
       "      <th>url</th>\n",
       "      <th>doc-name</th>\n",
       "      <th>doc-id-label</th>\n",
       "      <th>doc-date</th>\n",
       "      <th>vl-type</th>\n",
       "      <th>created-at</th>\n",
       "      <th>updated-at</th>\n",
       "      <th>app-no-parts</th>\n",
       "      <th>...</th>\n",
       "      <th>courts</th>\n",
       "      <th>ecli</th>\n",
       "      <th>judgement-date</th>\n",
       "      <th>judges</th>\n",
       "      <th>last-modified-time</th>\n",
       "      <th>nonviolations</th>\n",
       "      <th>organisations</th>\n",
       "      <th>respondents</th>\n",
       "      <th>separate-opinion</th>\n",
       "      <th>violations</th>\n",
       "    </tr>\n",
       "  </thead>\n",
       "  <tbody>\n",
       "    <tr>\n",
       "      <th>0</th>\n",
       "      <td>HUDOC-ECHR-1959-001-49198</td>\n",
       "      <td>eu-chrs</td>\n",
       "      <td>http://hudoc.echr.coe.int/app/conversion/docx/...</td>\n",
       "      <td>greece &lt;br&gt;against&lt;br&gt; the united kingdom</td>\n",
       "      <td>176/56</td>\n",
       "      <td>1959-04-20</td>\n",
       "      <td>eu_chr</td>\n",
       "      <td>2017-09-18T10:01:36.112Z</td>\n",
       "      <td>2018-10-26T16:53:58.954Z</td>\n",
       "      <td>['176', '56']</td>\n",
       "      <td>...</td>\n",
       "      <td>NaN</td>\n",
       "      <td>NaN</td>\n",
       "      <td>NaN</td>\n",
       "      <td>NaN</td>\n",
       "      <td>2018-10-07</td>\n",
       "      <td>NaN</td>\n",
       "      <td>['Committee of Ministers']</td>\n",
       "      <td>['GBR']</td>\n",
       "      <td>NaN</td>\n",
       "      <td>NaN</td>\n",
       "    </tr>\n",
       "  </tbody>\n",
       "</table>\n",
       "<p>1 rows × 23 columns</p>\n",
       "</div>"
      ],
      "text/plain": [
       "                          id     type  \\\n",
       "0  HUDOC-ECHR-1959-001-49198  eu-chrs   \n",
       "\n",
       "                                                 url  \\\n",
       "0  http://hudoc.echr.coe.int/app/conversion/docx/...   \n",
       "\n",
       "                                    doc-name doc-id-label    doc-date vl-type  \\\n",
       "0  greece <br>against<br> the united kingdom       176/56  1959-04-20  eu_chr   \n",
       "\n",
       "                 created-at                updated-at   app-no-parts  ...  \\\n",
       "0  2017-09-18T10:01:36.112Z  2018-10-26T16:53:58.954Z  ['176', '56']  ...   \n",
       "\n",
       "  courts ecli judgement-date judges last-modified-time nonviolations  \\\n",
       "0    NaN  NaN            NaN    NaN         2018-10-07           NaN   \n",
       "\n",
       "                organisations respondents separate-opinion violations  \n",
       "0  ['Committee of Ministers']     ['GBR']              NaN        NaN  \n",
       "\n",
       "[1 rows x 23 columns]"
      ]
     },
     "execution_count": 2,
     "metadata": {},
     "output_type": "execute_result"
    }
   ],
   "source": [
    "# Get attributes\n",
    "att = pd.read_csv(\"/Users/conorosully/Documents/Legal-Case-Prediction/data/preclean/case_attributes.csv\",'#')\n",
    "print(att.columns)\n",
    "print(len(att))\n",
    "att.head(1)\n"
   ]
  },
  {
   "cell_type": "code",
   "execution_count": 3,
   "metadata": {},
   "outputs": [
    {
     "name": "stdout",
     "output_type": "stream",
     "text": [
      "55652\n"
     ]
    },
    {
     "data": {
      "text/plain": [
       "'HUDOC-ECHR-1959-001-49199'"
      ]
     },
     "execution_count": 3,
     "metadata": {},
     "output_type": "execute_result"
    }
   ],
   "source": [
    "# Get list of case ids\n",
    "case_id = pd.read_csv(\"/Users/conorosully/Documents/Legal-Case-Prediction/data/preclean/case_attributes.csv\",'#',usecols=['id'])\n",
    "print(len(case_id))\n",
    "case_id = list(case_id['id'])\n",
    "case_id[1]"
   ]
  },
  {
   "cell_type": "code",
   "execution_count": 51,
   "metadata": {},
   "outputs": [
    {
     "name": "stdout",
     "output_type": "stream",
     "text": [
      "http://hudoc.echr.coe.int/app/conversion/docx/html/body?library=ECHR&id=001-179436\n"
     ]
    }
   ],
   "source": [
    "for a in att[att['ecli']=='ECLI:CE:ECHR:2017:1214JUD006609414']['url']:\n",
    "    print(a)"
   ]
  },
  {
   "cell_type": "code",
   "execution_count": 4,
   "metadata": {},
   "outputs": [],
   "source": [
    "\n",
    "s = \"case of white v. sweden\"\n",
    "fil = [True if s in x  else False for x in att['doc-name']]\n",
    "for d in att[ fil]['doc-name']:\n",
    "    print(d)"
   ]
  },
  {
   "cell_type": "code",
   "execution_count": 133,
   "metadata": {},
   "outputs": [
    {
     "name": "stdout",
     "output_type": "stream",
     "text": [
      "HUDOC-ECHR-2005-001-68109\n",
      "HUDOC-ECHR-2006-001-76894\n"
     ]
    }
   ],
   "source": [
    "\n",
    "casename = \"case of white v. sweden\"\n",
    "IDs = []\n",
    "for ID in att[att['doc-name'] == casename]['id']:\n",
    "    IDs.append(ID)\n",
    "    print(ID)"
   ]
  },
  {
   "cell_type": "markdown",
   "metadata": {},
   "source": [
    "### Check Form"
   ]
  },
  {
   "cell_type": "code",
   "execution_count": 42,
   "metadata": {},
   "outputs": [
    {
     "name": "stdout",
     "output_type": "stream",
     "text": [
      "<p>II. relevant domestic law</p>\n",
      "<h3>PROCEDURE</h3>#\n",
      "<h3>THE FACTS</h3>#\n",
      "<h3>PROCEEDINGS BEFORE THE COMMISSION</h3>#\n",
      "<h3>\n",
      "<br>FINAL SUBMISSIONS TO THE COURT </h3>#\n",
      "<h3>THE LAW</h3>#\n",
      "<h3>\n",
      "<h4>\n",
      "\n",
      "False\n"
     ]
    },
    {
     "data": {
      "text/plain": [
       "['<h3>PROCEDURE</h3>',\n",
       " '<h3>THE FACTS</h3>',\n",
       " 'none',\n",
       " 'none',\n",
       " '<h3>THE LAW</h3>',\n",
       " '<p>for these reasons, the court</p>']"
      ]
     },
     "execution_count": 42,
     "metadata": {},
     "output_type": "execute_result"
    }
   ],
   "source": [
    "#HUDOC-ECHR-1968-001-57525\n",
    "path = \"/Users/conorosully/Documents/Legal-Case-Prediction/data/preclean/forms.json\"\n",
    "import json\n",
    "with open(path, 'r',encoding='utf-8') as outfile:\n",
    "    forms = json.load(outfile)\n",
    "print(forms['relevant'][0])\n",
    "\n",
    "\n",
    "ID =\"HUDOC-ECHR-1999-001-58262\"\n",
    "case = clean.getCase(ID)[ID].replace(\"\\xa0\",\"\")\n",
    "clean.findHeadings(case,3)\n",
    "clean.findHeadings(case,4)\n",
    "print()\n",
    "form = clean.getForm(case,forms)\n",
    "print(clean.checkForm(form))\n",
    "form"
   ]
  },
  {
   "cell_type": "markdown",
   "metadata": {},
   "source": [
    "### Display Case"
   ]
  },
  {
   "cell_type": "code",
   "execution_count": null,
   "metadata": {},
   "outputs": [],
   "source": [
    "\"<p>II.\\trelevant domestic law</p>\""
   ]
  },
  {
   "cell_type": "code",
   "execution_count": 39,
   "metadata": {},
   "outputs": [
    {
     "data": {
      "text/plain": [
       "True"
      ]
     },
     "execution_count": 39,
     "metadata": {},
     "output_type": "execute_result"
    }
   ],
   "source": [
    "\"<p>II. relevant domestic law</p>\" in case.replace(\"\\xa0\",\"\")\n",
    "#\"<p>I.\\xa0 the circumstances of the case</p>\" in case"
   ]
  },
  {
   "cell_type": "code",
   "execution_count": 63,
   "metadata": {
    "scrolled": false
   },
   "outputs": [
    {
     "name": "stdout",
     "output_type": "stream",
     "text": [
      "CASE: HUDOC-ECHR-1999-001-58225\n",
      "================================\n",
      "\n"
     ]
    },
    {
     "data": {
      "text/html": [
       "<div> <p align=\"center\"><b>case of musiał v. poland</b></p> <p align=\"center\"></p> <p align=\"center\"><b>(application no. 24557/94)</b></p> <p align=\"center\"></p> <p align=\"center\"></p> <p align=\"center\">judgment</p> <p align=\"center\"></p> <p align=\"center\">strasbourg</p> <p align=\"center\"></p> <p align=\"center\"></p> <p align=\"center\">25 march 1999</p> </div> <br><div> <p><b>in the case of musiał v. poland</b></p> <p>the european court of human rights sitting in accordance with article 27 of the convention for the protection of human rights and fundamental freedoms (“the convention”) as amended by protocol no. 11[1] and the relevant provisions of the rules of court2 as a grand chamber composed of the following judges:</p> <p>mrl. wildhaber <i>president</i><br>mrse. palm<br>sirnicolas bratza<br>mrm. pellonpää<br>mrb. conforti<br>mra. pastor ridruejo<br>mrg. bonello<br>mrj. makarczyk<br>mrp. kūris<br>mrsf. tulkens<br>mrsv. strážnická<br>mrm. fischbach<br>mrv. butkevych<br>mrj. casadevall<br>mrsh.s. greve<br>mrr. maruste<br>mrss. botoucharova<br>and also of mr m. de salvia <i>registrar</i></p> <p>having deliberated in private on 16 december 1998 and 25 february 1999</p> <p>delivers the following judgment which was adopted on the last-mentioned date:</p> <h3>procedure</h3> <p>1. the case was referred to the court as established under former article 19 of the convention[3] by the polish government (“the government”) on 17 august 1998 and by a polish national mr zbigniew musiał (“the applicant”) on 7 august 1998 within the three-month period laid down by former articles 32 § 1 and 47 of the convention. it originated in an application (no. 24557/94) against the republic of poland lodged by mr musiał with the european commission of human rights (“the commission”) under former article 25 on 10 january 1994.</p> <p>the government’s application referred to former articles 44 and 48 and that of the applicant to former article 48 as amended by protocol no. 9[1] which poland had ratified. the object of the applications was to obtain a decision as to whether the facts of the case disclosed a breach by the respondent state of its obligations under article 5 § 4 of the convention.</p> <p>2. on 7 october 1998 mr r. bernhardt the president of the court at the time declined the applicant’s request for leave to present his own case before the court. the applicant designated the lawyer who would represent him (rule 31 of former rules of court b2). the lawyer was given leave by the president to use the polish language (former rule 28 § 3).</p> <p>3. as president of the chamber which had originally been constituted (former article 43 of the convention and former rule 21) in order to deal in particular with procedural matters that might arise before the entry into force of protocol no. 11 mr bernhardt acting through the registrar consulted the agent of the government the applicant’s lawyer and the delegate of the commission on the organisation of the written procedure. pursuant to the order made in consequence the registrar received the government’s and the applicant’s memorials on 30 november 1998. on 8 december 1998 the secretary to the commission sent the delegate’s observations to the registry.</p> <p>4. after the entry into force of protocol no. 11 on 1 november 1998 and in accordance with the provisions of article 5 § 5 thereof the case was referred to the grand chamber of the court. the grand chamber included <i>ex officio</i> mr j. makarczyk the judge elected in respect of poland (article 27 § 2 of the convention and rule 24 § 4 of the rules of the court) mr l. wildhaber the president of the court mrs e. palm and mr c.l. rozakis the vice-presidents of the court and sir nicolas bratza and mr m. pellonpää presidents of sections(article 27 § 3 of the convention and rule 24 § 3). the other members appointed to complete the grand chamber were mr b. conforti mr a. pastor ridruejo mr g. bonello mr p. kūris mrs f. tulkens mrs v. strážnická mr v. butkevych mr j. casadevall mrs h.s. greve mr r. maruste and mrs s. botoucharova (rule 24 § 3 and rule 100 § 4).</p> <p></p> <p></p> <p>subsequently mr m. fischbach replaced mr rozakis who was unable to take part in the further consideration of the case (rule 24 § 5 (a)).</p> <p>5. at the court’s invitation (rule 99) the commission delegated one of its members mr m.a. nowicki to take part in the proceedings before the grand chamber.</p> <p>6. in accordance with the president’s decision a hearing took place in public in the human rights building strasbourg on 16 december 1998.</p> <p></p> <p>there appeared before the court:</p> <blockquote>(a)<i>for the government</i><br>mrk. drzewicki professor of public international law<i>agent</i><br>mrsm. wąsek-wiaderek <br>mrse. chałubińska<br>mrk. karpiński<i>advisers</i>;</blockquote> <blockquote>(b)<i>for the applicant</i><br>mrh. stabla of thekatowice bar<i>counsel</i>;</blockquote> <blockquote>(c)<i>for the commission</i><br>mrm.a. nowicki<i>delegate</i>.</blockquote> <p></p> <p>the court heard addresses by mr nowicki mr stabla mr drzewicki and mrs wąsek-wiaderek and also their replies to its questions.</p> <h3>the facts</h3> <p>i.the circumstances of the case</p> <p>7. the applicant was born in 1953. he lives in stalowa wola poland.</p> <p>8. in 1986 the katowice regional prosecutor instituted criminal proceedings against the applicant on suspicion of manslaughter of his wife. on 18 october 1987 the applicant was examined by a medical panel composed of two psychiatrists who found that on health grounds he could not be held criminally responsible. the panel further concluded that the applicant posed a threat to public order. on 31 october 1987 the jastrzębie-zdrój district prosecutor having regard to the medical opinion decided to discontinue the criminal proceedings against the applicant. on 30 november 1987 the jastrzębie-zdrój district prosecutor requested the katowice regional court to order the applicant’s committal to a psychiatric institution.</p> <p>9. on 8 february 1988 the katowice regional court committed the applicant to a mental hospital. the court taking into consideration the submission of the prosecutor that the applicant had killed his wife and the expert medical opinion of 18 october 1987 concluded that the applicant posed a threat to public order. on 18 march 1988 the supreme court upheld this decision. on 13 april 1988 the applicant was placed in rybnik psychiatric hospital.</p> <p>10. on 4 november 1988 15 september 1989 13 november 1989 12 march 1990 9 july 1990 and 17 december 1990 the katowice regional court gave decisions concerning the applicant’s continued detention. the court had regard to the applicant’s medical file including opinions of psychiatrists from rybnik psychiatric hospital which indicated that in view of the applicant’s condition which remained unchanged his continued detention was necessary as he still presented a threat to public order.</p> <p>11. on 4 april 1991 the applicant’s officially appointed lawyer requested the latter’s release from the psychiatric hospital. on 27 may 1991 the katowice regional court again refused to order the applicant’s release finding that it would entail a threat to public order.</p> <p>12. in a further medical opinion of 27 december 1991 the rybnik hospital psychiatrists stated that the applicant’s condition required his continued detention and in its subsequent decision the katowice regional court again refused to order his release.</p> <p>13. on 10 january 1992 the minister of justice refused leave for an extraordinary appeal against the decision of 8 february 1988 concerning the applicant’s committal to a psychiatric institution.</p> <p>14. on 22 june 1992 the court having considered the opinion of psychiatrists again refused to order the applicant’s release.</p> <p>15. on 16 march 1993 the applicant’s lawyer lodged a further request for the applicant’s release with the katowice regional court. he also insisted that psychiatrists from cracow university examine the applicant as he was convinced that it was only from this institution that an unbiased opinion could be obtained. by letters of 25 march 1993 and 13 april 1993 the court ordered rybnik psychiatric hospital to submit an up-to-date medical opinion on the applicant’s condition.</p> <p>16. in their opinion of 19 april 1993 the rybnik hospital psychiatrists stated that the applicant’s condition required his continued detention and suggested that in view of his repeated requests for a medical examination by psychiatrists from another institution it would be advisable to order such an examination. by a decision of 26 april 1993 the court ordered that the applicant’s condition should be assessed by psychiatrists from cracow university.</p> <p>17. on 5 may 1993 the court found that the applicant could undergo the necessary medical examination in the psychiatric department of cracow detention centre. on 17 may 1993 it fixed the date of the applicant’s admission to the centre at 31 may 1993. the applicant was brought to the centre on that date but was not admitted since certain necessary documents had not been submitted to the centre. the centre informed the court that the applicant could only be admitted on the strength of an order for his detention on remand and that persons detained at the centre were subject to the legal provisions governing detention on remand.</p> <p>18. in a letter of 31 may 1993 the applicant complained to the court that he had not been examined by the psychiatric department of cracow university. he contended that any opinion prepared by psychiatrists of the cracow detention centre would be biased and threatened to go on hunger strike if he was brought to the centre for a medical examination.</p> <p>19. on 25 june 1993 the applicant requested the reopening of the criminal proceedings.</p> <p>20. on 4 august 1993 the psychiatric department of cracow university informed the katowice regional court that the exact date of the applicant’s out-patient examination could be fixed only after 23 august 1993. by a letter of 18 august 1993 the katowice regional court forwarded that information to the applicant.</p> <p>21. on 1 and 2 september 1993 cracow university informed the court that the applicant could be admitted to the university hospital in late october or early november 1993 after an analysis of his medical file had been completed.</p> <p>22. by a letter of 15 september 1993 the katowice regional prosecutor informed the applicant that his request of 23 june 1993 to have the criminal proceedings reopened would not be considered.</p> <p>23. on 22 september 1993 the applicant’s medical file was sent to cracow university. on 18 november 1993 the applicant requested the court to order his examination without further delay. on 17 december 1993 the university in reply to the court’s enquiry informed it that the applicant would be admitted for an out-patient examination from 31 january to 3 february 1994. on 24 january 1994 the court informed the applicant that his file had been transmitted to the psychiatric department of cracow university.</p> <p>24. from 31 january to 4 february 1994 the applicant underwent an examination at the psychiatric department of cracow university.</p> <p>25. on 18 may 1994 the katowice regional court informed the applicant that his file was still with the psychiatric department of the university and that the expert medical report was not yet ready. on 30 may 1994 the university informed the court that the opinion would be ready by the end of june 1994.</p> <p>26. on 16 june 1994 the applicant requested access to his medical file. on 21 june 1994 the court informed him that it was still at cracow university.</p> <p>27. on 21 june 1994 in reply to the court’s enquiry the university informed the katowice regional court that it could not return the applicant’s medical file to the court as the medical opinion had not been prepared. on 5 july 1994 the applicant again requested to be granted access to his medical file. on 21 july 1994 the katowice regional court informed him that his file was still being examined by the specialists of the cracow university psychiatric department who were preparing an opinion.</p> <p>28. in their opinion of 30 november 1994 the psychiatrists from cracow university stated that the applicant’s condition required continued detention and that the grounds on which his committal to a psychiatric institution had been ordered had not ceased to exist. this opinion was submitted to the katowice regional court on 15 december 1994.</p> <p>29. on 9 january 1995 the court having considered the medical opinion of 30 november 1994 decided that the applicant’s detention should be maintained.</p> <p>30. subsequently by decisions of 4 march 1996 and 30 december 1996 the katowice regional court ordered that in the light of medical opinions of 18 january 1996 and 24 september 1996 respectively the applicant should remain in detention. on 28 september 1996 the applicant attempted to commit suicide at rybnik psychiatric hospital. on 23 june 1997 the katowice regional court ordered the applicant’s release.</p> <p>ii.relevant domestic law and practice</p> <p>31. conditions for the detention of persons of unsound mind who are not criminally responsible were laid down in the polish criminal code as it stood at the material time:</p> <p></p> <p align=\"center\"><b>article 99</b></p> <p></p> <blockquote>“if it has been established that a person has committed an offence in a state of mental disorder [excluding his criminal responsibility] and his remaining at liberty entails a serious danger to public order the court shall commit him to a mental hospital or another appropriate institution.”</blockquote> <p></p> <h1><b>article 101</b></h1> <p></p> <p>“in cases provided for in article 99 ... the period of detention is not determined in the decision of committal to the psychiatric institution; the court shall order release if the detention ceases to be necessary.”</p> <blockquote></blockquote> <br><p>32. according to the case-law of the polish supreme court a threat to public order is to be determined on the basis of the situation obtaining at the time when the offender’s detention in the psychiatric institution is imposed. the assessment of the existence and the degree of such threat should be made in the light of an expert medical opinion. for a decision ordering detention in a psychiatric hospital to be given it is not necessary that the expert medical opinion should state expressly that public order would be threatened if the offender were to remain at liberty. it suffices that such a conclusion may be drawn from the expert medical opinion taken as a whole (<i>orzecznictwo sądu najwyższego izba karna i wojskowa</i>1974 item 47).</p> <p>a threat to public order is considered serious if an offender’s remaining at liberty gives rise to a risk that he might commit an unlawful act (<i>orzecznictwo sądu najwyższego izba karna i wojskowa </i>1972 item 183).</p> <p>33. article 242 § 1 read together with article 244 § 1 of the code of criminal procedure as applicable at the relevant time provided that a court could impose a fine on an expert who without reasonable cause consistently failed to comply with his or her obligation to submit a report to the court.</p> <p>34. article 197 of the enforcement of sentences code as applicable at the relevant time read:</p> <p></p> <blockquote>“1. the director of a medical institution is obliged to keep the court informed of the detainee’s health and of the progress of the treatment.</blockquote> <blockquote>...</blockquote> <blockquote>3. the court at intervals of not longer than six months shall decide on the basis of a medical opinion on the necessity to maintain further security measures.”</blockquote> <p>according to article 8 of the enforcement of sentences code an offender in the proceedings before a court supervising execution of criminal judgments was entitled to submit requests and to lodge appeals against the court’s decisions if the law expressly provided for such appeals.</p> <h3>proceedingsbefore the commission</h3> <p>35. mr musiał applied to the commission on 10 january 1994. he alleged that there had been violations of article 6 §§ 2 and 3 (d) of the convention in respect of the criminal investigations against him. he complained about the refusals to reopen those proceedings and to grant leave for an extraordinary appeal. finally he alleged a violation of article 5 § 4 of the convention in that the proceedings concerning a judicial review of his psychiatric detention were unreasonably long.</p> <p></p> <p>36. on 6 september 1995 the commission (second chamber) declared the application (no. 24557/94) admissible as regards the complaint under article 5 § 4 and inadmissible for the rest. in its report of 4 march 1998 (former article 31 of the convention) it expressed the opinion by thirteen votes to two that there had been a violation of article 5 § 4. the full text of the commission’s opinion and of the dissenting opinion contained in the report is reproduced as an annex to this judgment[2].</p> <h3>final submissions to the court</h3> <p>37. in their memorial the government asked the court to hold that in the present case “the proceedings by which the lawfulness of the applicant’s detention was examined were conducted speedily within the meaning of article 5 § 4 of the convention” and to conclude on the basis of the facts that there had been no violation of article 5 § 4 of the convention.</p> <p>38. in his memorial the applicant asked the court to “recognise that in the case involving [the applicant] heard by the regional court of katowice article 5 § 4 of the european convention for the protection of human rights and fundamental freedoms was violated” and to award him just satisfaction.</p> <h3>the law</h3> <h4>i.alleged violation of article 5 § 4 of the<br>convention</h4> <p>39. the applicant submitted under article 5 § 4 of the convention that the proceedings seeking a judicial review of his psychiatric detention instituted by his request for release of 16 march 1993 (see paragraph 15 above) were unreasonably long.</p> <p>article 5 § 4 of the convention provides:</p> <p></p> <p>“everyone who is deprived of his liberty by arrest or detention shall be entitled to take proceedings by which the lawfulness of his detention shall be decided speedily by a court and his release ordered if the detention is not lawful.”</p> <p></p> <p>40. the government contested this submission; the commission accepted it.</p> <p><b>a.</b><b>period to be taken into consideration</b></p> <p>41. the government pointed out that poland recognised the competence of the convention organs to receive individual petitions under former article 25 of the convention in respect of alleged violations of the rights protected by the convention “through any act decision or event occurring after 30 april 1993”. the government argued that the period to be examined in the present case did not begin to run on 16 march 1993 the date on which the applicant lodged his request for release with the katowice regional court (see paragraph 15 above) but only on 1 may 1993 the date on which the convention organs’ competence as regards individual applications against poland took effect.</p> <p>42. the court accepts that the period to be taken into consideration began not on 16 march 1993 but on 1 may 1993 when the declaration whereby poland recognised the right of individual petition for the purposes of former article 25 of the convention became effective. it ended on 9 january 1995 the date on which the katowice regional court having considered the medical opinion submitted by cracow university dismissed the applicant’s request for release (see paragraph 29 above). accordingly the period under examination in the present case is one year eight months and nine days (see among other authorities<i> mutatis mutandis</i> the proszak v. poland judgment of 16 december 1997 <i>reports of judgments and decisions</i> 1997-viii p. 2772 § 31; the styranowski v. poland judgment of 30 october 1998 <i>reports</i> 1998-viii pp. 3375-76 §§ 45-46; and the podbielski v. poland judgment of 30 october 1998 ibid. pp. 3394-95 §§ 30-31). however in order to assess the length of the proceedings in question the court will take into account the stage reached at the beginning of the period under examination.</p> <p><b>b.</b><b>compliance with the requirements of article 5 § 4 of the convention</b></p> <p>43. according to the principles which emerge from the court’s case-law a person of unsound mind who is compulsorily confined in a psychiatric institution for an indefinite or lengthy period is entitled under article 5 § 4 of the convention to take proceedings at reasonable intervals before a court to put in issue the “lawfulness” – within the meaning of the convention – of his or her detention inasmuch as the reasons initially warranting confinement may cease to exist (see the luberti v. italy judgment of 23 february 1984 series a no. 75 p. 15 § 31; and the megyeri v. germany judgment of 12 may 1992 series a no. 237-a pp. 11-12 § 22). article 5 § 4 in guaranteeing to persons arrested or detained a right to institute proceedings to challenge the lawfulness of their detention also proclaims their right following the institution of such proceedings to a speedy judicial decision concerning the lawfulness of detention and ordering its termination if it proves unlawful (see the van der leer v. the netherlands judgment of 21 february 1990 series a no. 170-a p. 14 § 35).</p> <p>44. the court observes that the contested proceedings were instituted by the applicant’s request for release of 16 march 1993 (see paragraph 15 above). in a decision of 26 april 1993 the katowice regional court acceded to the applicant’s request that his condition be examined by psychiatrists from cracow university but the applicant’s medical file was sent to the university almost five months later on 22 september 1993 (see paragraphs 16 and 23 above). the applicant was admitted to the university hospital on 31 january 1994 that is after a further delay of four months and nine days. his clinical examination was completed after only five days and he was discharged from the hospital on 4 february 1994 (see paragraph 24 above). however it took the experts a further ten months to prepare their report which was eventually submitted to the regional court on 15 december 1994. the court decided to continue the applicant’s detention on 9 january 1995 (see paragraph 29 above). such a lapse of time namely one year eight months and eight days will be incompatible with the notion of speediness within the meaning of article 5 § 4 of the convention unless there are exceptional grounds to justify it. the court will accordingly consider whether any such grounds existed in the present case in the light of the arguments adduced by the government.</p> <p>45. the government firstly emphasised that the applicant in his request for release of 16 march 1993 insisted on being examined by psychiatrists from cracow university. the government recalled that in proceedings concerning a review of psychiatric detention prime importance should be attached to the possibility of challenging medical evidence adduced in support of continued detention. they relied in this respect on the winterwerp judgment (winterwerp v. the netherlands judgment of 24 october 1979 series a no. 33 p. 23 § 58). the regional court agreed to appoint experts in accordance with the applicant’s wishes but as the ensuing delay in the preparation of their report resulted exclusively from his insistence on obtaining it from a specific institution he should be estopped from complaining about this delay.</p> <p>the government further maintained that the delay in the preparation of the medical report should also be attributed to the fact that the applicant’s case was complex. they stressed that the preparation of the report necessitated a thorough analysis of the applicant’s voluminous medical file.</p> <p>46. on the first point the court notes that the applicant did indeed express an explicit wish to be examined for the purposes of the judicial review of his detention by doctors from an institution other than rybnik hospital (see paragraph 15 above). in the court’s view however in so doing the applicant cannot be understood as having waived his procedural rights under article 5 § 4 of the convention the less so as neither his request of 16 march 1993 nor his subsequent correspondence with the regional court contain any statements which could be so interpreted. similarly the fact that the katowice regional court appointed experts at the applicant’s specific request did not in itself discharge that court from its obligation to rule speedily on his request for release. the court sees no cause in the circumstances of the present case for departing from the usual principle that the primary responsibility for delays resulting from the provision of expert opinions rests ultimately with the state (see <i>mutatis mutandis</i> the capuano v. italy judgment of 25 june 1987 series a no. 119 p. 14 § 32).</p> <p>47. as to the government’s second argument the court acknowledges that in proceedings concerning a review of a psychiatric detention the complexity of the medical issues involved in a case is a factor which may be taken into account when assessing compliance with the requirements of article 5 § 4 of the convention. nevertheless the complexity of a medical dossier however exceptional cannot absolve national authorities from their essential obligations under this provision. moreover it has not in any event been shown that in the present case there was a causal link between the complexity of the medical issues which might arguably have been involved in the assessment of the applicant’s condition and the delay in the preparation of the expert opinion.</p> <p>48. the government have therefore failed to show that there were in this case such exceptional grounds as could justify the period in question.</p> <p>49. moreover the court observes that under the applicable provisions of polish law as it stood at the material time the regional court was empowered to impose fines on experts failing in their obligation to submit a report yet chose not to do so in the present case (see paragraph 33 above). the regional court twice enquired as to the progress of the work of the experts but failed to expedite the production of the report (see paragraphs 23 and 27 above). thus although there was an exchange of correspondence between the court and the experts this did not bring about an acceleration of the proceedings. it is also to be noted that on two occasions the applicant drew the attention of the court to the delays in the carrying out of the clinical examination and the preparation of the report (see paragraphs 18 and 23 above).</p> <p>50. the court further notes that the katowice regional court when giving its decision of 9 january 1995 ordering the applicant’s continued detention had regard to the medical opinion prepared on the basis of the applicant’s clinical examination which had taken place from 31 january to 4 february 1994 (see paragraphs 24 28 and 29 above). the regional court thus decided on the basis of information about his health which had been obtained eleven months earlier. as a result the decision was based on medical information which did not necessarily reflect the applicant’s condition at the time of the decision. such a delay between clinical examination and preparation of a medical report is in itself capable of running counter to the principle underlying article 5 of the convention namely the protection of individuals against arbitrariness as regards any measure depriving them of their liberty (see the above-mentioned winterwerp judgment p. 17 § 39).</p> <p>51. in its report the commission found that the proceedings not only exceeded a reasonable time but were not conducted in accordance with the procedural provisions of article 197 § 3 of the enforcement of sentences code which required the carrying out of reviews of detention at intervals of not more than six months. the government argued that under the applicable provisions of the enforcement of sentences code the requirement to carry out a judicial review of the applicant’s confinement at intervals of not longer than six months had to be complied with only in respect of proceedings instituted <i>ex officio</i>. they contended that this requirement did not apply toproceedings instituted at the request of a detainee. the applicant contested this submitting that the fact that it was his lawyer who had instituted the proceedings (see paragraph 15 above) did not affect the obligation of the authorities to carry out the review at the intervals provided for in article 197 § 3 of theenforcement of sentences code.</p> <p>52. the court does not find it necessary to determine whether in the present case there was compliance with the procedural requirements of domestic law. it is sufficient to observe that no <i>ex officio</i> review was in fact carried out during the period in question with the consequence that the delay in the review of the lawfulness of the applicant’s detention was not remedied.</p> <p>53. having regard to all the foregoing considerations the court concludes that the lawfulness of the applicant’s detention was not decided speedily in the contested proceedings as required by article 5 § 4 of the convention. accordingly there has been a violation of this provision.</p> <p>ii.application of article 41 of the convention</p> <p>54. under article 41 of the convention</p> <p>“if the court finds that there has been a violation of the convention or the protocols thereto and if the internal law of the high contracting party concerned allows only partial reparation to be made the court shall if necessary allow just satisfaction to the injured party.”</p> <p><b>a.</b><b>damage</b></p> <p>55. mr musiał sought the sum of 1500000 us dollars in respect of pecuniary and non-pecuniary damage corresponding to the loss of income sustained as a result of the closing down of his business and the loss of opportunities following his arrest in 1986 and his subsequent committal to a psychiatric hospital.</p> <p>56. the government considered that the award sought by the applicant was grossly excessive. they also submitted that there was no causal link between the alleged violation of the convention and the alleged damage. they asked the court to rule that a finding of a violation constituted sufficient just satisfaction. in the alternative they requested the court to assess the amount of compensation on the basis of the court’s case-law in similar cases.</p> <p>57. the delegate of the commission considered that the amount claimed by the applicant was excessive and requested the court to award him just satisfaction for non-pecuniary damage on the basis of the court’s case-law in similar cases.</p> <p>58. the court observes that there is no causal link between the facts in respect of which it has found a breach of the convention and the pecuniary damage for which the applicant seeks compensation. however the court acknowledges that the applicant suffered damage of a non-pecuniary nature as a result of the length of the proceedings by which he sought termination of his confinement. having regard to the circumstances of the case and making its assessment on an equitable basis the court awards the applicant 15 000 zlotys as compensation for non-pecuniary damage.</p> <p><b>b.</b><b>costs and expenses</b></p> <p>59. the applicant who received legal aid from the council of europe in connection with his legal representation in the proceedings before the commission and the court claimed reimbursement of legal costs and expenses incurred in the preparation of his case.</p> <p>60. the government asked the court to award legal costs and expenses only in so far as those costs and expenses were actually and necessarily incurred by the applicant.</p> <p>61. according to the court’s established case-law an award can be made in respect of costs and expenses only in so far as they have been actually and necessarily incurred by the applicant and are reasonable as to quantum. however the court notes in this respect that the applicant did not submit details of any costs incurred over and above the amounts received in legal aid. his claims must therefore be rejected (see <i>mutatis mutandis</i> the belziuk v. poland judgment of 25 march 1998 <i>reports</i> 1998-ii p. 573 § 49 ; and the podbielski judgment cited above p. 3399 § 52).</p> <p><b>c.</b><b>default interest</b></p> <p>62. according to the information available to the court the statutory rate of interest applicable in poland at the date of adoption of the present judgment is 24% per annum.</p> <h3>for these reasons the court</h3> <p>1.<i>holds</i> by sixteen votes to one that there has been a violation of article 5 § 4 of the convention;</p> <p></p> <p>2.<i>holds</i> by sixteen votes to one</p> <p>(a) that the respondent state is to pay the applicant within three months</p> <p>15 000 (fifteen thousand) zlotys in respect of non-pecuniary damage;</p> <p>(b) that simple interest at an annual rate of 24% shall be payable from the expiry of the above-mentioned three months until settlement;</p> <p></p> <p>3.<i>dismisses</i> unanimously the remainder of the claim for just satisfaction.</p> <p></p> <p>done in english and in french and delivered at a public hearing in the human rights building strasbourg on 25 march 1999.</p> <p></p> <p>luzius wildhaber<br>president</p> <p>michele de salvia<br> registrar</p> <p></p> <p>in accordance with article 45 § 2 of the convention and rule 74 § 2 of the rules of court the dissenting opinion of mr pastor ridruejo is annexed to this judgment.</p> <p align=\"right\">l.w.<br>m. de s.</p> </div> <br><div> <p align=\"center\">dissenting opinion of judge pastor ridruejo</p> <p align=\"center\">(<i>translation</i>)</p> <p>to my great regret i cannot share the opinion of the majority of the court. admittedly the length of the proceedings brought by the applicant to secure his release was excessive. in the opinion of the majority of the court the katowice regional court was responsible for that excessive length since it was under a duty to ensure that expert medical reports were submitted within a reasonable time.</p> <p>in the instant case however i consider that the court’s control over the progress of the case was only limited and indirect. regard must also be had to the fact that it was the applicant himself who requested an expert opinion from cracow university. it is accordingly understandable that the regional court should have waited for that opinion to be filed. in my view it was primarily the university which did not see to it that the opinion was submitted within a reasonable time.</p> <p>for these reasons i think that there has not been a violation of article 5 § 4 of the convention by poland.</p> </div> <hr> <div> <p>[1]<i>notes by the registry</i></p> <p>1-2. protocol no. 11 and the rules of court came into force on 1 november 1998.</p> </div> <div><p>[3]3. since the entry into force of protocol no. 11 which amended article 19 the court has functioned on a permanent basis.</p></div> <div> <p>[1]<i>notes by the registry</i></p> <p>1. protocol no. 9 came into force on 1 october 1994 and was repealed by protocol no. 11.</p> <p>2. rules of court b which came into force on 2 october 1994 applied until 31 october 1998 to all cases concerning states bound by protocol no. 9.</p> </div> <div><p>[2]1. <i>note by the registry</i>. for practical reasons this annex will appear only with the final printed version of the judgment (in the official reports of selected judgments and decisions of the court) but a copy of the commission’s report is obtainable from the registry.</p></div>"
      ],
      "text/plain": [
       "<IPython.core.display.HTML object>"
      ]
     },
     "metadata": {},
     "output_type": "display_data"
    }
   ],
   "source": [
    "ID = 'HUDOC-ECHR-1999-001-58225'\n",
    "#print(clean.getCase(ID)[ID])\n",
    "clean.renderHTML(ID)"
   ]
  }
 ],
 "metadata": {
  "kernelspec": {
   "display_name": "Python 3",
   "language": "python",
   "name": "python3"
  },
  "language_info": {
   "codemirror_mode": {
    "name": "ipython",
    "version": 3
   },
   "file_extension": ".py",
   "mimetype": "text/x-python",
   "name": "python",
   "nbconvert_exporter": "python",
   "pygments_lexer": "ipython3",
   "version": "3.6.8"
  }
 },
 "nbformat": 4,
 "nbformat_minor": 2
}

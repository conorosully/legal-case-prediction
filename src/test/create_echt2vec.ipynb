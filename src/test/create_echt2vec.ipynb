{
 "cells": [
  {
   "cell_type": "code",
   "execution_count": 1,
   "metadata": {},
   "outputs": [],
   "source": [
    "#Imports\n",
    "import numpy as np\n",
    "import pandas as pd\n",
    "\n",
    "import json\n",
    "from gensim.models import Word2Vec\n",
    "\n",
    "\n",
    "from IPython.core.display import display, HTML\n",
    "\n",
    "import HTMLSentenceTokenizer\n",
    "sentence = HTMLSentenceTokenizer.HTMLSentenceTokenizer()\n",
    "from nltk.tokenize import word_tokenize\n",
    "import ast\n",
    "\n",
    "from tqdm import tqdm\n",
    "tqdm.pandas(desc=\"progress-bar\")\n",
    "\n",
    "\n",
    "import functions \n",
    "clean = functions.clean()"
   ]
  },
  {
   "cell_type": "code",
   "execution_count": 2,
   "metadata": {},
   "outputs": [],
   "source": [
    "path = \"/Users/conorosully/Documents/Legal-Case-Prediction/data/{}\""
   ]
  },
  {
   "cell_type": "code",
   "execution_count": 3,
   "metadata": {},
   "outputs": [
    {
     "name": "stdout",
     "output_type": "stream",
     "text": [
      "Index(['id', 'type', 'url', 'doc-name', 'doc-id-label', 'doc-date', 'vl-type',\n",
      "       'created-at', 'updated-at', 'app-no-parts', 'app-nos', 'articles',\n",
      "       'conclusions', 'courts', 'ecli', 'judgement-date', 'judges',\n",
      "       'last-modified-time', 'nonviolations', 'organisations', 'respondents',\n",
      "       'separate-opinion', 'violations'],\n",
      "      dtype='object')\n",
      "55652\n"
     ]
    },
    {
     "data": {
      "text/html": [
       "<div>\n",
       "<style scoped>\n",
       "    .dataframe tbody tr th:only-of-type {\n",
       "        vertical-align: middle;\n",
       "    }\n",
       "\n",
       "    .dataframe tbody tr th {\n",
       "        vertical-align: top;\n",
       "    }\n",
       "\n",
       "    .dataframe thead th {\n",
       "        text-align: right;\n",
       "    }\n",
       "</style>\n",
       "<table border=\"1\" class=\"dataframe\">\n",
       "  <thead>\n",
       "    <tr style=\"text-align: right;\">\n",
       "      <th></th>\n",
       "      <th>id</th>\n",
       "      <th>type</th>\n",
       "      <th>url</th>\n",
       "      <th>doc-name</th>\n",
       "      <th>doc-id-label</th>\n",
       "      <th>doc-date</th>\n",
       "      <th>vl-type</th>\n",
       "      <th>created-at</th>\n",
       "      <th>updated-at</th>\n",
       "      <th>app-no-parts</th>\n",
       "      <th>...</th>\n",
       "      <th>courts</th>\n",
       "      <th>ecli</th>\n",
       "      <th>judgement-date</th>\n",
       "      <th>judges</th>\n",
       "      <th>last-modified-time</th>\n",
       "      <th>nonviolations</th>\n",
       "      <th>organisations</th>\n",
       "      <th>respondents</th>\n",
       "      <th>separate-opinion</th>\n",
       "      <th>violations</th>\n",
       "    </tr>\n",
       "  </thead>\n",
       "  <tbody>\n",
       "    <tr>\n",
       "      <th>0</th>\n",
       "      <td>HUDOC-ECHR-1959-001-49198</td>\n",
       "      <td>eu-chrs</td>\n",
       "      <td>http://hudoc.echr.coe.int/app/conversion/docx/...</td>\n",
       "      <td>greece &lt;br&gt;against&lt;br&gt; the united kingdom</td>\n",
       "      <td>176/56</td>\n",
       "      <td>1959-04-20</td>\n",
       "      <td>eu_chr</td>\n",
       "      <td>2017-09-18T10:01:36.112Z</td>\n",
       "      <td>2018-10-26T16:53:58.954Z</td>\n",
       "      <td>['176', '56']</td>\n",
       "      <td>...</td>\n",
       "      <td>NaN</td>\n",
       "      <td>NaN</td>\n",
       "      <td>NaN</td>\n",
       "      <td>NaN</td>\n",
       "      <td>2018-10-07</td>\n",
       "      <td>NaN</td>\n",
       "      <td>['Committee of Ministers']</td>\n",
       "      <td>['GBR']</td>\n",
       "      <td>NaN</td>\n",
       "      <td>NaN</td>\n",
       "    </tr>\n",
       "  </tbody>\n",
       "</table>\n",
       "<p>1 rows × 23 columns</p>\n",
       "</div>"
      ],
      "text/plain": [
       "                          id     type  \\\n",
       "0  HUDOC-ECHR-1959-001-49198  eu-chrs   \n",
       "\n",
       "                                                 url  \\\n",
       "0  http://hudoc.echr.coe.int/app/conversion/docx/...   \n",
       "\n",
       "                                    doc-name doc-id-label    doc-date vl-type  \\\n",
       "0  greece <br>against<br> the united kingdom       176/56  1959-04-20  eu_chr   \n",
       "\n",
       "                 created-at                updated-at   app-no-parts  ...  \\\n",
       "0  2017-09-18T10:01:36.112Z  2018-10-26T16:53:58.954Z  ['176', '56']  ...   \n",
       "\n",
       "  courts ecli judgement-date judges last-modified-time nonviolations  \\\n",
       "0    NaN  NaN            NaN    NaN         2018-10-07           NaN   \n",
       "\n",
       "                organisations respondents separate-opinion violations  \n",
       "0  ['Committee of Ministers']     ['GBR']              NaN        NaN  \n",
       "\n",
       "[1 rows x 23 columns]"
      ]
     },
     "execution_count": 3,
     "metadata": {},
     "output_type": "execute_result"
    }
   ],
   "source": [
    "att = pd.read_csv(\"/Users/conorosully/Documents/Legal-Case-Prediction/data/preclean/case_attributes.csv\",'#')\n",
    "print(att.columns)\n",
    "print(len(att))\n",
    "IDs = att['id']\n",
    "att.head(1)"
   ]
  },
  {
   "cell_type": "code",
   "execution_count": 4,
   "metadata": {},
   "outputs": [
    {
     "name": "stdout",
     "output_type": "stream",
     "text": [
      "<class 'str'>\n"
     ]
    }
   ],
   "source": [
    "ID = 'HUDOC-ECHR-1999-001-58225'\n",
    "doc = clean.getCase(ID)[ID]\n",
    "print(type(doc))\n",
    "\n",
    "#clean.renderHTML(ID)"
   ]
  },
  {
   "cell_type": "markdown",
   "metadata": {},
   "source": [
    "### Create sentences"
   ]
  },
  {
   "cell_type": "code",
   "execution_count": 7,
   "metadata": {},
   "outputs": [
    {
     "name": "stdout",
     "output_type": "stream",
     "text": [
      "Processed 5000/55652\n",
      "Processed 10000/55652\n",
      "Processed 15000/55652\n",
      "Processed 20000/55652\n",
      "Processed 25000/55652\n",
      "Processed 30000/55652\n",
      "Processed 35000/55652\n",
      "Processed 40000/55652\n",
      "Processed 45000/55652\n",
      "Processed 50000/55652\n",
      "Processed 55000/55652\n",
      "4824978\n",
      "['the', 'committee', 'of', 'ministers']\n"
     ]
    }
   ],
   "source": [
    "sentences = []\n",
    "\n",
    "count = 1\n",
    "for ID in IDs:\n",
    "    doc = clean.getCase(ID)[ID]\n",
    "    parsed_sentences = sentence.feed(doc)\n",
    "    for sent in parsed_sentences:\n",
    "        tokens = word_tokenize(sent)\n",
    "\n",
    "        tokens = [word for word in tokens if word.isalpha()]\n",
    "        tokens = [w.lower() for w in tokens]\n",
    "        if len(tokens) > 2:\n",
    "            sentences.append(tokens)\n",
    "    \n",
    "    count += 1\n",
    "    if count%5000 == 0:\n",
    "        print('Processed {}/55652'.format(count))\n",
    "              \n",
    "print(len(sentences))\n",
    "print(sentences[0])"
   ]
  },
  {
   "cell_type": "code",
   "execution_count": 8,
   "metadata": {},
   "outputs": [],
   "source": [
    "\"\"\"with open(path.format('preclean/sentences.txt'), 'w') as f:\n",
    "    for s in sentences:\n",
    "        f.write(str(s) + '\\n')\"\"\""
   ]
  },
  {
   "cell_type": "markdown",
   "metadata": {},
   "source": [
    "### Create embeddings"
   ]
  },
  {
   "cell_type": "code",
   "execution_count": 9,
   "metadata": {},
   "outputs": [
    {
     "name": "stdout",
     "output_type": "stream",
     "text": [
      "4824978\n",
      "['the', 'committee', 'of', 'ministers']\n"
     ]
    }
   ],
   "source": [
    "with open(path.format('preclean/sentences.txt'), 'r') as f:\n",
    "    sentences = [line.rstrip('\\n') for line in f]\n",
    "sentences = [ast.literal_eval(s) for s in sentences ]\n",
    "print(len(sentences))\n",
    "print(sentences[0])"
   ]
  },
  {
   "cell_type": "code",
   "execution_count": 13,
   "metadata": {},
   "outputs": [
    {
     "name": "stderr",
     "output_type": "stream",
     "text": [
      "100%|██████████| 4824978/4824978 [00:02<00:00, 1785040.89it/s]"
     ]
    },
    {
     "name": "stdout",
     "output_type": "stream",
     "text": [
      "84007186\n"
     ]
    },
    {
     "name": "stderr",
     "output_type": "stream",
     "text": [
      "\n"
     ]
    }
   ],
   "source": [
    "count = 0\n",
    "for s in tqdm(sentences):\n",
    "    count += len(s)\n",
    "print(count)"
   ]
  },
  {
   "cell_type": "code",
   "execution_count": 18,
   "metadata": {},
   "outputs": [
    {
     "data": {
      "text/plain": [
       "'the'"
      ]
     },
     "execution_count": 18,
     "metadata": {},
     "output_type": "execute_result"
    }
   ],
   "source": [
    "sentences[0][0]"
   ]
  },
  {
   "cell_type": "code",
   "execution_count": 14,
   "metadata": {},
   "outputs": [
    {
     "name": "stderr",
     "output_type": "stream",
     "text": [
      "/Users/conorosully/miniconda3/lib/python3.6/site-packages/smart_open/smart_open_lib.py:398: UserWarning: This function is deprecated, use smart_open.open instead. See the migration notes for details: https://github.com/RaRe-Technologies/smart_open/blob/master/README.rst#migrating-to-the-new-open-function\n",
      "  'See the migration notes for details: %s' % _MIGRATION_NOTES_URL\n"
     ]
    },
    {
     "name": "stdout",
     "output_type": "stream",
     "text": [
      "100\n",
      "200\n"
     ]
    }
   ],
   "source": [
    "# define training data\n",
    "size = 100\n",
    "for s in [100,200]:\n",
    "    # train model\n",
    "    model = Word2Vec(sentences, min_count=10,size=s)\n",
    "\n",
    "    words = list(model.wv.vocab)\n",
    "    #print(model['case'])\n",
    "    name = 'embeddings/echt2vec_{}.txt'.format(s)\n",
    "    model.save(path.format(name))\n",
    "    print(s)"
   ]
  },
  {
   "cell_type": "code",
   "execution_count": 15,
   "metadata": {},
   "outputs": [
    {
     "name": "stdout",
     "output_type": "stream",
     "text": [
      "Word2Vec(vocab=47597, size=100, alpha=0.025)\n",
      "[-1.5897316   1.1752322   0.1812835  -2.0753927  -0.30365354 -2.623864\n",
      " -3.0174785  -0.53128755  1.0208697  -0.7977395   0.49885014  1.9134829\n",
      " -0.9142087   0.3425168  -0.93032765  1.6869735  -2.96303    -0.1425623\n",
      "  0.87882996 -2.6694467   0.7219321  -1.5780528  -1.5487238   1.2211422\n",
      "  1.6357045  -0.43606836  0.92221355  0.52769876 -0.10625964  0.54692\n",
      " -2.2359977  -0.23140007 -0.10876626 -2.17795    -1.6003083  -1.1905388\n",
      " -1.2994738   0.27796122  0.6485265   0.4778275  -0.5858192  -1.9545654\n",
      " -2.2794394  -0.706583   -0.27957568 -1.0418987  -2.3569665  -2.870128\n",
      "  2.234844    0.980896   -0.23302387 -0.9976439  -0.3800027   0.41793412\n",
      "  1.8830599   0.04513555 -0.3611936  -3.750025    1.0965487   0.40400803\n",
      "  2.7103674  -0.08127059  1.2497718   0.7829084   0.7177596  -0.964606\n",
      "  0.67719966  1.6630825   2.7763338  -0.88545233 -0.28383926 -0.07257998\n",
      " -1.5132622  -0.33038953  0.08622823  1.3757161  -0.80610454 -0.45928687\n",
      " -0.5744083   0.51909435  0.694354    0.342669   -1.0548156  -0.7126315\n",
      " -1.2614917   0.07690892 -1.3298855  -0.17616673  3.4876087  -2.8403378\n",
      "  2.9803674  -1.0987582   2.4035153   1.8666073  -0.00905994 -2.878107\n",
      "  0.11907957  0.89603984  0.26486763 -0.46273267]\n"
     ]
    },
    {
     "name": "stderr",
     "output_type": "stream",
     "text": [
      "/Users/conorosully/miniconda3/lib/python3.6/site-packages/ipykernel_launcher.py:3: DeprecationWarning: Call to deprecated `__getitem__` (Method will be removed in 4.0.0, use self.wv.__getitem__() instead).\n",
      "  This is separate from the ipykernel package so we can avoid doing imports until\n"
     ]
    }
   ],
   "source": [
    "new_model = Word2Vec.load(path.format('embeddings/echt2vec_100.txt'))\n",
    "print(new_model)\n",
    "print(new_model['the'])"
   ]
  },
  {
   "cell_type": "code",
   "execution_count": null,
   "metadata": {},
   "outputs": [],
   "source": []
  }
 ],
 "metadata": {
  "kernelspec": {
   "display_name": "Python 3",
   "language": "python",
   "name": "python3"
  },
  "language_info": {
   "codemirror_mode": {
    "name": "ipython",
    "version": 3
   },
   "file_extension": ".py",
   "mimetype": "text/x-python",
   "name": "python",
   "nbconvert_exporter": "python",
   "pygments_lexer": "ipython3",
   "version": "3.6.8"
  }
 },
 "nbformat": 4,
 "nbformat_minor": 2
}

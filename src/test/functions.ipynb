{
 "cells": [
  {
   "cell_type": "code",
   "execution_count": 1,
   "metadata": {},
   "outputs": [],
   "source": [
    "# Used to create and test functions for data cleaning and fitting process"
   ]
  },
  {
   "cell_type": "code",
   "execution_count": null,
   "metadata": {},
   "outputs": [],
   "source": []
  },
  {
   "cell_type": "code",
   "execution_count": 28,
   "metadata": {},
   "outputs": [
    {
     "ename": "NameError",
     "evalue": "name 'pd' is not defined",
     "output_type": "error",
     "traceback": [
      "\u001b[0;31m---------------------------------------------------------------------------\u001b[0m",
      "\u001b[0;31mNameError\u001b[0m                                 Traceback (most recent call last)",
      "\u001b[0;32m<ipython-input-28-03e09d17474e>\u001b[0m in \u001b[0;36m<module>\u001b[0;34m\u001b[0m\n\u001b[0;32m----> 1\u001b[0;31m \u001b[0matt\u001b[0m \u001b[0;34m=\u001b[0m \u001b[0mpd\u001b[0m\u001b[0;34m.\u001b[0m\u001b[0mread_csv\u001b[0m\u001b[0;34m(\u001b[0m\u001b[0;34m\"/Users/conorosully/Documents/Legal-Case-Prediction/data/preclean/case_attributes.csv\"\u001b[0m\u001b[0;34m,\u001b[0m\u001b[0;34m'#'\u001b[0m\u001b[0;34m)\u001b[0m\u001b[0;34m\u001b[0m\u001b[0m\n\u001b[0m\u001b[1;32m      2\u001b[0m \u001b[0;34m\u001b[0m\u001b[0m\n\u001b[1;32m      3\u001b[0m \u001b[0marticles\u001b[0m \u001b[0;34m=\u001b[0m \u001b[0;34m[\u001b[0m\u001b[0mitem\u001b[0m \u001b[0;32mfor\u001b[0m \u001b[0msublist\u001b[0m \u001b[0;32min\u001b[0m \u001b[0mlist\u001b[0m\u001b[0;34m(\u001b[0m\u001b[0matt\u001b[0m\u001b[0;34m[\u001b[0m\u001b[0;34m'articles'\u001b[0m\u001b[0;34m]\u001b[0m\u001b[0;34m)\u001b[0m  \u001b[0;32mfor\u001b[0m \u001b[0mitem\u001b[0m \u001b[0;32min\u001b[0m \u001b[0mast\u001b[0m\u001b[0;34m.\u001b[0m\u001b[0mliteral_eval\u001b[0m\u001b[0;34m(\u001b[0m\u001b[0msublist\u001b[0m\u001b[0;34m)\u001b[0m\u001b[0;34m]\u001b[0m\u001b[0;34m\u001b[0m\u001b[0m\n\u001b[1;32m      4\u001b[0m \u001b[0;31m#ast.literal_eval(list(att['articles'])[0])\u001b[0m\u001b[0;34m\u001b[0m\u001b[0;34m\u001b[0m\u001b[0m\n\u001b[1;32m      5\u001b[0m \u001b[0mpd\u001b[0m\u001b[0;34m.\u001b[0m\u001b[0mSeries\u001b[0m\u001b[0;34m(\u001b[0m\u001b[0marticles\u001b[0m\u001b[0;34m)\u001b[0m\u001b[0;34m.\u001b[0m\u001b[0mvalue_counts\u001b[0m\u001b[0;34m(\u001b[0m\u001b[0;34m)\u001b[0m\u001b[0;34m\u001b[0m\u001b[0m\n",
      "\u001b[0;31mNameError\u001b[0m: name 'pd' is not defined"
     ]
    }
   ],
   "source": [
    "att = pd.read_csv(\"/Users/conorosully/Documents/Legal-Case-Prediction/data/preclean/case_attributes.csv\",'#')\n",
    "\n",
    "articles = [item for sublist in list(att['articles'])  for item in ast.literal_eval(sublist)]\n",
    "#ast.literal_eval(list(att['articles'])[0])\n",
    "pd.Series(articles).value_counts()"
   ]
  },
  {
   "cell_type": "code",
   "execution_count": 22,
   "metadata": {},
   "outputs": [],
   "source": [
    "#Imports\n",
    "import json\n",
    "from IPython.core.display import display, HTML"
   ]
  },
  {
   "cell_type": "code",
   "execution_count": 10,
   "metadata": {
    "collapsed": true
   },
   "outputs": [
    {
     "data": {
      "text/plain": [
       "{'HUDOC-ECHR-2019-002-12312': '<div>\\n<p>Information Note on the Court’s case-law 225</p>\\n<p>January 2019</p>\\n<p><i><b>Catt v. the United Kingdom</b></i><b> - 43514/15</b></p>\\n<p>Judgment 24.1.2019 [Section I]</p>\\n<p class=\"section\">Article 8</p>\\n<p class=\"section\">Article 8-1</p>\\n<p class=\"section\">Respect for private life</p>\\n<p>Retention of peaceful campaigner’s data on police database: <i>violation</i></p>\\n<p><i>Facts</i> – The applicant had been an active peace campaigner since 1948. In 2005 he began participating in demonstrations organised by a violent protest group which attracted a substantial policing presence. The applicant himself had never been convicted of any offence and his risk of violent criminality was remote.</p>\\n<p>In domestic proceedings the applicant sought the deletion of his data held on a police database known as the “Extremism database”. The data held included information such his name, address, date of birth and presence at demonstrations. Most of the records related to demonstrations organised by the violent protest group but others related to the applicant’s attendance at political and trade union events.</p>\\n<p><i>Law</i> – Article 8: As to whether there had been a pressing need to <i>collect</i> the personal data about the applicant, the Court accepted that there had. The personal data in question had been overtly obtained. It was in the nature of intelligence gathering that the police would first need to collect data, before evaluating its value. The police had an obvious role to monitor protests where the activities of the organising group were known to be violent and potentially criminal. Therefore, even if the applicant himself had not been suspected of being directly involved in that group’s criminal activities, it was justifiable for the police to collect his personal data. He had after all decided to repeatedly and publicly align himself with the activities of a violent protest group.</p>\\n<p>As to whether there was a pressing need to <i>retain</i> the applicant’s data, the Court considered there was not. In the absence of any rules setting a definitive maximum time limit on the retention of such data,the applicant had been entirely reliant on the diligent application of the highly flexible safeguards in the relevant Code of Practice to ensure the proportionate retention of his data. Where the Sate chose to put in place such a system, the necessity of the effective procedural safeguards became decisive. Those safeguards had to enable the deletion of any such data, once its continued retention became disproportionate.</p>\\n<p>The applicant’s personal data could potentially have been retained indefinitely. Whilst the applicant could have and did request the disclosure and destruction of his data, that safeguard appeared to have been of limited impact given the refusal to delete his data or to provide any explanation for its continued retention. The absence of effective safeguards was of particular concern in the applicant’s case as the personal data retained revealed political opinions which attracted a heightened level of protection. Engaging in peaceful protest had specific protection under Article 1, which also contained special protection for trade unions, whose events the applicant had attended. </p>\\n<p>The definition of “domestic extremism” in the context of the “Extremism database” given in the domestic proceedings referred to collection of data on groups and individuals who had acted “outside the democratic process”. Therefore, the police did not appear to have respected their own definition in retaining data on the applicant’s association with peaceful, political events. </p>\\n<p>The retention of the applicant’s data in particular concerning peaceful protest had neither been shown to be absolutely necessary, nor for the purposes of a particular inquiry.</p>\\n<p>The Court was not convinced that deletion of the data would be so burdensome as to render it unreasonable. It would be entirely contrary to the need to protect private life under Article 8 if a Government could create a database in such a manner that the data in it could not be easily reviewed or edited, and then use that development as a justification to refuse to remove information from that database.</p>\\n<p><i>Conclusion</i>: violation (unanimously).</p>\\n<p>Article 41: no claim made in respect of damage.</p>\\n<p>(See also <i>Roman Zakharov v. Russia</i> [GC], 47143/06, 4 December 2015, <u>Information Note 191</u>; <i>S.M.M. v. the United Kingdom</i>, <u>77450/12</u>, 22 June 2017; <i>M.M. v. the United Kingdom</i>, 24029/07, 13 November 2012, <u>Information Note 157</u>; as well as Committee of Ministers’ <u>Resolution (74)</u><u>29</u> on the protection of the privacy of individuals <i>vis-à-vis</i> electronic data banks in the public sector and <u>Recommendation R (87)</u><u>15</u> of the Committee of Ministers to member States regulating the use of personal data in the police sector)</p>\\n<p></p>\\n<p align=\"center\">© Council of Europe/European Court of Human Rights<br>This summary by the Registry does not bind the Court.</p>\\n</div>'}"
      ]
     },
     "execution_count": 10,
     "metadata": {},
     "output_type": "execute_result"
    }
   ],
   "source": [
    "#Function: getCase\n",
    "\n",
    "def getCase(ID, path =\"/Users/conorosully/Documents/Legal-Case-Prediction/data/preclean/casetext\"):\n",
    "    \"\"\"\n",
    "    Returns a case in json format from specified path.\n",
    "    Required:\n",
    "    ID: String\n",
    "    path: Stirng\n",
    "    \"\"\"\n",
    "    \n",
    "    path = \"{}/{}.json\".format(path,ID) \n",
    "    \n",
    "    \n",
    "    with open(path) as read_json:\n",
    "        case = json.load(read_json)\n",
    "        read_json.close()\n",
    "        \n",
    "    return case\n",
    "    \n",
    "getCase(\"HUDOC-ECHR-2019-002-12312\")"
   ]
  },
  {
   "cell_type": "code",
   "execution_count": 27,
   "metadata": {},
   "outputs": [
    {
     "name": "stdout",
     "output_type": "stream",
     "text": [
      "CASE: HUDOC-ECHR-2019-002-12312\n",
      "================================\n",
      "\n"
     ]
    },
    {
     "data": {
      "text/html": [
       "<div>\n",
       "<p>Information Note on the Court’s case-law 225</p>\n",
       "<p>January 2019</p>\n",
       "<p><i><b>Catt v. the United Kingdom</b></i><b> - 43514/15</b></p>\n",
       "<p>Judgment 24.1.2019 [Section I]</p>\n",
       "<p class=\"section\">Article 8</p>\n",
       "<p class=\"section\">Article 8-1</p>\n",
       "<p class=\"section\">Respect for private life</p>\n",
       "<p>Retention of peaceful campaigner’s data on police database: <i>violation</i></p>\n",
       "<p><i>Facts</i> – The applicant had been an active peace campaigner since 1948. In 2005 he began participating in demonstrations organised by a violent protest group which attracted a substantial policing presence. The applicant himself had never been convicted of any offence and his risk of violent criminality was remote.</p>\n",
       "<p>In domestic proceedings the applicant sought the deletion of his data held on a police database known as the “Extremism database”. The data held included information such his name, address, date of birth and presence at demonstrations. Most of the records related to demonstrations organised by the violent protest group but others related to the applicant’s attendance at political and trade union events.</p>\n",
       "<p><i>Law</i> – Article 8: As to whether there had been a pressing need to <i>collect</i> the personal data about the applicant, the Court accepted that there had. The personal data in question had been overtly obtained. It was in the nature of intelligence gathering that the police would first need to collect data, before evaluating its value. The police had an obvious role to monitor protests where the activities of the organising group were known to be violent and potentially criminal. Therefore, even if the applicant himself had not been suspected of being directly involved in that group’s criminal activities, it was justifiable for the police to collect his personal data. He had after all decided to repeatedly and publicly align himself with the activities of a violent protest group.</p>\n",
       "<p>As to whether there was a pressing need to <i>retain</i> the applicant’s data, the Court considered there was not. In the absence of any rules setting a definitive maximum time limit on the retention of such data,the applicant had been entirely reliant on the diligent application of the highly flexible safeguards in the relevant Code of Practice to ensure the proportionate retention of his data. Where the Sate chose to put in place such a system, the necessity of the effective procedural safeguards became decisive. Those safeguards had to enable the deletion of any such data, once its continued retention became disproportionate.</p>\n",
       "<p>The applicant’s personal data could potentially have been retained indefinitely. Whilst the applicant could have and did request the disclosure and destruction of his data, that safeguard appeared to have been of limited impact given the refusal to delete his data or to provide any explanation for its continued retention. The absence of effective safeguards was of particular concern in the applicant’s case as the personal data retained revealed political opinions which attracted a heightened level of protection. Engaging in peaceful protest had specific protection under Article 1, which also contained special protection for trade unions, whose events the applicant had attended. </p>\n",
       "<p>The definition of “domestic extremism” in the context of the “Extremism database” given in the domestic proceedings referred to collection of data on groups and individuals who had acted “outside the democratic process”. Therefore, the police did not appear to have respected their own definition in retaining data on the applicant’s association with peaceful, political events. </p>\n",
       "<p>The retention of the applicant’s data in particular concerning peaceful protest had neither been shown to be absolutely necessary, nor for the purposes of a particular inquiry.</p>\n",
       "<p>The Court was not convinced that deletion of the data would be so burdensome as to render it unreasonable. It would be entirely contrary to the need to protect private life under Article 8 if a Government could create a database in such a manner that the data in it could not be easily reviewed or edited, and then use that development as a justification to refuse to remove information from that database.</p>\n",
       "<p><i>Conclusion</i>: violation (unanimously).</p>\n",
       "<p>Article 41: no claim made in respect of damage.</p>\n",
       "<p>(See also <i>Roman Zakharov v. Russia</i> [GC], 47143/06, 4 December 2015, <u>Information Note 191</u>; <i>S.M.M. v. the United Kingdom</i>, <u>77450/12</u>, 22 June 2017; <i>M.M. v. the United Kingdom</i>, 24029/07, 13 November 2012, <u>Information Note 157</u>; as well as Committee of Ministers’ <u>Resolution (74)</u><u>29</u> on the protection of the privacy of individuals <i>vis-à-vis</i> electronic data banks in the public sector and <u>Recommendation R (87)</u><u>15</u> of the Committee of Ministers to member States regulating the use of personal data in the police sector)</p>\n",
       "<p></p>\n",
       "<p align=\"center\">© Council of Europe/European Court of Human Rights<br>This summary by the Registry does not bind the Court.</p>\n",
       "</div>"
      ],
      "text/plain": [
       "<IPython.core.display.HTML object>"
      ]
     },
     "metadata": {},
     "output_type": "display_data"
    }
   ],
   "source": [
    "#Function: renderCaseHTML\n",
    "def renderHTML(ID, path =\"/Users/conorosully/Documents/Legal-Case-Prediction/data/preclean/casetext\"):\n",
    "    \"\"\"\n",
    "    Display case in HTML format\n",
    "    ID: id of case\n",
    "    path: path of case\n",
    "    \"\"\"\n",
    "\n",
    "    case = getCase(ID)\n",
    "    case_text = case[ID]\n",
    "    \n",
    "    print(\"CASE: {}\".format(ID))\n",
    "    print(\"=\"*32)\n",
    "    print()\n",
    "    \n",
    "    return display(HTML(case_text))\n",
    "\n",
    "renderHTML(\"HUDOC-ECHR-2019-002-12312\")"
   ]
  },
  {
   "cell_type": "code",
   "execution_count": null,
   "metadata": {},
   "outputs": [],
   "source": []
  }
 ],
 "metadata": {
  "kernelspec": {
   "display_name": "Python 3",
   "language": "python",
   "name": "python3"
  },
  "language_info": {
   "codemirror_mode": {
    "name": "ipython",
    "version": 3
   },
   "file_extension": ".py",
   "mimetype": "text/x-python",
   "name": "python",
   "nbconvert_exporter": "python",
   "pygments_lexer": "ipython3",
   "version": "3.6.6"
  }
 },
 "nbformat": 4,
 "nbformat_minor": 2
}

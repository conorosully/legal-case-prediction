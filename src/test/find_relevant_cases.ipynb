{
 "cells": [
  {
   "cell_type": "markdown",
   "metadata": {},
   "source": [
    "# Find all the relevant cases <br>\n",
    "Find the case numbers of Judgements for which a form is present"
   ]
  },
  {
   "cell_type": "code",
   "execution_count": 2,
   "metadata": {},
   "outputs": [],
   "source": [
    "#Imports\n",
    "import numpy as np\n",
    "import pandas as pd\n",
    "\n",
    "import json\n",
    "\n",
    "import functions \n",
    "clean = functions.clean()"
   ]
  },
  {
   "cell_type": "code",
   "execution_count": 3,
   "metadata": {},
   "outputs": [
    {
     "data": {
      "text/plain": [
       "['<h3>the law</h3>', '<br>the law</h3>', '<ul><li>the law</li></ul>']"
      ]
     },
     "execution_count": 3,
     "metadata": {},
     "output_type": "execute_result"
    }
   ],
   "source": [
    "path = \"/Users/conorosully/Documents/Legal-Case-Prediction/data/preclean/forms.json\"\n",
    "import json\n",
    "with open(path, 'r') as outfile:\n",
    "    forms = json.load(outfile)\n",
    "    \n",
    "forms['law']"
   ]
  },
  {
   "cell_type": "code",
   "execution_count": 4,
   "metadata": {},
   "outputs": [
    {
     "name": "stdout",
     "output_type": "stream",
     "text": [
      "55652\n"
     ]
    },
    {
     "data": {
      "text/html": [
       "<div>\n",
       "<style scoped>\n",
       "    .dataframe tbody tr th:only-of-type {\n",
       "        vertical-align: middle;\n",
       "    }\n",
       "\n",
       "    .dataframe tbody tr th {\n",
       "        vertical-align: top;\n",
       "    }\n",
       "\n",
       "    .dataframe thead th {\n",
       "        text-align: right;\n",
       "    }\n",
       "</style>\n",
       "<table border=\"1\" class=\"dataframe\">\n",
       "  <thead>\n",
       "    <tr style=\"text-align: right;\">\n",
       "      <th></th>\n",
       "      <th>id</th>\n",
       "      <th>type</th>\n",
       "      <th>url</th>\n",
       "      <th>doc-name</th>\n",
       "      <th>doc-id-label</th>\n",
       "      <th>doc-date</th>\n",
       "      <th>vl-type</th>\n",
       "      <th>created-at</th>\n",
       "      <th>updated-at</th>\n",
       "      <th>app-no-parts</th>\n",
       "      <th>...</th>\n",
       "      <th>courts</th>\n",
       "      <th>ecli</th>\n",
       "      <th>judgement-date</th>\n",
       "      <th>judges</th>\n",
       "      <th>last-modified-time</th>\n",
       "      <th>nonviolations</th>\n",
       "      <th>organisations</th>\n",
       "      <th>respondents</th>\n",
       "      <th>separate-opinion</th>\n",
       "      <th>violations</th>\n",
       "    </tr>\n",
       "  </thead>\n",
       "  <tbody>\n",
       "    <tr>\n",
       "      <th>0</th>\n",
       "      <td>HUDOC-ECHR-1959-001-49198</td>\n",
       "      <td>eu-chrs</td>\n",
       "      <td>http://hudoc.echr.coe.int/app/conversion/docx/...</td>\n",
       "      <td>greece &lt;br&gt;against&lt;br&gt; the united kingdom</td>\n",
       "      <td>176/56</td>\n",
       "      <td>1959-04-20</td>\n",
       "      <td>eu_chr</td>\n",
       "      <td>2017-09-18T10:01:36.112Z</td>\n",
       "      <td>2018-10-26T16:53:58.954Z</td>\n",
       "      <td>['176', '56']</td>\n",
       "      <td>...</td>\n",
       "      <td>NaN</td>\n",
       "      <td>NaN</td>\n",
       "      <td>NaN</td>\n",
       "      <td>NaN</td>\n",
       "      <td>2018-10-07</td>\n",
       "      <td>NaN</td>\n",
       "      <td>['Committee of Ministers']</td>\n",
       "      <td>['GBR']</td>\n",
       "      <td>NaN</td>\n",
       "      <td>NaN</td>\n",
       "    </tr>\n",
       "  </tbody>\n",
       "</table>\n",
       "<p>1 rows × 23 columns</p>\n",
       "</div>"
      ],
      "text/plain": [
       "                          id     type  \\\n",
       "0  HUDOC-ECHR-1959-001-49198  eu-chrs   \n",
       "\n",
       "                                                 url  \\\n",
       "0  http://hudoc.echr.coe.int/app/conversion/docx/...   \n",
       "\n",
       "                                    doc-name doc-id-label    doc-date vl-type  \\\n",
       "0  greece <br>against<br> the united kingdom       176/56  1959-04-20  eu_chr   \n",
       "\n",
       "                 created-at                updated-at   app-no-parts  ...  \\\n",
       "0  2017-09-18T10:01:36.112Z  2018-10-26T16:53:58.954Z  ['176', '56']  ...   \n",
       "\n",
       "  courts ecli judgement-date judges last-modified-time nonviolations  \\\n",
       "0    NaN  NaN            NaN    NaN         2018-10-07           NaN   \n",
       "\n",
       "                organisations respondents separate-opinion violations  \n",
       "0  ['Committee of Ministers']     ['GBR']              NaN        NaN  \n",
       "\n",
       "[1 rows x 23 columns]"
      ]
     },
     "execution_count": 4,
     "metadata": {},
     "output_type": "execute_result"
    }
   ],
   "source": [
    "# Get attributes\n",
    "att = pd.read_csv(\"/Users/conorosully/Documents/Legal-Case-Prediction/data/preclean/case_attributes.csv\",'#')\n",
    "print(len(att))\n",
    "att.head(1)"
   ]
  },
  {
   "cell_type": "code",
   "execution_count": 9,
   "metadata": {},
   "outputs": [
    {
     "data": {
      "text/plain": [
       "['<h3>procedure</h3>',\n",
       " '<h3>the facts</h3>',\n",
       " '<h4>i. the circumstances of the case</h4>',\n",
       " '<h4>ii. relevant domestic law and practice</h4>',\n",
       " '<h3>the law</h3>',\n",
       " '<h3>for these reasons the court unanimously</h3>']"
      ]
     },
     "execution_count": 9,
     "metadata": {},
     "output_type": "execute_result"
    }
   ],
   "source": [
    "id_form = {}\n",
    "relevant_ID = []\n",
    "for i in att['id']:\n",
    "    try:\n",
    "        case = clean.getCase(i)[i]\n",
    "    except: \n",
    "        print(i)\n",
    "    form = clean.getForm(case,forms)\n",
    "    if clean.checkForm(form):\n",
    "        relevant_ID.append(i) \n",
    "        id_form[i] = form\n",
    "        \n",
    "        #Add case ID if a form exists\n",
    "len(relevant_ID)\n",
    "id_form[\"HUDOC-ECHR-2009-001-93695\"]"
   ]
  },
  {
   "cell_type": "code",
   "execution_count": 10,
   "metadata": {},
   "outputs": [],
   "source": [
    "path = \"/Users/conorosully/Documents/Legal-Case-Prediction/data/preclean/id_form.json\"\n",
    "with open(path, 'w') as outfile:\n",
    "    json.dump(id_form, outfile)\n"
   ]
  },
  {
   "cell_type": "code",
   "execution_count": 11,
   "metadata": {},
   "outputs": [],
   "source": [
    "relevant_ID = pd.Series(relevant_ID,name='ID')"
   ]
  },
  {
   "cell_type": "code",
   "execution_count": 12,
   "metadata": {},
   "outputs": [
    {
     "name": "stderr",
     "output_type": "stream",
     "text": [
      "/Users/conorosully/miniconda3/lib/python3.6/site-packages/ipykernel_launcher.py:2: FutureWarning: The signature of `Series.to_csv` was aligned to that of `DataFrame.to_csv`, and argument 'header' will change its default value from False to True: please pass an explicit value to suppress this warning.\n",
      "  \n"
     ]
    }
   ],
   "source": [
    "path = \"/Users/conorosully/Documents/Legal-Case-Prediction/data/preclean/relevantID.csv\"\n",
    "relevant_ID.to_csv(path,index=False)"
   ]
  }
 ],
 "metadata": {
  "kernelspec": {
   "display_name": "Python 3",
   "language": "python",
   "name": "python3"
  },
  "language_info": {
   "codemirror_mode": {
    "name": "ipython",
    "version": 3
   },
   "file_extension": ".py",
   "mimetype": "text/x-python",
   "name": "python",
   "nbconvert_exporter": "python",
   "pygments_lexer": "ipython3",
   "version": "3.6.8"
  }
 },
 "nbformat": 4,
 "nbformat_minor": 2
}
